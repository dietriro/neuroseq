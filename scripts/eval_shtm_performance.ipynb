{
 "cells": [
  {
   "metadata": {},
   "cell_type": "markdown",
   "source": "## Imports",
   "id": "8fedd8e714667cdc"
  },
  {
   "metadata": {},
   "cell_type": "code",
   "source": [
    "import csv\n",
    "import os\n",
    "import sys\n",
    "import numpy as np\n",
    "import warnings\n",
    "\n",
    "pkg_path = os.path.abspath(os.path.join(os.getcwd(), os.pardir))\n",
    "sys.path.append(pkg_path)\n",
    "\n",
    "np.set_printoptions(threshold=np.inf, suppress=True, linewidth=np.inf)\n",
    "warnings.filterwarnings(action='ignore', category=UserWarning)\n",
    "\n",
    "import neuroseq.addsrc\n",
    "from neuroseq.common.config import *\n",
    "from neuroseq.core.data import load_yaml\n",
    "from neuroseq.core.helpers import Latex"
   ],
   "id": "16853bf3f9aec56",
   "outputs": [],
   "execution_count": null
  },
  {
   "metadata": {},
   "cell_type": "markdown",
   "source": "## Config",
   "id": "fa1fdd32ca61e018"
  },
  {
   "metadata": {},
   "cell_type": "code",
   "source": [
    "evaluation_type = 'onchip'\n",
    "extra_key = \"num-epochs\"\n",
    "\n",
    "col_order = [0, -2, -1, 1, 2, 3]"
   ],
   "id": "c8dd5bd6a1c40e20",
   "outputs": [],
   "execution_count": null
  },
  {
   "metadata": {},
   "cell_type": "code",
   "source": [
    "config_file_name = \"shtm2bss_config_evaluation.yaml\"\n",
    "config = load_yaml(RuntimeConfig.Paths.config, config_file_name)[evaluation_type]\n",
    "\n",
    "exp_ids = config[\"exp_ids\"]\n",
    "backends = config[\"backends\"]\n",
    "target_keys = config[\"target_keys\"]"
   ],
   "id": "87a8a73715be003d",
   "outputs": [],
   "execution_count": null
  },
  {
   "metadata": {},
   "cell_type": "markdown",
   "source": "## Convert results to Latex table",
   "id": "f8fe0e57097193a9"
  },
  {
   "metadata": {},
   "cell_type": "code",
   "source": [
    "output = list()\n",
    "output.append(target_keys + [f\"{extra_key}_max\"])\n",
    "\n",
    "# print header row\n",
    "Latex.print_row(output[-1], col_order)\n",
    "\n",
    "for i_exp, exp_id in enumerate(exp_ids):\n",
    "    backend = backends[i_exp]\n",
    "    folder_path = join(RuntimeConfig.Paths.folders_experiment[backend], EXPERIMENT_SUBFOLDERS[ExperimentType.EVAL_MULTI])\n",
    "    file_path = join(folder_path, f\"SHTMTotal_{exp_id}\", \"performance.csv\")\n",
    "    with open(file_path, 'r') as csvfile:\n",
    "        csv_reader = csv.reader(csvfile)\n",
    "        lines = list(csv_reader)\n",
    "        data = dict(zip(lines[0], lines[1]))\n",
    "        output_tmp = [data.get(k, \"0\") for k in target_keys]\n",
    "    file_path = join(folder_path, f\"SHTMTotal_{exp_id}\", \"experimental_results.csv\")\n",
    "    with open(file_path, 'r') as csvfile:\n",
    "        csv_reader = csv.reader(csvfile)\n",
    "        lines = list(csv_reader)\n",
    "        extra_key_id = lines[0].index(extra_key)\n",
    "        max_value = -1\n",
    "        for line in lines[1:]:\n",
    "            if int(line[extra_key_id]) < 0:\n",
    "                max_value = \"100+\"\n",
    "                break\n",
    "            max_value = max(int(line[extra_key_id]), max_value)\n",
    "        min_value = 101\n",
    "        for line in lines[1:]:\n",
    "            if int(line[extra_key_id]) > 0:\n",
    "                min_value = min(int(line[extra_key_id]), min_value)\n",
    "        if min_value > 100:\n",
    "            min_value = \"100+\"\n",
    "        output_tmp.append(str(min_value))\n",
    "        output_tmp.append(str(max_value))\n",
    "    output.append(output_tmp)\n",
    "\n",
    "    Latex.print_row(output[-1], col_order, exp_id)\n"
   ],
   "id": "8202109fa6fe3f50",
   "outputs": [],
   "execution_count": null
  }
 ],
 "metadata": {
  "kernelspec": {
   "display_name": "htm-on-bss2",
   "language": "python",
   "name": "htm-on-bss2"
  },
  "language_info": {
   "codemirror_mode": {
    "name": "ipython",
    "version": 2
   },
   "file_extension": ".py",
   "mimetype": "text/x-python",
   "name": "python",
   "nbconvert_exporter": "python",
   "pygments_lexer": "ipython2",
   "version": "2.7.6"
  }
 },
 "nbformat": 4,
 "nbformat_minor": 5
}
