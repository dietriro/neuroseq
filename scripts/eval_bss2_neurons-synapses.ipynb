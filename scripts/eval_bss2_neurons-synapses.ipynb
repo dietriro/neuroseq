{
 "cells": [
  {
   "cell_type": "markdown",
   "id": "24e917ed-7374-497f-8d0f-bb675f7acdb4",
   "metadata": {},
   "source": [
    "## Imports"
   ]
  },
  {
   "cell_type": "code",
   "execution_count": 1,
   "id": "f96afc7a-f17e-4f82-9c99-5e3065227ba6",
   "metadata": {},
   "outputs": [
    {
     "name": "stderr",
     "output_type": "stream",
     "text": [
      "Could not load module 'colorlog'. Continuing logging without colored formatter.\n"
     ]
    }
   ],
   "source": [
    "import numpy as np\n",
    "import quantities\n",
    "import copy\n",
    "\n",
    "import sys\n",
    "import os \n",
    "import warnings\n",
    "import numpy as np\n",
    "\n",
    "pkg_path = os.path.abspath(os.path.join(os.getcwd(), os.pardir))\n",
    "sys.path.append(pkg_path)\n",
    "\n",
    "import neuroseq.addsrc\n",
    "\n",
    "\n",
    "from matplotlib import pyplot as plt\n",
    "from tabulate import tabulate\n",
    "from abc import ABC\n",
    "\n",
    "import neuroseq.brainscales2.patches\n",
    "from neuroseq.brainscales2.config import *\n",
    "from neuroseq.brainscales2.patches import patch_pynn_calibration\n",
    "from neuroseq.brainscales2.plasticity import PlasticityOnChip\n",
    "from neuroseq.core.logging import log\n",
    "from neuroseq.core.helpers import id_to_symbol\n",
    "import neuroseq.common.network as network\n",
    "from neuroseq.common.config import NeuronType, RecTypes\n",
    "from neuroseq.brainscales2.network import SHTMTotal\n",
    "from neuroseq.common.config import *\n",
    "from neuroseq.core.parameters import Parameters\n",
    "from neuroseq.brainscales2.hardware import hardware_initialization\n",
    "\n",
    "\n",
    "from pynn_brainscales import brainscales2 as pynn\n",
    "from pynn_brainscales.brainscales2 import Projection, PopulationView\n",
    "from pynn_brainscales.brainscales2.populations import Population\n",
    "from pynn_brainscales.brainscales2.standardmodels.cells import SpikeSourceArray\n",
    "from pynn_brainscales.brainscales2.connectors import AllToAllConnector, FixedNumberPreConnector, OneToOneConnector\n",
    "from pynn_brainscales.brainscales2.standardmodels.synapses import StaticSynapse\n",
    "from pyNN.random import NumpyRNG\n",
    "from dlens_vx_v3 import sta, halco, hal, lola\n",
    "\n",
    "RECORDING_VALUES = {\n",
    "    NeuronType.Soma: {RecTypes.SPIKES: \"spikes\", RecTypes.V: \"v\"},\n",
    "    NeuronType.Dendrite: {RecTypes.SPIKES: \"spikes\", RecTypes.V: \"v\"},\n",
    "    NeuronType.Inhibitory: {RecTypes.SPIKES: \"spikes\", RecTypes.V: \"v\"}\n",
    "}"
   ]
  },
  {
   "cell_type": "markdown",
   "id": "56000fc7-742d-4e1a-9835-89659eaf62e7",
   "metadata": {},
   "source": [
    "## Configuration"
   ]
  },
  {
   "cell_type": "code",
   "execution_count": 2,
   "id": "55d30725-e912-4597-9d49-48718ba97222",
   "metadata": {},
   "outputs": [],
   "source": [
    "runtime = 1\n",
    "num_neurons = 2\n",
    "spike_times_soma = [[0.01, 0.1], []]\n",
    "spike_times_dend = [[], []]"
   ]
  },
  {
   "cell_type": "markdown",
   "id": "fcf1a014-052b-47d6-a3fd-8be40ef5c3ed",
   "metadata": {},
   "source": [
    "## Load parameters"
   ]
  },
  {
   "cell_type": "code",
   "execution_count": 3,
   "id": "51d5d5ec-d32d-48c3-9f08-8f980f8658ab",
   "metadata": {},
   "outputs": [],
   "source": [
    "p = Parameters(network_type=SHTMTotal)\n",
    "p.load_default_params()"
   ]
  },
  {
   "cell_type": "code",
   "execution_count": 4,
   "id": "6988220d-5369-4148-80ef-f0045a23fef9",
   "metadata": {},
   "outputs": [],
   "source": [
    "patch_pynn_calibration(\n",
    "            p.Calibration.padi_bus_dacen_extension,\n",
    "            p.Calibration.correlation_amplitude,\n",
    "            p.Calibration.correlation_time_constant,\n",
    "        )"
   ]
  },
  {
   "cell_type": "code",
   "execution_count": 5,
   "id": "a73e69ce-8419-4caa-92cb-0ec6d017a257",
   "metadata": {},
   "outputs": [
    {
     "name": "stdout",
     "output_type": "stream",
     "text": [
      "\u001B[32mINFO \u001B[0m 07:32:43,326  demo_helpers Using setup hxcube7fpga0chip57_1\n"
     ]
    }
   ],
   "source": [
    "# TODO: remove once grenade supports dense inter-population-view projections\n",
    "neuronPermutation = []\n",
    "alphabet_size = 1\n",
    "num_neurons_per_symbol = 2\n",
    "for a in range(alphabet_size):\n",
    "    # dendrites\n",
    "    for i in range(num_neurons_per_symbol):\n",
    "        neuronPermutation.append((a * num_neurons_per_symbol + i) * 2)\n",
    "for a in range(alphabet_size):\n",
    "    # somas\n",
    "    for i in range(num_neurons_per_symbol):\n",
    "        neuronPermutation.append((a * num_neurons_per_symbol + i) * 2 + 1)\n",
    "for i in range(alphabet_size * num_neurons_per_symbol * 2, 512):\n",
    "    neuronPermutation.append(i)\n",
    "\n",
    "hardware_initialization(neuronPermutation=neuronPermutation)"
   ]
  },
  {
   "cell_type": "markdown",
   "id": "eee07ab2-ca6a-436e-b103-445427847d38",
   "metadata": {},
   "source": [
    "## Define Neurons"
   ]
  },
  {
   "cell_type": "code",
   "execution_count": 6,
   "id": "4f26a6c1-dd35-407d-b61f-5f673a33b17b",
   "metadata": {},
   "outputs": [],
   "source": [
    "# Multi-Compartment\n",
    "dendrites = pynn.Population(num_neurons, pynn.cells.CalibHXNeuronCuba(\n",
    "    # tau_m=p.Neurons.Excitatory.tau_m[0],\n",
    "    # tau_syn_I=p.Neurons.Excitatory.tau_syn_I[0],\n",
    "    # tau_syn_E=p.Neurons.Excitatory.tau_syn_E[0],\n",
    "    # v_rest=p.Neurons.Excitatory.v_rest[0],\n",
    "    # v_reset=p.Neurons.Excitatory.v_reset[0],\n",
    "    # v_thresh=p.Neurons.Excitatory.v_thresh[0],\n",
    "    # tau_refrac=p.Neurons.Excitatory.tau_refrac[0],\n",
    "))\n",
    "\n",
    "somas = pynn.Population(num_neurons, pynn.cells.CalibHXNeuronCuba(\n",
    "    tau_m=p.Neurons.Excitatory.tau_m[1],\n",
    "    tau_syn_I=p.Neurons.Excitatory.tau_syn_I[1],\n",
    "    tau_syn_E=p.Neurons.Excitatory.tau_syn_E[1],\n",
    "    v_rest=p.Neurons.Excitatory.v_rest[1],\n",
    "    v_reset=p.Neurons.Excitatory.v_reset[1],\n",
    "    v_thresh=p.Neurons.Excitatory.v_thresh[1],\n",
    "    tau_refrac=p.Neurons.Excitatory.tau_refrac[1],\n",
    "))\n",
    "\n",
    "somas.record([RECORDING_VALUES[NeuronType.Soma][RecTypes.SPIKES]])\n",
    "dendrites.record([RECORDING_VALUES[NeuronType.Dendrite][RecTypes.SPIKES]])\n",
    "\n",
    "\n",
    "# External\n",
    "neurons_ext_soma = Population(num_neurons, SpikeSourceArray())\n",
    "neurons_ext_soma.set(spike_times=spike_times_soma)\n",
    "\n",
    "neurons_ext_dendrite = Population(num_neurons, SpikeSourceArray())\n",
    "neurons_ext_dendrite.set(spike_times=spike_times_dend)"
   ]
  },
  {
   "cell_type": "code",
   "execution_count": 7,
   "id": "f095ba6e-c2a8-45b7-b72b-7c88768c6249",
   "metadata": {},
   "outputs": [
    {
     "name": "stderr",
     "output_type": "stream",
     "text": [
      "/tmp/ipykernel_55879/4262919866.py:1: DeprecationWarning: Please use pyNN.run(None, pyNN.RunCommand.PREPARE)\n",
      "  pynn.preprocess()\n",
      "/srv/main-spack-instance-2402/spack/var/spack/environments/experimental/.spack-env/view/lib/python3.8/site-packages/calix/spiking/correlation_measurement.py:603: RuntimeWarning: Mean of empty slice\n",
      "  taus = np.nanmean(taus, axis=0)\n",
      "/srv/main-spack-instance-2402/spack/var/spack/environments/experimental/.spack-env/view/lib/python3.8/site-packages/calix/spiking/correlation_measurement.py:575: RuntimeWarning: Mean of empty slice\n",
      "  return np.nanmean(amplitudes, axis=0)\n"
     ]
    },
    {
     "name": "stdout",
     "output_type": "stream",
     "text": [
      "\u001B[33mWARN \u001B[0m 07:59:15,860  lib-rcf.OnDemandUpload.loop_upload Error while uploading: Unexpected peer disconnection.\n",
      "\u001B[33mWARN \u001B[0m 07:59:15,885  lib-rcf.OnDemandUpload.loop_upload Error while uploading: Unexpected peer disconnection.\n",
      "\u001B[33mWARN \u001B[0m 07:59:16,901  lib-rcf.OnDemandUpload.loop_upload Error while uploading: Unable to establish network connection. Connection refused\n",
      "\u001B[33mWARN \u001B[0m 07:59:17,912  lib-rcf.OnDemandUpload.loop_upload Error while uploading: Unable to establish network connection. Connection refused\n",
      "\u001B[33mWARN \u001B[0m 07:59:18,936  lib-rcf.OnDemandUpload.loop_upload Error while uploading: Unexpected peer disconnection.\n",
      "\u001B[33mWARN \u001B[0m 07:59:19,958  lib-rcf.OnDemandUpload.loop_upload Error while uploading: Unexpected peer disconnection.\n"
     ]
    }
   ],
   "source": [
    "pynn.preprocess()\n",
    "\n",
    "for i in range(len(dendrites)):\n",
    "    dendrites.actual_hwparams[i].multicompartment.enable_conductance = True\n",
    "    dendrites.actual_hwparams[i].multicompartment.i_bias_nmda = 120\n",
    "    dendrites.actual_hwparams[i].multicompartment.connect_soma_right = True\n",
    "    dendrites.actual_hwparams[i].refractory_period.reset_holdoff = 0\n",
    "\n",
    "for i in range(len(somas)):\n",
    "    somas.actual_hwparams[i].multicompartment.connect_soma = True"
   ]
  },
  {
   "cell_type": "markdown",
   "id": "48f6c54a-05ba-4786-8def-5d689dfdb540",
   "metadata": {},
   "source": [
    "## Define Connections"
   ]
  },
  {
   "cell_type": "code",
   "execution_count": 8,
   "id": "581ba4cc-2ed6-4027-a763-98706a1babc6",
   "metadata": {},
   "outputs": [],
   "source": [
    "from pynn_brainscales.brainscales2.connectors import OneToOneConnector\n",
    "\n",
    "# External to Soma\n",
    "ext_to_soma = Projection(\n",
    "                    neurons_ext_soma,\n",
    "                    somas,\n",
    "                    OneToOneConnector(),\n",
    "                    synapse_type=StaticSynapse(weight=p.Synapses.w_ext_exc),\n",
    "                    receptor_type=p.Synapses.receptor_ext_exc)\n",
    "\n",
    "# External to Dendrite\n",
    "ext_to_dend = Projection(\n",
    "                    neurons_ext_dendrite,\n",
    "                    dendrites,\n",
    "                    OneToOneConnector(),\n",
    "                    synapse_type=StaticSynapse(weight=400),\n",
    "                    receptor_type=p.Synapses.receptor_ext_exc)\n",
    "\n",
    "# Soma to Dendrite (dummy)\n",
    "soma_to_dend = Projection(\n",
    "                    somas,\n",
    "                    dendrites,\n",
    "                    OneToOneConnector(),\n",
    "                    synapse_type=StaticSynapse(weight=0),\n",
    "                    receptor_type=p.Synapses.receptor_exc_exc)"
   ]
  },
  {
   "cell_type": "markdown",
   "id": "7887f33d-caec-4989-ba10-3933d9216ecc",
   "metadata": {},
   "source": [
    "## Run Emulation"
   ]
  },
  {
   "cell_type": "code",
   "execution_count": 9,
   "id": "cc5ebc99-0eb4-4221-b3c9-d747f594e7ec",
   "metadata": {},
   "outputs": [],
   "source": [
    "pynn.run(runtime)"
   ]
  },
  {
   "cell_type": "markdown",
   "id": "2af9fd92-af7f-4186-8795-20f96056d74b",
   "metadata": {},
   "source": [
    "## Retrieve Data"
   ]
  },
  {
   "cell_type": "markdown",
   "id": "a6b02331-0b59-4635-87a3-22d663a8e0ca",
   "metadata": {},
   "source": [
    "### Spikes"
   ]
  },
  {
   "cell_type": "code",
   "execution_count": 10,
   "id": "63cbaf68-8cf6-4706-a5f9-cba7b8ef65cc",
   "metadata": {},
   "outputs": [
    {
     "name": "stdout",
     "output_type": "stream",
     "text": [
      "Spikes (dendrites): [<SpikeTrain(array([], dtype=float64) * ms, [0.0 ms, 1.0 ms])>, <SpikeTrain(array([], dtype=float64) * ms, [0.0 ms, 1.0 ms])>]\n",
      "Spikes (somas): [<SpikeTrain(array([0.013264, 0.103248]) * ms, [0.0 ms, 1.0 ms])>, <SpikeTrain(array([], dtype=float64) * ms, [0.0 ms, 1.0 ms])>]\n"
     ]
    }
   ],
   "source": [
    "spikes_dendrites = dendrites.get_data(RECORDING_VALUES[NeuronType.Dendrite][RecTypes.SPIKES]).segments[-1].spiketrains\n",
    "print(f\"Spikes (dendrites): {spikes_dendrites}\")\n",
    "\n",
    "spikes_somas = somas.get_data(RECORDING_VALUES[NeuronType.Soma][RecTypes.SPIKES]).segments[-1].spiketrains\n",
    "print(f\"Spikes (somas): {spikes_somas}\")"
   ]
  },
  {
   "cell_type": "markdown",
   "id": "844bce80-8c75-4a61-8bce-f1071bc1e45f",
   "metadata": {},
   "source": [
    "## Plot Data"
   ]
  },
  {
   "cell_type": "code",
   "execution_count": 11,
   "id": "abf0c3c4-9670-4833-8f68-4c8c75e279d5",
   "metadata": {},
   "outputs": [
    {
     "data": {
      "image/png": "[encoded data removed]",
      "text/plain": [
       "<Figure size 640x480 with 1 Axes>"
      ]
     },
     "metadata": {},
     "output_type": "display_data"
    }
   ],
   "source": [
    "%matplotlib inline\n",
    "import matplotlib.pyplot as plt\n",
    "\n",
    "for i_neuron in range(num_neurons):\n",
    "    plt.plot(spikes_dendrites[i_neuron], 'o')\n",
    "\n",
    "for i_neuron in range(num_neurons):\n",
    "    plt.plot(spikes_somas[i_neuron], 'o')"
   ]
  },
  {
   "cell_type": "code",
   "execution_count": 15,
   "id": "531daf3b-1ad0-4494-ad09-98df20dd0cbf",
   "metadata": {},
   "outputs": [],
   "source": [
    "neuron_id=0\n",
    "neuron_type=NeuronType.Dendrite\n",
    "show_legend=False\n",
    "\n",
    "pynn.reset()\n",
    "\n",
    "rec_neurons_exc = pynn.PopulationView(dendrites, [neuron_id])\n",
    "rec_neurons_exc.record([RECORDING_VALUES[neuron_type][RecTypes.V],\n",
    "                             RECORDING_VALUES[neuron_type][RecTypes.SPIKES]])\n",
    "\n",
    "pynn.run(runtime)\n",
    "\n",
    "data_v = rec_neurons_exc.get_data(\"v\").segments[-1].irregularlysampledsignals"
   ]
  },
  {
   "cell_type": "code",
   "execution_count": 17,
   "id": "31d7d4da-619a-45f6-bc36-2b3403caa220",
   "metadata": {},
   "outputs": [
    {
     "data": {
      "text/plain": [
       "[<matplotlib.lines.Line2D at 0x7f5427efadc0>]"
      ]
     },
     "execution_count": 17,
     "metadata": {},
     "output_type": "execute_result"
    },
    {
     "data": {
      "image/png": "[encoded data removed]",
      "text/plain": [
       "<Figure size 1500x600 with 1 Axes>"
      ]
     },
     "metadata": {},
     "output_type": "display_data"
    }
   ],
   "source": [
    "%matplotlib inline\n",
    "import matplotlib.pyplot as plt\n",
    "\n",
    "plt.figure(figsize=(15,6))\n",
    "plt.plot(data_v[0].times, data_v[0], alpha=0.5)"
   ]
  },
  {
   "cell_type": "markdown",
   "id": "2468b149-0086-401c-8be7-7e4ddc4e33b7",
   "metadata": {},
   "source": [
    "## Reset PyNN"
   ]
  },
  {
   "cell_type": "code",
   "execution_count": null,
   "id": "9f4d3d1d-d969-4d26-bb6d-8d3d48111c87",
   "metadata": {},
   "outputs": [],
   "source": [
    "pynn.reset()"
   ]
  }
 ],
 "metadata": {
  "kernelspec": {
   "display_name": "EBRAINS-experimental",
   "language": "python",
   "name": "ebrains-experimental"
  },
  "language_info": {
   "codemirror_mode": {
    "name": "ipython",
    "version": 3
   },
   "file_extension": ".py",
   "mimetype": "text/x-python",
   "name": "python",
   "nbconvert_exporter": "python",
   "pygments_lexer": "ipython3",
   "version": "3.8.11"
  }
 },
 "nbformat": 4,
 "nbformat_minor": 5
}
