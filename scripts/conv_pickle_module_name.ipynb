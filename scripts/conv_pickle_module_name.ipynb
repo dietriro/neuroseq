{
 "cells": [
  {
   "cell_type": "code",
   "id": "initial_id",
   "metadata": {
    "collapsed": true
   },
   "source": [
    "import pickle\n",
    "import sys\n",
    "import glob\n",
    "\n",
    "import neuroseq\n",
    "from neuroseq.core.logging import log\n",
    "from neuroseq.common.config import NeuronType "
   ],
   "outputs": [],
   "execution_count": null
  },
  {
   "metadata": {},
   "cell_type": "code",
   "source": [
    "file_path_root = \"../data/evaluation/**/*.pkl\"\n",
    "sys.modules[\"shtmbss2\"] = neuroseq\n",
    "neuron_types = {nt_i.NAME: nt_i for nt_i in [NeuronType.Dendrite, NeuronType.Soma, NeuronType.Inhibitory, NeuronType.InhibitoryGlobal]}\n",
    "\n",
    "dry_run = True"
   ],
   "id": "1e399057fd4d55d3",
   "outputs": [],
   "execution_count": null
  },
  {
   "metadata": {},
   "cell_type": "code",
   "source": [
    "\n",
    "for file_path in glob.glob(file_path_root, recursive=True):\n",
    "    events_new = dict()\n",
    "    with open(file_path, 'rb') as f:\n",
    "        log.info(f\"Updating file: {file_path}\")\n",
    "        events = pickle.load(f)\n",
    "        for neuron_type, values in events.items():\n",
    "            log.info(f\"Renaming '{neuron_type}' to '{neuron_types[neuron_type.NAME]}'\")\n",
    "            events_new[neuron_types[neuron_type.NAME]] = values\n",
    "        log.info(\"\")\n",
    "    \n",
    "    if not dry_run:\n",
    "        with open(file_path, 'wb') as f:\n",
    "            pickle.dump(events_new, f)\n",
    "    "
   ],
   "id": "f2141630e8f2dd19",
   "outputs": [],
   "execution_count": null
  }
 ],
 "metadata": {
  "kernelspec": {
   "display_name": "shtm4pynn",
   "language": "python",
   "name": "shtm4pynn"
  },
  "language_info": {
   "codemirror_mode": {
    "name": "ipython",
    "version": 2
   },
   "file_extension": ".py",
   "mimetype": "text/x-python",
   "name": "python",
   "nbconvert_exporter": "python",
   "pygments_lexer": "ipython2",
   "version": "2.7.6"
  }
 },
 "nbformat": 4,
 "nbformat_minor": 5
}
