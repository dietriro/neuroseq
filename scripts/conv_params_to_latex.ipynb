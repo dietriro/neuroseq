{
 "cells": [
  {
   "metadata": {},
   "cell_type": "markdown",
   "source": "## Imports",
   "id": "a7e37a11209681a7"
  },
  {
   "metadata": {},
   "cell_type": "code",
   "source": [
    "import sys\n",
    "import os \n",
    "import warnings\n",
    "import numpy as np\n",
    "\n",
    "pkg_path = os.path.abspath(os.path.join(os.getcwd(), os.pardir))\n",
    "sys.path.append(pkg_path)\n",
    "\n",
    "np.set_printoptions(threshold=np.inf, suppress=True, linewidth=np.inf)\n",
    "warnings.filterwarnings(action='ignore', category=UserWarning)\n",
    "\n",
    "import neuroseq.addsrc\n",
    "# from neuroseq.common.config import RuntimeConfig, Backends\n",
    "from neuroseq.common.config import *\n",
    "from neuroseq.core.logging import log"
   ],
   "id": "99fc393fe5a6d6f6",
   "outputs": [],
   "execution_count": null
  },
  {
   "metadata": {},
   "cell_type": "code",
   "source": "RuntimeConfig.backend = Backends.NEST",
   "id": "e4ce8b4c73da1f0c",
   "outputs": [],
   "execution_count": null
  },
  {
   "metadata": {},
   "cell_type": "code",
   "source": [
    "if RuntimeConfig.backend == Backends.BRAIN_SCALES_2:\n",
    "    from neuroseq.brainscales2.network import SHTMTotal\n",
    "    from neuroseq.brainscales2.hardware import hardware_initialization\n",
    "    hardware_initialization()\n",
    "elif RuntimeConfig.backend == Backends.NEST:\n",
    "    from neuroseq.nest.network import SHTMTotal\n",
    "\n",
    "from neuroseq.core.parameters import NetworkParameters\n",
    "from neuroseq.core.helpers import Latex\n",
    "from neuroseq.core.data import load_yaml"
   ],
   "id": "e43fb1db4dfa5c21",
   "outputs": [],
   "execution_count": null
  },
  {
   "metadata": {},
   "cell_type": "markdown",
   "source": "## Config",
   "id": "d1d8a12ed0b698bb"
  },
  {
   "metadata": {},
   "cell_type": "code",
   "source": [
    "experiment_type = ExperimentType.EVAL_MULTI\n",
    "experiment_id = \"bss2_s1\"\n",
    "experiment_num = 2\n",
    "\n",
    "titles = {\n",
    "    \"experiment\": \"Experiment\",\n",
    "    \n",
    "}"
   ],
   "id": "5db61b6b985428c9",
   "outputs": [],
   "execution_count": null
  },
  {
   "metadata": {},
   "cell_type": "markdown",
   "source": "## Load Parameters",
   "id": "e00b480fc71f4121"
  },
  {
   "metadata": {},
   "cell_type": "code",
   "source": [
    "p = NetworkParameters(network_type=SHTMTotal)\n",
    "# p.load_experiment_params(experiment_type=ExperimentType.EVAL_MULTI, \n",
    "                         # experiment_id=experiment_id, \n",
    "                         # experiment_num=experiment_num)\n",
    "\n",
    "# load default params for yaml generation\n",
    "p.load_default_params()\n",
    "p_dict = p.dict()\n",
    "\n",
    "p_conv_path = join(RuntimeConfig.Paths.package, \"config\")\n",
    "p_conv = load_yaml(p_conv_path, \"shtm2bss_config_parameter-conversion.yaml\")\n"
   ],
   "id": "fe38778de8738e7",
   "outputs": [],
   "execution_count": null
  },
  {
   "metadata": {},
   "cell_type": "markdown",
   "source": "## Print all parameters in YAML syntax",
   "id": "4c5f9b1888b71096"
  },
  {
   "metadata": {},
   "cell_type": "code",
   "source": "NetworkParameters.print_parameter(p_dict)",
   "id": "fec8af02be29fd1a",
   "outputs": [],
   "execution_count": null
  },
  {
   "metadata": {},
   "cell_type": "markdown",
   "source": "## Print all parameters from YAML to Latex table",
   "id": "c47ca058c5ba5ae8"
  },
  {
   "metadata": {},
   "cell_type": "code",
   "source": [
    "cur_title_org = \"\"\n",
    "for param_name, param_values in p_conv[\"parameters\"].items():\n",
    "    new_title = param_name.rsplit('.', maxsplit=1)[0]\n",
    "    if cur_title_org != new_title:\n",
    "        if '.' in new_title:\n",
    "            cur_title = ' '.join(new_title.split('.')[::-1])\n",
    "            cur_title = cur_title.capitalize()\n",
    "        else:\n",
    "            cur_title = new_title.capitalize()\n",
    "        Latex.print_title(cur_title)\n",
    "        cur_title_org = new_title\n",
    "    \n",
    "    value = p.get_custom_param(param_name)\n",
    "    if param_name == \"experiment.sequences\":\n",
    "        if len(value[0]) > 3:\n",
    "            value = \"$S_2$\"\n",
    "        else:\n",
    "            value = \"$S_1$\"\n",
    "    else:\n",
    "        value = str(value).replace('_', '\\\\_')\n",
    "    Latex.print_row([param_values[\"name\"], str(value), param_values[\"description\"]])"
   ],
   "id": "adb373a48f6d53fe",
   "outputs": [],
   "execution_count": null
  }
 ],
 "metadata": {
  "kernelspec": {
   "display_name": "htm-on-bss2",
   "language": "python",
   "name": "htm-on-bss2"
  },
  "language_info": {
   "codemirror_mode": {
    "name": "ipython",
    "version": 2
   },
   "file_extension": ".py",
   "mimetype": "text/x-python",
   "name": "python",
   "nbconvert_exporter": "python",
   "pygments_lexer": "ipython2",
   "version": "2.7.6"
  }
 },
 "nbformat": 4,
 "nbformat_minor": 5
}
