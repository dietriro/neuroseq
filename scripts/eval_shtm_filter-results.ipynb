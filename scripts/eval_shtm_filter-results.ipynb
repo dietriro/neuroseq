{
 "cells": [
  {
   "cell_type": "code",
   "id": "initial_id",
   "metadata": {
    "collapsed": true,
    "ExecuteTime": {
     "end_time": "2024-05-27T07:55:33.314898Z",
     "start_time": "2024-05-27T07:55:33.239900Z"
    }
   },
   "source": [
    "import csv\n",
    "import numpy as np"
   ],
   "outputs": [],
   "execution_count": 1
  },
  {
   "metadata": {
    "ExecuteTime": {
     "end_time": "2024-05-27T07:55:33.321054Z",
     "start_time": "2024-05-27T07:55:33.316944Z"
    }
   },
   "cell_type": "code",
   "source": [
    "path = \"/home/rdtum/Downloads/experimental_results.csv\"\n",
    "column_name = \"duplicate_dendrites_running-avg-\"\n",
    "percs = [\"0.25\", \"0.5\", \"0.75\", \"1.0\"]"
   ],
   "id": "69a642c442fff936",
   "outputs": [],
   "execution_count": 2
  },
  {
   "metadata": {
    "ExecuteTime": {
     "end_time": "2024-05-27T07:56:38.885775Z",
     "start_time": "2024-05-27T07:56:38.860380Z"
    }
   },
   "cell_type": "code",
   "source": [
    "# remove all lines where the value is not decreasing over time\n",
    "\n",
    "with open(path, 'r') as csvfile:\n",
    "    lines = list(csv.reader(csvfile))\n",
    "    \n",
    "with open(path, 'w') as csvfile:\n",
    "    csv_writer = csv.writer(csvfile)\n",
    "\n",
    "    csv_writer.writerow(lines[0])\n",
    "    \n",
    "    for line in lines[1:]:\n",
    "        values = np.zeros(len(percs))\n",
    "        for i, perc in enumerate(percs):\n",
    "            col_id = lines[0].index(column_name+perc)\n",
    "            values[i] = line[col_id]\n",
    "        if (values[1:]-values[:-1] > 0).all():\n",
    "            csv_writer.writerow(line)\n"
   ],
   "id": "97b0516a789a169d",
   "outputs": [],
   "execution_count": 6
  },
  {
   "metadata": {},
   "cell_type": "code",
   "outputs": [],
   "execution_count": null,
   "source": "",
   "id": "7dc2d8d86d788c16"
  }
 ],
 "metadata": {
  "kernelspec": {
   "display_name": "htm-on-bss2",
   "language": "python",
   "name": "htm-on-bss2"
  },
  "language_info": {
   "codemirror_mode": {
    "name": "ipython",
    "version": 2
   },
   "file_extension": ".py",
   "mimetype": "text/x-python",
   "name": "python",
   "nbconvert_exporter": "python",
   "pygments_lexer": "ipython2",
   "version": "2.7.6"
  }
 },
 "nbformat": 4,
 "nbformat_minor": 5
}
