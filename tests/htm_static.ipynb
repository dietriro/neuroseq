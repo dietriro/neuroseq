{
 "cells": [
  {
   "cell_type": "markdown",
   "id": "29bac58d2fcf2162",
   "metadata": {},
   "source": [
    "## Imports"
   ]
  },
  {
   "cell_type": "code",
   "execution_count": null,
   "id": "5b4fd0b5-acc6-49d0-a64a-cd760f7f3606",
   "metadata": {},
   "outputs": [],
   "source": [
    "import sys\n",
    "import os \n",
    "pkg_path = os.path.abspath(os.path.join(os.getcwd(), os.pardir))\n",
    "sys.path.append(pkg_path)"
   ]
  },
  {
   "cell_type": "code",
   "execution_count": null,
   "id": "913f6805",
   "metadata": {},
   "outputs": [],
   "source": [
    "from pynn_brainscales import brainscales2 as pynn\n",
    "\n",
    "import shtmbss2.addsrc\n",
    "from shtmbss2.core import hardware_initialization\n",
    "from shtmbss2.network import SHTMStatic"
   ]
  },
  {
   "cell_type": "markdown",
   "id": "73d26b5c838bd931",
   "metadata": {},
   "source": [
    "## Configuration"
   ]
  },
  {
   "cell_type": "code",
   "execution_count": null,
   "id": "61f24878",
   "metadata": {},
   "outputs": [],
   "source": [
    "alphabet_size = 5\n",
    "num_neurons_per_symbol = 5\n",
    "\n",
    "refractory_clock_scale = 7\n",
    "\n",
    "hardware_initialization(refractory_clock_scale)"
   ]
  },
  {
   "cell_type": "markdown",
   "id": "8a098cf530757946",
   "metadata": {},
   "source": [
    "## Network Initialization"
   ]
  },
  {
   "cell_type": "code",
   "execution_count": null,
   "id": "454258cf7c7f5426",
   "metadata": {
    "collapsed": false,
    "jupyter": {
     "outputs_hidden": false
    }
   },
   "outputs": [],
   "source": [
    "shtm = SHTMStatic(alphabet_size, num_neurons_per_symbol)\n",
    "\n",
    "shtm.init_neurons(v_threshold)\n",
    "shtm.init_connections()\n",
    "shtm.init_external_input(sequence=['A', 'C'])\n",
    "shtm.init_rec_exc()"
   ]
  },
  {
   "cell_type": "markdown",
   "id": "39df11c994793247",
   "metadata": {},
   "source": [
    "## Network Emulation & Plotting"
   ]
  },
  {
   "cell_type": "code",
   "execution_count": null,
   "id": "b65966b2",
   "metadata": {},
   "outputs": [],
   "source": [
    "pynn.run(0.1)"
   ]
  },
  {
   "cell_type": "code",
   "execution_count": null,
   "id": "7ec18683",
   "metadata": {},
   "outputs": [],
   "source": [
    "%matplotlib inline\n",
    "\n",
    "shtm.plot_events()"
   ]
  },
  {
   "cell_type": "code",
   "execution_count": null,
   "id": "5fb55aa1",
   "metadata": {},
   "outputs": [],
   "source": [
    "%matplotlib inline\n",
    "\n",
    "shtm.plot_v_exc(alphabet_range=[0])"
   ]
  },
  {
   "cell_type": "code",
   "execution_count": null,
   "id": "1d65a023",
   "metadata": {},
   "outputs": [],
   "source": [
    "%matplotlib inline\n",
    "\n",
    "shtm.plot_v_exc(alphabet_range=range(1, alphabet_size))"
   ]
  }
 ],
 "metadata": {
  "kernelspec": {
   "display_name": "EBRAINS-experimental",
   "language": "python",
   "name": "ebrains-experimental"
  },
  "language_info": {
   "codemirror_mode": {
    "name": "ipython",
    "version": 3
   },
   "file_extension": ".py",
   "mimetype": "text/x-python",
   "name": "python",
   "nbconvert_exporter": "python",
   "pygments_lexer": "ipython3",
   "version": "3.8.11"
  }
 },
 "nbformat": 4,
 "nbformat_minor": 5
}
