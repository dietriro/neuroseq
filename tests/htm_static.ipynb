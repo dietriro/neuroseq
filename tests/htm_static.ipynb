{
 "cells": [
  {
   "cell_type": "markdown",
   "source": [
    "## Imports"
   ],
   "metadata": {
    "collapsed": false
   },
   "id": "29bac58d2fcf2162"
  },
  {
   "cell_type": "code",
   "execution_count": null,
   "id": "913f6805",
   "metadata": {},
   "outputs": [],
   "source": [
    "from pynn_brainscales import brainscales2 as pynn\n",
    "\n",
    "from shtmbss2.core import hardware_initialization\n",
    "from shtmbss2.network import SHTMStatic"
   ]
  },
  {
   "cell_type": "markdown",
   "source": [
    "## Configuration"
   ],
   "metadata": {
    "collapsed": false
   },
   "id": "73d26b5c838bd931"
  },
  {
   "cell_type": "code",
   "execution_count": null,
   "id": "61f24878",
   "metadata": {},
   "outputs": [],
   "source": [
    "alphabet_size = 14\n",
    "num_neurons_per_symbol = 6\n",
    "\n",
    "refractory_clock_scale = 7\n",
    "\n",
    "hardware_initialization(refractory_clock_scale)"
   ]
  },
  {
   "cell_type": "markdown",
   "source": [
    "## Network Initialization"
   ],
   "metadata": {
    "collapsed": false
   },
   "id": "8a098cf530757946"
  },
  {
   "cell_type": "code",
   "execution_count": null,
   "outputs": [],
   "source": [
    "shtm = SHTMStatic(alphabet_size, num_neurons_per_symbol)\n",
    "shtm.init_network()"
   ],
   "metadata": {
    "collapsed": false
   },
   "id": "454258cf7c7f5426"
  },
  {
   "cell_type": "markdown",
   "source": [
    "## Network Emulation & Plotting"
   ],
   "metadata": {
    "collapsed": false
   },
   "id": "39df11c994793247"
  },
  {
   "cell_type": "code",
   "execution_count": null,
   "id": "b65966b2",
   "metadata": {},
   "outputs": [],
   "source": [
    "pynn.run(0.1)"
   ]
  },
  {
   "cell_type": "code",
   "execution_count": null,
   "id": "7ec18683",
   "metadata": {},
   "outputs": [],
   "source": [
    "%matplotlib inline\n",
    "\n",
    "shtm.plot_events()"
   ]
  },
  {
   "cell_type": "code",
   "execution_count": null,
   "id": "5fb55aa1",
   "metadata": {},
   "outputs": [],
   "source": [
    "%matplotlib inline\n",
    "\n",
    "shtm.plot_v_exc(alphabet_range=[0])"
   ]
  },
  {
   "cell_type": "code",
   "execution_count": null,
   "id": "1d65a023",
   "metadata": {},
   "outputs": [],
   "source": [
    "%matplotlib inline\n",
    "\n",
    "shtm.plot_v_exc(alphabet_range=range(1, alphabet_size))"
   ]
  }
 ],
 "metadata": {
  "kernelspec": {
   "display_name": "Python 3 (BSS-2)",
   "language": "python",
   "name": "python3"
  },
  "language_info": {
   "codemirror_mode": {
    "name": "ipython",
    "version": 3
   },
   "file_extension": ".py",
   "mimetype": "text/x-python",
   "name": "python",
   "nbconvert_exporter": "python",
   "pygments_lexer": "ipython3",
   "version": "3.8.2"
  }
 },
 "nbformat": 4,
 "nbformat_minor": 5
}
