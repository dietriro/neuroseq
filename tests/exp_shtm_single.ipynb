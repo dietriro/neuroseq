{
 "cells": [
  {
   "cell_type": "markdown",
   "id": "29bac58d2fcf2162",
   "metadata": {},
   "source": [
    "## Setup"
   ]
  },
  {
   "cell_type": "code",
   "id": "5ce48cf4ea098dae",
   "metadata": {
    "collapsed": false,
    "jupyter": {
     "outputs_hidden": false
    }
   },
   "source": [
    "# Install required python packagesspike_recorder_soma\n",
    "# !pip install -r ../requirements.txt"
   ],
   "outputs": [],
   "execution_count": null
  },
  {
   "cell_type": "markdown",
   "id": "dd455dd014642951",
   "metadata": {},
   "source": [
    "## Imports"
   ]
  },
  {
   "cell_type": "code",
   "id": "5b4fd0b5-acc6-49d0-a64a-cd760f7f3606",
   "metadata": {},
   "source": [
    "import sys\n",
    "import os \n",
    "import warnings\n",
    "import numpy as np\n",
    "\n",
    "pkg_path = os.path.abspath(os.path.join(os.getcwd(), os.pardir))\n",
    "sys.path.append(pkg_path)\n",
    "\n",
    "np.set_printoptions(threshold=np.inf, suppress=True, linewidth=np.inf)\n",
    "warnings.filterwarnings(action='ignore', category=UserWarning)\n",
    "\n",
    "import shtmbss2.addsrc\n",
    "from shtmbss2.common.config import *\n",
    "from shtmbss2.core.logging import log"
   ],
   "outputs": [],
   "execution_count": null
  },
  {
   "cell_type": "code",
   "id": "8eec54364a74e696",
   "metadata": {
    "collapsed": false,
    "jupyter": {
     "outputs_hidden": false
    }
   },
   "source": [
    "RuntimeConfig.backend = Backends.NEST\n",
    "RuntimeConfig.plasticity_location = PlasticityLocation.OFF_CHIP"
   ],
   "outputs": [],
   "execution_count": null
  },
  {
   "cell_type": "code",
   "id": "913f6805",
   "metadata": {},
   "source": [
    "shtm = None\n",
    "offset = 0\n",
    "if RuntimeConfig.backend == Backends.BRAIN_SCALES_2:\n",
    "    from pynn_brainscales import brainscales2 as pynn\n",
    "    from shtmbss2.brainscales2.network import SHTMTotal\n",
    "elif RuntimeConfig.backend == Backends.NEST:\n",
    "    from shtmbss2.nest.network import SHTMTotal\n",
    "    \n",
    "from shtmbss2.common.network import NeuronType, RecTypes"
   ],
   "outputs": [],
   "execution_count": null
  },
  {
   "cell_type": "markdown",
   "id": "73d26b5c838bd931",
   "metadata": {},
   "source": [
    "## Configuration"
   ]
  },
  {
   "cell_type": "code",
   "id": "61f24878",
   "metadata": {},
   "source": [
    "# pynn.logger.default_config(level=pynn.logger.LogLevel.DEBUG)\n",
    "# log.handlers[LogHandler.STREAM].setLevel(logging.DEBUG)\n",
    "\n",
    "debug = False\n",
    "external_input_binary = None\n",
    "\n",
    "experiment_num = None"
   ],
   "outputs": [],
   "execution_count": null
  },
  {
   "cell_type": "markdown",
   "id": "8a098cf530757946",
   "metadata": {},
   "source": [
    "## Network Initialization"
   ]
  },
  {
   "cell_type": "code",
   "id": "454258cf7c7f5426",
   "metadata": {
    "collapsed": false,
    "jupyter": {
     "outputs_hidden": false
    },
    "tags": []
   },
   "source": [
    "shtm = SHTMTotal(use_on_chip_plasticity=RuntimeConfig.plasticity_location == PlasticityLocation.ON_CHIP)\n",
    "shtm.init_backend(offset=0)\n",
    "\n",
    "# FIXME: the timer only starts at start_time + period, fake calculation\n",
    "# to get exactly one execution at the end of each runtime\n",
    "if RuntimeConfig.plasticity_location == PlasticityLocation.ON_CHIP:\n",
    "    shtm.init_plasticity_rule()\n",
    "    \n",
    "finished_preprocessing = False\n",
    "while not finished_preprocessing:\n",
    "    try:\n",
    "        shtm.init_neurons()\n",
    "    except HardwareError as e:\n",
    "        log.error(\"Experienced Hardware error. Trying again.\")\n",
    "    else:\n",
    "        finished_preprocessing = True\n",
    "shtm.init_connections(debug=debug)\n",
    "shtm.init_external_input()\n",
    "\n",
    "if RuntimeConfig.backend == Backends.BRAIN_SCALES_2:\n",
    "    shtm.init_rec_exc()\n",
    "    \n",
    "shtm.experiment_num = experiment_num\n",
    "\n",
    "shtm.init_prerun()\n",
    "\n",
    "log.info(\"Calibration done!\")"
   ],
   "outputs": [],
   "execution_count": null
  },
  {
   "cell_type": "code",
   "id": "a9032d934e594d0d",
   "metadata": {},
   "source": [
    "# RuntimeConfig.subnum_digits = 4\n",
    "# shtm = SHTMTotal.load_full_state(SHTMTotal, \"org_s1\", 1, experiment_subnum=2,\n",
    "#                                  experiment_type=ExperimentType.EVAL_MULTI)"
   ],
   "outputs": [],
   "execution_count": null
  },
  {
   "cell_type": "markdown",
   "id": "39df11c994793247",
   "metadata": {},
   "source": [
    "## Network Emulation & Plotting"
   ]
  },
  {
   "cell_type": "code",
   "id": "b65966b2",
   "metadata": {
    "scrolled": true,
    "tags": []
   },
   "source": "shtm.run(steps=1, plasticity_enabled=True)",
   "outputs": [],
   "execution_count": null
  },
  {
   "metadata": {},
   "cell_type": "code",
   "source": [
    "%matplotlib inline\n",
    "from shtmbss2.core.data import get_experiment_folder\n",
    "\n",
    "shtm.plot_events(neuron_types=\"all\", size=(24, 10), \n",
    "                 run_id=0,\n",
    "                 show_grid=False,\n",
    "                 separate_seqs=False,\n",
    "                 x_lim_upper=1000\n",
    "            )\n"
   ],
   "id": "69313ddcd0eb070d",
   "outputs": [],
   "execution_count": null
  },
  {
   "metadata": {},
   "cell_type": "code",
   "source": [
    "%matplotlib inline\n",
    "\n",
    "shtm.plot_performance(StatisticalMetrics.MEAN, plot_dd=True)"
   ],
   "id": "cecda54cd2ddb2ed",
   "outputs": [],
   "execution_count": null
  },
  {
   "metadata": {},
   "cell_type": "code",
   "source": [
    "shtm.map.plot_graph(arrows=True)\n",
    "# shtm.map.plot_graph_history(arrows=True)"
   ],
   "id": "c17338e4df425fde",
   "outputs": [],
   "execution_count": null
  },
  {
   "metadata": {},
   "cell_type": "code",
   "source": [
    "# external_input_binary = [[np.array([1, 0, 0, 0, 0, 0, 0, 0, 0, 1, 1, 1]), np.zeros(12), np.zeros(12)]]\n",
    "# shtm.init_external_input(init_recorder=False, init_performance=False, external_input_binary=external_input_binary)"
   ],
   "id": "56aae78bc40876c7",
   "outputs": [],
   "execution_count": null
  },
  {
   "metadata": {},
   "cell_type": "code",
   "source": "# shtm.spike_times_ext",
   "id": "b14d57c29dad27a4",
   "outputs": [],
   "execution_count": null
  },
  {
   "metadata": {},
   "cell_type": "markdown",
   "source": "## Replay",
   "id": "2004651448c81424"
  },
  {
   "metadata": {},
   "cell_type": "code",
   "source": "shtm.set_state(NetworkState.REPLAY)",
   "id": "7fc976f255ad7424",
   "outputs": [],
   "execution_count": null
  },
  {
   "cell_type": "code",
   "id": "f5c7b10a-37dd-4afc-96f7-62d3cfaeffcb",
   "metadata": {},
   "source": [
    "%matplotlib inline\n",
    "\n",
    "shtm.run(steps=1, plasticity_enabled=False)\n",
    "\n",
    "shtm.plot_events(neuron_types=\"all\", size=(24, 10), \n",
    "                 run_id=0,\n",
    "                 show_grid=False,\n",
    "                 separate_seqs=True,\n",
    "                 # x_lim_upper=300\n",
    "            )"
   ],
   "outputs": [],
   "execution_count": null
  },
  {
   "metadata": {},
   "cell_type": "code",
   "source": [
    "%matplotlib inline\n",
    "\n",
    "shtm.run(steps=1, plasticity_enabled=False)\n",
    "\n",
    "shtm.plot_events(neuron_types=\"all\", size=(24, 10), \n",
    "                 run_id=0,\n",
    "                 show_grid=False,\n",
    "                 separate_seqs=True,\n",
    "                 x_lim_upper=300\n",
    "            )"
   ],
   "id": "df2f69f9f9ee5d74",
   "outputs": [],
   "execution_count": null
  },
  {
   "metadata": {},
   "cell_type": "code",
   "source": [
    "shtm.run(steps=1, plasticity_enabled=False)\n",
    "\n",
    "%matplotlib inline\n",
    "from shtmbss2.core.data import get_experiment_folder\n",
    "\n",
    "shtm.plot_events(neuron_types=\"all\", size=(24, 10), \n",
    "                 run_id=0,\n",
    "                 show_grid=False,\n",
    "                 separate_seqs=True,\n",
    "                 x_lim_upper=300\n",
    "            )"
   ],
   "id": "a8bd54e4b5c62a6e",
   "outputs": [],
   "execution_count": null
  },
  {
   "metadata": {},
   "cell_type": "code",
   "source": [
    "# shtm.neuron_events[NeuronType.InhibitoryGlobal][0]\n",
    "from shtmbss2.core.helpers import id_to_symbol\n",
    "for i in range(shtm.p.network.num_symbols):\n",
    "    print(f\"{id_to_symbol(i)}: {round(shtm.neurons_exc[i].get('V_th'), 3)}\")\n",
    "    # shtm.exc_to_inh_global[i].set(weight=0)"
   ],
   "id": "c78d51d3d95b78ff",
   "outputs": [],
   "execution_count": null
  },
  {
   "metadata": {},
   "cell_type": "code",
   "source": "shtm.exc_to_inh_global[0].get(\"weight\", format='array')",
   "id": "736c02f55d4f6653",
   "outputs": [],
   "execution_count": null
  },
  {
   "metadata": {},
   "cell_type": "code",
   "source": [
    "%matplotlib inline\n",
    "from shtmbss2.core.data import get_experiment_folder\n",
    "\n",
    "shtm.plot_events(neuron_types=\"all\", size=(24, 10), \n",
    "                 run_id=0,\n",
    "                 show_grid=False,\n",
    "                 separate_seqs=True,\n",
    "            )"
   ],
   "id": "baa73305c731095",
   "outputs": [],
   "execution_count": null
  },
  {
   "cell_type": "code",
   "id": "c3bc60df-545d-4359-bac0-dd3664edd50a",
   "metadata": {},
   "source": [
    "%matplotlib inline\n",
    "if RuntimeConfig.plasticity_location == PlasticityLocation.ON_CHIP:\n",
    "    shtm.plot_data_overview()"
   ],
   "outputs": [],
   "execution_count": null
  },
  {
   "cell_type": "code",
   "id": "4a87844f-db0a-4a6c-8c92-b0091b00744b",
   "metadata": {},
   "source": [
    "shtm.save_full_state()"
   ],
   "outputs": [],
   "execution_count": null
  },
  {
   "cell_type": "markdown",
   "id": "0d2c09a7-f69d-4b2a-ac07-cd0b920a42ad",
   "metadata": {
    "tags": []
   },
   "source": [
    "## Plot performance"
   ]
  },
  {
   "cell_type": "code",
   "id": "46f2f421-a02f-4e37-acaa-298e64704413",
   "metadata": {},
   "source": [
    "%matplotlib inline\n",
    "\n",
    "shtm.plot_performance(StatisticalMetrics.MEAN, plot_dd=True)"
   ],
   "outputs": [],
   "execution_count": null
  },
  {
   "cell_type": "code",
   "id": "01b7c392-b7db-4124-9223-8cd620c9cfca",
   "metadata": {},
   "source": [
    "%matplotlib inline\n",
    "\n",
    "shtm.plot_permanence_history(plot_con_ids=\"all\")"
   ],
   "outputs": [],
   "execution_count": null
  },
  {
   "cell_type": "code",
   "id": "f1c10918-3770-4a90-b6c2-bf465502e908",
   "metadata": {},
   "source": [
    "# shtm.con_plastic[0].permanences[0]\n",
    "shtm.exc_to_exc[0].get(\"weight\", format=\"array\")"
   ],
   "outputs": [],
   "execution_count": null
  },
  {
   "cell_type": "markdown",
   "id": "f042f9e408f6d57d",
   "metadata": {
    "tags": []
   },
   "source": [
    "## Second run"
   ]
  },
  {
   "cell_type": "code",
   "id": "39676696-619f-439a-9efb-f7d6530e090b",
   "metadata": {
    "scrolled": true,
    "tags": []
   },
   "source": [
    "shtm.run(steps=10, plasticity_enabled=True)"
   ],
   "outputs": [],
   "execution_count": null
  },
  {
   "cell_type": "code",
   "id": "7ec18683",
   "metadata": {},
   "source": [
    "%matplotlib inline\n",
    "\n",
    "shtm.plot_events(neuron_types=\"all\", size=(24, 10))"
   ],
   "outputs": [],
   "execution_count": null
  },
  {
   "cell_type": "code",
   "id": "68fbbfd70f7066a7",
   "metadata": {
    "collapsed": false,
    "jupyter": {
     "outputs_hidden": false
    }
   },
   "source": [
    "%matplotlib inline\n",
    "\n",
    "shtm.plot_performance()"
   ],
   "outputs": [],
   "execution_count": null
  },
  {
   "cell_type": "code",
   "id": "afab21a7-513c-46e3-b905-82f231f0c51c",
   "metadata": {
    "scrolled": true,
    "tags": []
   },
   "source": [
    "shtm.run(steps=10, plasticity_enabled=True)"
   ],
   "outputs": [],
   "execution_count": null
  },
  {
   "cell_type": "code",
   "id": "f085ba96-fe22-4066-8421-5a15fd5bfd9f",
   "metadata": {},
   "source": [
    "%matplotlib inline\n",
    "\n",
    "shtm.plot_events(neuron_types=\"all\", size=(24, 10))"
   ],
   "outputs": [],
   "execution_count": null
  },
  {
   "cell_type": "code",
   "id": "b093bdb4-c215-41b3-83b1-a48746efd37a",
   "metadata": {},
   "source": [
    "shtm.set_weights_exc_exc(10, 1, post_ids=[3,4,5], p_con=1.0)\n",
    "shtm.run(steps=1, plasticity_enabled=True)\n",
    "\n",
    "# %matplotlib inline\n",
    "# shtm.plot_events(neuron_types=\"all\", size=(24, 10))"
   ],
   "outputs": [],
   "execution_count": null
  },
  {
   "cell_type": "markdown",
   "id": "32d5cfb7-8350-430a-81df-2e265c424e84",
   "metadata": {
    "tags": []
   },
   "source": [
    "## Additional Plotting"
   ]
  },
  {
   "cell_type": "code",
   "id": "59e08d05-d54f-4f55-a090-accfbf8f7ca4",
   "metadata": {},
   "source": [
    "%matplotlib inline\n",
    "\n",
    "shtm.plot_permanence_diff()"
   ],
   "outputs": [],
   "execution_count": null
  },
  {
   "cell_type": "code",
   "id": "63edb4d6-ba9a-414e-8ed7-41cc7744bc05",
   "metadata": {},
   "source": [
    "%matplotlib inline\n",
    "\n",
    "# for i in [0, 1]:\n",
    "#     print(shtm.con_plastic[i].permanences)\n",
    "\n",
    "shtm.plot_permanence_history(plot_con_ids=[0, 1, 7])"
   ],
   "outputs": [],
   "execution_count": null
  },
  {
   "cell_type": "code",
   "id": "5fb55aa1",
   "metadata": {},
   "source": [
    "%matplotlib inline\n",
    "from shtmbss2.common.network import NeuronType, RecTypes\n",
    "\n",
    "plot_v_exc(shtm, alphabet_range=[3], neuron_range=\"all\", neuron_type=NeuronType.Soma, runtime=100)"
   ],
   "outputs": [],
   "execution_count": null
  },
  {
   "metadata": {},
   "cell_type": "code",
   "source": [
    "from tabulate import tabulate\n",
    "import matplotlib.pyplot as plt\n",
    "from shtmbss2.core.helpers import id_to_symbol\n",
    "\n",
    "def plot_v_exc(self, alphabet_range, neuron_range='all', size=None, neuron_type=NeuronType.Soma, runtime=None,\n",
    "               show_legend=False, file_path=None):\n",
    "    if size is None:\n",
    "        size = (12, 10)\n",
    "\n",
    "    if type(neuron_range) is str and neuron_range == 'all':\n",
    "        neuron_range = range(self.p.network.num_neurons)\n",
    "    elif type(neuron_range) is list or type(neuron_range) is range:\n",
    "        pass\n",
    "    else:\n",
    "        return\n",
    "\n",
    "    if type(runtime) is str:\n",
    "        if str(runtime).lower() == 'max':\n",
    "            runtime = self.last_ext_spike_time + (self.p.encoding.dt_seq - self.p.encoding.t_exc_start)\n",
    "    elif type(runtime) is float or type(runtime) is int:\n",
    "        pass\n",
    "    else:\n",
    "        runtime = self.p.experiment.runtime\n",
    "\n",
    "    spike_times = [[]]\n",
    "    header_spikes = list()\n",
    "\n",
    "    fig, ax = plt.subplots(figsize=size)\n",
    "\n",
    "    for alphabet_id in alphabet_range:\n",
    "        # retrieve and save spike times\n",
    "        spikes = self.neuron_events[neuron_type][alphabet_id]\n",
    "        for neuron_id in neuron_range:\n",
    "            # add spikes to list for printing\n",
    "            spike_times[0].append(np.array(spikes[neuron_id]).round(5).tolist())\n",
    "            header_spikes.append(f\"{id_to_symbol(alphabet_id)}[{neuron_id}]\")\n",
    "\n",
    "            # retrieve voltage data\n",
    "            data_v = self.get_neuron_data(neuron_type, value_type=RecTypes.V, symbol_id=alphabet_id,\n",
    "                                          neuron_id=neuron_id, runtime=runtime)\n",
    "\n",
    "            ax.plot(data_v.times, data_v, alpha=0.5, label=header_spikes[-1])\n",
    "\n",
    "    # ax.xaxis.set_ticks(np.arange(0.02, 0.06, 0.01))\n",
    "    ax.tick_params(axis='x', labelsize=18)\n",
    "    ax.tick_params(axis='y', labelsize=18)\n",
    "\n",
    "    ax.set_xlabel(\"Time [ms]\", labelpad=14, fontsize=26)\n",
    "    ax.set_ylabel(\"Membrane Voltage [a.u.]\", labelpad=14, fontsize=26)\n",
    "    \n",
    "    ax.set_xlim(0, 100)\n",
    "\n",
    "    if show_legend:\n",
    "        plt.legend()\n",
    "\n",
    "    # Print spike times\n",
    "    print(tabulate(spike_times, headers=header_spikes) + '\\n')\n",
    "\n",
    "    fig.show()\n",
    "\n",
    "    if file_path is not None:\n",
    "        plt.savefig(f\"{file_path}.pdf\")\n",
    "\n",
    "        pickle.dump(fig, open(f'{file_path}.fig.pickle',\n",
    "                              'wb'))  # This is for Python 3 - py2 may need `file` instead of `open`"
   ],
   "id": "2035501e2c4f1973",
   "outputs": [],
   "execution_count": null
  },
  {
   "cell_type": "code",
   "id": "a46a6540-dbae-4924-9b21-a55a8a69420c",
   "metadata": {},
   "source": [
    "%matplotlib inline\n",
    "\n",
    "shtm.plot_v_exc(alphabet_range=[0], neuron_range='all', neuron_type=NeuronType.Dendrite, runtime=runtime, show_legend=False)"
   ],
   "outputs": [],
   "execution_count": null
  },
  {
   "cell_type": "code",
   "id": "1d65a023",
   "metadata": {},
   "source": [
    "%matplotlib inline\n",
    "\n",
    "shtm.plot_v_exc(alphabet_range=range(1, alphabet_size))"
   ],
   "outputs": [],
   "execution_count": null
  },
  {
   "cell_type": "markdown",
   "id": "4328ab22-5cd9-4387-87b7-a58c0aa4c19e",
   "metadata": {
    "tags": []
   },
   "source": [
    "## Additional Analysis"
   ]
  },
  {
   "cell_type": "code",
   "id": "d63f1348-ca17-4e44-9c3d-d049df01a1e5",
   "metadata": {},
   "source": [
    "for i in range(len(shtm.con_plastic)):\n",
    "    shtm.con_plastic[i].mature_weight = 120\n",
    "    print(i, shtm.con_plastic[i].projection.label.split('_')[1], shtm.con_plastic[i].get_all_connection_ids())\n",
    "    "
   ],
   "outputs": [],
   "execution_count": null
  },
  {
   "cell_type": "code",
   "id": "3bf91d95-0c4e-4c3f-9345-2781aea70d54",
   "metadata": {},
   "source": [
    "arr = np.array(shtm.con_plastic[1].permanences)"
   ],
   "outputs": [],
   "execution_count": null
  },
  {
   "cell_type": "code",
   "id": "62985153-5cf5-4417-8ad7-e0b850dccd5f",
   "metadata": {},
   "source": [
    "for c in shtm.con_plastic[1].projection.connections:\n",
    "    print(f'C[{c.presynaptic_index}, {c.postsynaptic_index}].weight = {c.weight}')"
   ],
   "outputs": [],
   "execution_count": null
  },
  {
   "cell_type": "code",
   "id": "f6d0c57c-a3bc-4885-b9d0-74163d58e299",
   "metadata": {},
   "source": [
    "np.set_printoptions(threshold=np.inf, suppress=True, linewidth=np.inf)\n",
    "shtm.con_plastic[1].projection.get(\"weight\", format=\"array\")"
   ],
   "outputs": [],
   "execution_count": null
  },
  {
   "cell_type": "code",
   "id": "ddd1f5a2-df0a-434e-9c26-ee3982d3733c",
   "metadata": {},
   "source": [
    "shtm.con_plastic[7].projection.get(\"weight\", format=\"array\")"
   ],
   "outputs": [],
   "execution_count": null
  },
  {
   "cell_type": "code",
   "id": "a8a69eb7-d8c4-4796-bfc4-618ec84d0139",
   "metadata": {},
   "source": [
    "# Print spikes form spiketrain\n",
    "for s in shtm.con_plastic[1].projection.post.get_data(\"spikes\").segments[-1].spiketrains:\n",
    "    print(s)\n",
    "print(len(shtm.con_plastic[1].projection.post.get_data(\"spikes\").segments[-1].spiketrains))\n",
    "print(len(shtm.con_plastic[1].projection.connections))"
   ],
   "outputs": [],
   "execution_count": null
  },
  {
   "cell_type": "code",
   "id": "c1aaf096-a0ca-408b-944c-f5a31ace192a",
   "metadata": {},
   "source": [
    "for con in shtm.con_plastic:\n",
    "    print(f\"Sum(P[{con.projection.label}]) = {np.sum(con.permanences[-1] - con.permanences[0])}\")"
   ],
   "outputs": [],
   "execution_count": null
  },
  {
   "cell_type": "code",
   "id": "6faa8f13-7dcb-47d3-924a-1e4413c434a4",
   "metadata": {},
   "source": [
    "dendrites, somas = shtm.get_spike_times(0.44, 0.1e-2)\n",
    "\n",
    "print(somas)"
   ],
   "outputs": [],
   "execution_count": null
  },
  {
   "cell_type": "code",
   "id": "c66a7a9a-0b2a-424f-aec3-bebe7774d3cd",
   "metadata": {},
   "source": [
    "for i_plastic in range(len(shtm.con_plastic)):\n",
    "    shtm.con_plastic[i_plastic].lambda_plus *= 2\n",
    "    shtm.con_plastic[i_plastic].lambda_minus *= 2\n",
    "    shtm.con_plastic[i_plastic].lambda_h *= 2\n",
    "    \n",
    "    # print(f\"Sum(P[{con.projection.label}]) = {np.sum(con.permanences[-1] - con.permanences[0])}\")"
   ],
   "outputs": [],
   "execution_count": null
  },
  {
   "cell_type": "markdown",
   "id": "bbeaca0e-a35c-4102-add8-f332fef127fe",
   "metadata": {
    "tags": []
   },
   "source": [
    "## Check indices"
   ]
  },
  {
   "cell_type": "code",
   "id": "76723fe1-3493-459f-a944-31f04e122e41",
   "metadata": {},
   "source": [
    "dendrites, somas = shtm.neurons_exc[0]\n",
    "\n",
    "print(somas.all_cells)\n",
    "print(somas.id_to_index(13))\n",
    "\n",
    "print(somas.get_data(\"spikes\").segments[-1].spiketrains[8])\n",
    "print(shtm.con_plastic[0].projection.pre.get_data(\"spikes\").segments[-1].spiketrains[8])"
   ],
   "outputs": [],
   "execution_count": null
  },
  {
   "cell_type": "markdown",
   "id": "fafabef1-2864-4ee9-9881-724eb43173e4",
   "metadata": {
    "tags": []
   },
   "source": [
    "## Check spikes"
   ]
  },
  {
   "cell_type": "code",
   "id": "a0e80595-b68b-4f00-aad0-7fccf6018054",
   "metadata": {},
   "source": [
    "dendrites, somas = shtm.neurons_exc[0]\n",
    "\n",
    "spike_ids_a = list()\n",
    "spike_ids_b = list()\n",
    "\n",
    "# Print spikes form spiketrain\n",
    "for s in somas.get_data(\"spikes\").segments[-1].spiketrains:\n",
    "    print(s)\n",
    "    if len(s) > 0:\n",
    "        print(s[0]/0.1e-3)\n",
    "        spike_ids_a.append(int(s[0]/0.1e3))\n",
    "\n",
    "    # for t in np.linspace(0., runtime, int(runtime / 0.1e-3)):\n",
    "        \n",
    "    \n",
    "print(len(somas.get_data(\"spikes\").segments[-1].spiketrains))\n",
    "\n"
   ],
   "outputs": [],
   "execution_count": null
  },
  {
   "cell_type": "code",
   "id": "9997101e-eb29-48bc-97b2-7a1caf41ebb5",
   "metadata": {},
   "source": [
    "print(shtm.neurons_exc[0][0].get(\"tau_m\"))\n",
    "print(shtm.neurons_inh[0].tau_m)\n",
    "w = shtm.exc_to_inh[1].get(\"weight\", format=\"array\")\n",
    "print(w)\n",
    "print(pynn.get_current_time())"
   ],
   "outputs": [],
   "execution_count": null
  },
  {
   "cell_type": "markdown",
   "id": "882056d0-1b54-484b-9d76-1e92d22226fe",
   "metadata": {
    "jp-MarkdownHeadingCollapsed": true,
    "tags": []
   },
   "source": [
    "## Save objects"
   ]
  },
  {
   "cell_type": "code",
   "id": "d7d4fbd7-df35-4345-9fc0-912746409fcc",
   "metadata": {},
   "source": [],
   "outputs": [],
   "execution_count": null
  },
  {
   "cell_type": "code",
   "id": "4c58ecfe-d543-48ad-ab93-cf252e5266fd",
   "metadata": {},
   "source": [
    "import pickle\n",
    "\n",
    "experiment_name = \"shtm_off-chip_01\"\n",
    "\n",
    "with open(f'../evaluation/objects/{experiment_name}.pkl', 'wb') as out_file:\n",
    "    pickle.dump(shtm, out_file)"
   ],
   "outputs": [],
   "execution_count": null
  },
  {
   "cell_type": "code",
   "id": "03924cea-37a3-4726-9a44-b605eb3f4b54",
   "metadata": {},
   "source": [
    "with open(f'../evaluation/objects/{experiment_name}.pkl', 'rb') as in_file:\n",
    "    obj = pickle.load(in_file)"
   ],
   "outputs": [],
   "execution_count": null
  },
  {
   "cell_type": "markdown",
   "id": "0ea987d6-f2d9-48ad-b459-17967db1d547",
   "metadata": {
    "tags": []
   },
   "source": [
    "## Plotting - Events - All Symbols"
   ]
  },
  {
   "cell_type": "code",
   "id": "7836db2d-bc5f-45e3-9eee-3c9c261f4f6e",
   "metadata": {},
   "source": [
    "%matplotlib inline\n",
    "\n",
    "seq = 2\n",
    "\n",
    "fig_title = \"Neuronal Events for Sequence {D, C, B} - After Learning\"\n",
    "\n",
    "file_path = f\"../evaluation/figures/shtm-bss2_eval_learning-off-chip_seq-0{seq}_before-learning\"\n",
    "# file_path = f\"../evaluation/figures/shtm-bss2_eval_learning-off-chip_seq-0{seq}_after-learning\"\n",
    "\n",
    "# file_path += \"_a\"\n",
    "\n",
    "if seq == 1:\n",
    "    fig = shtm.plot_events(shtm, size=[12, 10], x_lim_lower=0, x_lim_upper=0.14, seq_start=0.0, seq_end=0.14, fig_title=fig_title, file_path=file_path)\n",
    "elif seq == 2:\n",
    "    fig = shtm.plot_events(shtm, size=[12, 10], x_lim_lower=0.22, x_lim_upper=0.36, seq_start=0.22, seq_end=0.36, fig_title=fig_title, file_path=file_path)\n",
    "    \n"
   ],
   "outputs": [],
   "execution_count": null
  },
  {
   "cell_type": "markdown",
   "id": "7ab2e487",
   "metadata": {},
   "source": [
    "## Plotting - Events - One Symbol"
   ]
  },
  {
   "cell_type": "code",
   "id": "422c8337-6159-406c-a098-e76e21a656a9",
   "metadata": {},
   "source": [
    "%matplotlib inline\n",
    "\n",
    "fig_title = \"Neuronal Events for Sequence {D, C, B} - After Learning\"\n",
    "file_path = f\"../evaluation/figures/shtm-bss2_eval_limits-spikes_w-inh\"\n",
    "\n",
    "# file_path += \"_a\"\n",
    "\n",
    "fig = shtm.plot_events(shtm, neuron_types=\"all\", symbols=[2], size=[12, 10], x_lim_lower=0, x_lim_upper=0.14, seq_start=0.0, seq_end=0.14, fig_title=fig_title, file_path=file_path)\n",
    "\n",
    "\n",
    "spikes = shtm.neurons_exc[2][1].get_data(\"spikes\").segments[-1].spiketrains"
   ],
   "outputs": [],
   "execution_count": null
  },
  {
   "cell_type": "code",
   "id": "fd3858c5-f2a7-443f-919c-a76051b90f8c",
   "metadata": {},
   "source": [
    "# file_path_open = f\"../evaluation/figures/shtm-bss2_eval_limits-volts_w-inh\"\n",
    "# file_path_open = f\"../evaluation/figures/shtm-bss2_eval_limits-volts_wo-inh\"\n",
    "# file_path_open = f\"../evaluation/figures/shtm-bss2_eval_limits-spikes_w-inh\"\n",
    "file_path_open = f\"../evaluation/figures/shtm-bss2_eval_limits-spikes_wo-inh\"\n",
    "\n",
    "figx = pickle.load(open(f'{file_path_open}.fig.pickle', 'rb'))\n",
    "figx.set_size_inches(12, 6)\n",
    "\n",
    "figx.legends = []\n",
    "figx.suptitle(\"\")\n",
    "figx.subplots_adjust(top=0.85)\n",
    "neuron_types = [NeuronType.Dendrite, NeuronType.Soma, NeuronType.Inhibitory]\n",
    "custom_lines = [Line2D([0], [0], color=f\"C{n.ID}\", label=n.NAME.capitalize(), lw=3) for n in neuron_types]\n",
    "plt.figlegend(handles=custom_lines, loc=(0.402, 0.888), ncol=3, labelspacing=0., fontsize=18, fancybox=True, borderaxespad=1)\n",
    "\n",
    "\n",
    "# figx.show()\n",
    "\n",
    "figx.savefig(f\"{file_path_open}.pdf\", bbox_inches='tight')\n",
    "# figx.savefig(f\"{file_path_open}.png\")"
   ],
   "outputs": [],
   "execution_count": null
  },
  {
   "cell_type": "markdown",
   "id": "52beabea-81ec-4134-a9ea-ecd496f115b1",
   "metadata": {},
   "source": [
    "## Final Plots - Voltage"
   ]
  },
  {
   "cell_type": "code",
   "id": "b533d023-9a78-4011-91b4-9ce2af81885e",
   "metadata": {},
   "source": [
    "%matplotlib inline\n",
    "\n",
    "# plt.rcParams.update({'font.size': 12})\n",
    "\n",
    "seq = 2\n",
    "\n",
    "# file_path = f\"../evaluation/figures/shtm-bss2_eval_learning-off-chip_seq-0{seq}_before-learning\"\n",
    "# file_path = f\"../evaluation/figures/shtm-bss2_eval_learning-off-chip_seq-0{seq}_after-learning\"\n",
    "file_path = f\"../evaluation/figures/shtm-bss2_eval_limits-volts_w-inh\"\n",
    "\n",
    "# file_path += \"_a\"\n",
    "\n",
    "# if seq == 1:\n",
    "    # fig = plot_v_exc(shtm, [0], neuron_range=\"all\", size=[12, 10], x_lim_lower=0, x_lim_upper=0.14, seq_start=0.0, seq_end=0.14, file_path=file_path)\n",
    "# elif seq == 2:\n",
    "    # fig = plot_v_exc(shtm, [0], neuron_range=\"all\", size=[12, 10], x_lim_lower=0.22, x_lim_upper=0.36, seq_start=0.22, seq_end=0.36, file_path=file_path)\n",
    "\n",
    "shtm.plot_v_exc(shtm, [2], neuron_range=\"all\", size=[12, 10], runtime=0.14, file_path=file_path)\n",
    "\n",
    "    \n"
   ],
   "outputs": [],
   "execution_count": null
  }
 ],
 "metadata": {
  "kernelspec": {
   "display_name": "shtm4pynn",
   "language": "python",
   "name": "shtm4pynn"
  },
  "language_info": {
   "codemirror_mode": {
    "name": "ipython",
    "version": 3
   },
   "file_extension": ".py",
   "mimetype": "text/x-python",
   "name": "python",
   "nbconvert_exporter": "python",
   "pygments_lexer": "ipython3",
   "version": "3.8.11"
  }
 },
 "nbformat": 4,
 "nbformat_minor": 5
}
