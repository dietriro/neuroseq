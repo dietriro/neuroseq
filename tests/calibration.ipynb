{
 "cells": [
  {
   "cell_type": "code",
   "execution_count": 25,
   "id": "32bdc418",
   "metadata": {},
   "outputs": [],
   "source": [
    "from calix.base import StatefulConnection\n",
    "import calix.spiking\n",
    "import quantities\n",
    "import copy\n",
    "from dlens_vx_v3 import sta, lola, hxcomm"
   ]
  },
  {
   "cell_type": "code",
   "execution_count": 26,
   "id": "79a41fc3",
   "metadata": {},
   "outputs": [],
   "source": [
    "def calibrate(target: calix.spiking.SpikingCalibTarget) -> lola.Chip:\n",
    "    result = None\n",
    "    with StatefulConnection() as connection:\n",
    "        result = calix.spiking.calibrate(connection, target)\n",
    "    dumper = sta.PlaybackProgramBuilderDumper()\n",
    "    result.apply(dumper)\n",
    "    result = sta.convert_to_chip(dumper.done())\n",
    "    return result"
   ]
  },
  {
   "cell_type": "code",
   "execution_count": 27,
   "id": "5b33fa0d",
   "metadata": {},
   "outputs": [],
   "source": [
    "predictive_mode = True"
   ]
  },
  {
   "cell_type": "code",
   "execution_count": 21,
   "id": "e72efcf4",
   "metadata": {},
   "outputs": [],
   "source": [
    "excitatory_neuron_soma_params = {\n",
    "    'membrane_capacitance': 16,  # [0, 63]\n",
    "    'tau_mem': quantities.quantity.Quantity(5., \"us\"),\n",
    "    'tau_syn': (\n",
    "        quantities.quantity.Quantity(5., \"us\"),  # exc\n",
    "        quantities.quantity.Quantity(0.5, \"us\")),  # inh\n",
    "    'leak': 60,                  # CADC lsb\n",
    "    'reset': 60,                 # CADC lsb\n",
    "    'threshold': 120 if predictive_mode else 75,            # CADC lsb\n",
    "    'i_synin_gm': 700,           # capmem current lsb\n",
    "    'refractory_time': quantities.quantity.Quantity(2., \"us\"),\n",
    "    'synapse_dac_bias': 600,\n",
    "    'holdoff_time': quantities.quantity.Quantity(0., \"us\")\n",
    "}\n",
    "\n",
    "excitatory_neuron_dendrite_params = {\n",
    "    'membrane_capacitance': 16,  # [0, 63]\n",
    "    'tau_mem': quantities.quantity.Quantity(5., \"us\"),  # unclear\n",
    "    'tau_syn': quantities.quantity.Quantity(2., \"us\"),\n",
    "    'leak': 60,                  # CADC lsb\n",
    "    'reset': 125,                 # CADC lsb\n",
    "    'threshold': 72 if predictive_mode else 68,            # CADC lsb\n",
    "    'i_synin_gm': 700,           # capmem current lsb\n",
    "    'refractory_time': quantities.quantity.Quantity(60., \"us\"),\n",
    "    'synapse_dac_bias': 600,\n",
    "    'holdoff_time': quantities.quantity.Quantity(15., \"us\")\n",
    "}\n",
    "\n",
    "inhibitory_neuron_params = {\n",
    "    'membrane_capacitance': 16,  # [0, 63]\n",
    "    'tau_mem': quantities.quantity.Quantity(5., \"us\"),\n",
    "    'tau_syn': quantities.quantity.Quantity(10., \"us\"),\n",
    "    'leak': 80,                  # CADC lsb\n",
    "    'reset': 80,                 # CADC lsb\n",
    "    'threshold': 125,            # CADC lsb\n",
    "    'i_synin_gm': 700,           # capmem current lsb\n",
    "    'refractory_time': quantities.quantity.Quantity(2., \"us\"),\n",
    "    'synapse_dac_bias': 600,\n",
    "    'holdoff_time': quantities.quantity.Quantity(0., \"us\")\n",
    "}"
   ]
  },
  {
   "cell_type": "code",
   "execution_count": 22,
   "id": "8b19ed3e",
   "metadata": {},
   "outputs": [],
   "source": [
    "def assemble_calib_target(\n",
    "        excitatory_neuron_somas: set(),\n",
    "        excitatoy_neuron_dendrites: set(),\n",
    "        inhibitory_neurons: set()):\n",
    "    # check no overlap\n",
    "    assert len(list(excitatory_neuron_somas)\n",
    "               + list(excitatory_neuron_dendrites)\n",
    "               + list(inhibitory_neurons)) \\\n",
    "        == len(excitatory_neuron_somas) \\\n",
    "        + len(excitatory_neuron_dendrites) \\\n",
    "        + len(inhibitory_neurons)\n",
    "    \n",
    "    # insert into array values\n",
    "    params = copy.copy(calix.spiking.neuron.NeuronCalibTarget.DenseDefault)\n",
    "    for nrn in excitatory_neuron_somas:\n",
    "        for name, value in excitatory_neuron_soma_params:\n",
    "            params[name][nrn] = value\n",
    "    for nrn in excitatory_neuron_dendrites:\n",
    "        for name, value in excitatory_neuron_dendrite_params:\n",
    "            params[name][nrn] = value\n",
    "    for nrn in inhibitory_neurons:\n",
    "        for name, value in inhibitory_neuron_params:\n",
    "            params[name][nrn] = value\n",
    "    return params"
   ]
  }
 ],
 "metadata": {
  "kernelspec": {
   "display_name": "Python 3 (ipykernel)",
   "language": "python",
   "name": "python3"
  },
  "language_info": {
   "codemirror_mode": {
    "name": "ipython",
    "version": 3
   },
   "file_extension": ".py",
   "mimetype": "text/x-python",
   "name": "python",
   "nbconvert_exporter": "python",
   "pygments_lexer": "ipython3",
   "version": "3.8.2"
  }
 },
 "nbformat": 4,
 "nbformat_minor": 5
}
