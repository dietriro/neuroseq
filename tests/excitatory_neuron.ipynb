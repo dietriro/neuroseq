{
 "cells": [
  {
   "cell_type": "markdown",
   "id": "6ac3aa3a04327c0f",
   "metadata": {},
   "source": [
    "## Imports"
   ]
  },
  {
   "cell_type": "code",
   "execution_count": null,
   "id": "e4fdcd9d-bdae-4362-8ef5-8c0a2f9da213",
   "metadata": {},
   "outputs": [],
   "source": [
    "import sys\n",
    "import os \n",
    "pkg_path = os.path.abspath(os.path.join(os.getcwd(), os.pardir))\n",
    "sys.path.append(pkg_path)"
   ]
  },
  {
   "cell_type": "code",
   "execution_count": null,
   "id": "a1ec421b8347a45b",
   "metadata": {},
   "outputs": [],
   "source": [
    "import shtmbss2.addsrc\n",
    "from shtmbss2.core import hardware_initialization\n",
    "from shtmbss2.network import SHTMSingleNeuron"
   ]
  },
  {
   "cell_type": "markdown",
   "id": "561df31d9cf87c09",
   "metadata": {},
   "source": [
    "## Configuration"
   ]
  },
  {
   "cell_type": "code",
   "execution_count": null,
   "id": "7619a75fa5cb0263",
   "metadata": {},
   "outputs": [],
   "source": [
    "## Configuration\n",
    "hardware_initialization()"
   ]
  },
  {
   "cell_type": "markdown",
   "id": "66300b152466da00",
   "metadata": {},
   "source": [
    "## Network Initialization"
   ]
  },
  {
   "cell_type": "code",
   "execution_count": null,
   "id": "25e6ffa42674657d",
   "metadata": {
    "collapsed": false,
    "jupyter": {
     "outputs_hidden": false
    }
   },
   "outputs": [],
   "source": [
    "shtm = SHTMSingleNeuron(1, 1)\n",
    "shtm.init_network()"
   ]
  },
  {
   "cell_type": "markdown",
   "id": "b5bb3b62c6ba6965",
   "metadata": {},
   "source": [
    "## Network Emulation & Plotting"
   ]
  },
  {
   "cell_type": "code",
   "execution_count": null,
   "id": "3a0223a013aaae84",
   "metadata": {},
   "outputs": [],
   "source": [
    "### Emulation and Plotting\n",
    "\n",
    "%matplotlib inline\n",
    "\n",
    "shtm.plot_v_exc()"
   ]
  }
 ],
 "metadata": {
  "kernelspec": {
   "display_name": "EBRAINS-experimental",
   "language": "python",
   "name": "ebrains-experimental"
  },
  "language_info": {
   "codemirror_mode": {
    "name": "ipython",
    "version": 3
   },
   "file_extension": ".py",
   "mimetype": "text/x-python",
   "name": "python",
   "nbconvert_exporter": "python",
   "pygments_lexer": "ipython3",
   "version": "3.8.11"
  }
 },
 "nbformat": 4,
 "nbformat_minor": 5
}
