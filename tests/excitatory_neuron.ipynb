{
 "cells": [
  {
   "cell_type": "markdown",
   "source": [
    "## Imports"
   ],
   "metadata": {
    "collapsed": false
   },
   "id": "6ac3aa3a04327c0f"
  },
  {
   "cell_type": "code",
   "execution_count": null,
   "id": "a1ec421b8347a45b",
   "metadata": {},
   "outputs": [],
   "source": [
    "from shtmbss2.core import hardware_initialization\n",
    "from shtmbss2.network import SHTMSingleNeuron"
   ]
  },
  {
   "cell_type": "markdown",
   "source": [
    "## Configuration"
   ],
   "metadata": {
    "collapsed": false
   },
   "id": "561df31d9cf87c09"
  },
  {
   "cell_type": "code",
   "execution_count": null,
   "id": "7619a75fa5cb0263",
   "metadata": {},
   "outputs": [],
   "source": [
    "## Configuration\n",
    "refractory_clock_scale = 7\n",
    "\n",
    "hardware_initialization(refractory_clock_scale)\n"
   ]
  },
  {
   "cell_type": "markdown",
   "source": [
    "## Network Initialization"
   ],
   "metadata": {
    "collapsed": false
   },
   "id": "66300b152466da00"
  },
  {
   "cell_type": "code",
   "execution_count": null,
   "outputs": [],
   "source": [
    "shtm = SHTMSingleNeuron(1, 1)\n",
    "shtm.init_network()"
   ],
   "metadata": {
    "collapsed": false
   },
   "id": "25e6ffa42674657d"
  },
  {
   "cell_type": "markdown",
   "source": [
    "## Network Emulation & Plotting"
   ],
   "metadata": {
    "collapsed": false
   },
   "id": "b5bb3b62c6ba6965"
  },
  {
   "cell_type": "code",
   "execution_count": null,
   "id": "3a0223a013aaae84",
   "metadata": {},
   "outputs": [],
   "source": [
    "### Emulation and Plotting\n",
    "\n",
    "%matplotlib inline\n",
    "\n",
    "shtm.plot_v_exc()"
   ]
  }
 ],
 "metadata": {
  "kernelspec": {
   "display_name": "EBRAINS-experimental",
   "language": "python",
   "name": "ebrains-experimental"
  },
  "language_info": {
   "codemirror_mode": {
    "name": "ipython",
    "version": 3
   },
   "file_extension": ".py",
   "mimetype": "text/x-python",
   "name": "python",
   "nbconvert_exporter": "python",
   "pygments_lexer": "ipython3",
   "version": "3.8.11"
  }
 },
 "nbformat": 4,
 "nbformat_minor": 5
}
