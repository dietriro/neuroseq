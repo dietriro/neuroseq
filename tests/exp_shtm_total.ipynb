{
 "cells": [
  {
   "cell_type": "markdown",
   "id": "29bac58d2fcf2162",
   "metadata": {},
   "source": [
    "## Setup"
   ]
  },
  {
   "cell_type": "code",
   "execution_count": 1,
   "id": "5ce48cf4ea098dae",
   "metadata": {
    "collapsed": false,
    "jupyter": {
     "outputs_hidden": false
    }
   },
   "outputs": [
    {
     "name": "stdout",
     "output_type": "stream",
     "text": [
      "Requirement already satisfied: colorlog in /opt/app-root/src/.local/lib/python3.8/site-packages (from -r ../requirements.txt (line 1)) (6.7.0)\n",
      "Requirement already satisfied: jupyter in /opt/app-root/src/.local/lib/python3.8/site-packages (from -r ../requirements.txt (line 2)) (1.0.0)\n",
      "Requirement already satisfied: matplotlib in /srv/main-spack-instance-2309/spack/opt/spack/linux-ubuntu20.04-x86_64/gcc-10.3.0/py-matplotlib-3.7.1-kzuzhvvxxelqdntsnevxqc6ddzgt6hal/lib/python3.8/site-packages (from -r ../requirements.txt (line 3)) (3.7.1)\n",
      "Requirement already satisfied: numpy in /srv/main-spack-instance-2309/spack/opt/spack/linux-ubuntu20.04-x86_64/gcc-10.3.0/py-numpy-1.23.5-rm3niouf5xjbvqy74ubkcuewixomy5ds/lib/python3.8/site-packages (from -r ../requirements.txt (line 4)) (1.23.5)\n",
      "Requirement already satisfied: PyYAML in /srv/main-spack-instance-2309/spack/opt/spack/linux-ubuntu20.04-x86_64/gcc-10.3.0/py-pyyaml-6.0-li7qj2y4czutpbivsk2xjxe4ogh5m6gn/lib/python3.8/site-packages (from -r ../requirements.txt (line 5)) (6.0)\n",
      "Requirement already satisfied: setuptools in /srv/main-spack-instance-2309/spack/opt/spack/linux-ubuntu20.04-x86_64/gcc-10.3.0/py-setuptools-62.6.0-znp6nzmeebu6i5nacy3afcwx73ouasqm/lib/python3.8/site-packages (from -r ../requirements.txt (line 6)) (62.6.0)\n",
      "Requirement already satisfied: pandas in /srv/main-spack-instance-2309/spack/var/spack/environments/experimental/.spack-env/._view/i3skyei333256epm7im3wuo54efwdwdu/lib/python3.8/site-packages (from -r ../requirements.txt (line 7)) (2.0.1)\n",
      "Requirement already satisfied: quantities in /srv/main-spack-instance-2309/spack/var/spack/environments/experimental/.spack-env/._view/i3skyei333256epm7im3wuo54efwdwdu/lib/python3.8/site-packages (from -r ../requirements.txt (line 8)) (0.14.1)\n",
      "Requirement already satisfied: PyNN in /srv/main-spack-instance-2309/spack/var/spack/environments/experimental/.spack-env/._view/i3skyei333256epm7im3wuo54efwdwdu/lib/python3.8/site-packages (from -r ../requirements.txt (line 9)) (0.11.0)\n",
      "Requirement already satisfied: neo in /srv/main-spack-instance-2309/spack/var/spack/environments/experimental/.spack-env/._view/i3skyei333256epm7im3wuo54efwdwdu/lib/python3.8/site-packages (from -r ../requirements.txt (line 10)) (0.12.0)\n",
      "Requirement already satisfied: DateTime in /opt/app-root/src/.local/lib/python3.8/site-packages (from -r ../requirements.txt (line 11)) (5.3)\n",
      "Requirement already satisfied: tabulate in /srv/main-spack-instance-2309/spack/var/spack/environments/experimental/.spack-env/._view/i3skyei333256epm7im3wuo54efwdwdu/lib/python3.8/site-packages (from -r ../requirements.txt (line 12)) (0.8.9)\n",
      "Requirement already satisfied: notebook in /srv/main-spack-instance-2309/spack/var/spack/environments/experimental/.spack-env/._view/i3skyei333256epm7im3wuo54efwdwdu/lib/python3.8/site-packages (from jupyter->-r ../requirements.txt (line 2)) (6.4.12)\n",
      "Requirement already satisfied: qtconsole in /opt/app-root/src/.local/lib/python3.8/site-packages (from jupyter->-r ../requirements.txt (line 2)) (5.5.1)\n",
      "Requirement already satisfied: jupyter-console in /opt/app-root/src/.local/lib/python3.8/site-packages (from jupyter->-r ../requirements.txt (line 2)) (6.6.3)\n",
      "Requirement already satisfied: nbconvert in /srv/main-spack-instance-2309/spack/var/spack/environments/experimental/.spack-env/._view/i3skyei333256epm7im3wuo54efwdwdu/lib/python3.8/site-packages (from jupyter->-r ../requirements.txt (line 2)) (7.0.0)\n",
      "Requirement already satisfied: ipykernel in /srv/main-spack-instance-2309/spack/var/spack/environments/experimental/.spack-env/._view/i3skyei333256epm7im3wuo54efwdwdu/lib/python3.8/site-packages (from jupyter->-r ../requirements.txt (line 2)) (6.22.0)\n",
      "Requirement already satisfied: ipywidgets in /srv/main-spack-instance-2309/spack/var/spack/environments/experimental/.spack-env/._view/i3skyei333256epm7im3wuo54efwdwdu/lib/python3.8/site-packages (from jupyter->-r ../requirements.txt (line 2)) (7.7.0)\n",
      "Requirement already satisfied: contourpy>=1.0.1 in /srv/main-spack-instance-2309/spack/opt/spack/linux-ubuntu20.04-x86_64/gcc-10.3.0/py-contourpy-1.0.5-gtgzurgpymoaqely362igo5t5ps7dapw/lib/python3.8/site-packages (from matplotlib->-r ../requirements.txt (line 3)) (1.0.5)\n",
      "Requirement already satisfied: cycler>=0.10 in /srv/main-spack-instance-2309/spack/opt/spack/linux-ubuntu20.04-x86_64/gcc-10.3.0/py-cycler-0.11.0-q2cnrqfhir5pik63dtikwsrvg2rs4vns/lib/python3.8/site-packages (from matplotlib->-r ../requirements.txt (line 3)) (0.11.0)\n",
      "Requirement already satisfied: fonttools>=4.22.0 in /srv/main-spack-instance-2309/spack/opt/spack/linux-ubuntu20.04-x86_64/gcc-10.3.0/py-fonttools-4.37.3-fmnomocfk5fo4ya3instvvbfhamzmfuk/lib/python3.8/site-packages (from matplotlib->-r ../requirements.txt (line 3)) (4.37.3)\n",
      "Requirement already satisfied: kiwisolver>=1.0.1 in /srv/main-spack-instance-2309/spack/opt/spack/linux-ubuntu20.04-x86_64/gcc-10.3.0/py-kiwisolver-1.4.4-qflm65l7parda3zqlam56pzt6kywfw5o/lib/python3.8/site-packages (from matplotlib->-r ../requirements.txt (line 3)) (1.4.4)\n",
      "Requirement already satisfied: packaging>=20.0 in /srv/main-spack-instance-2309/spack/opt/spack/linux-ubuntu20.04-x86_64/gcc-10.3.0/py-packaging-23.0-cm5l5syre2cyroyjuffte5kk6ojdedko/lib/python3.8/site-packages (from matplotlib->-r ../requirements.txt (line 3)) (23.0)\n",
      "Requirement already satisfied: pillow>=6.2.0 in /srv/main-spack-instance-2309/spack/opt/spack/linux-ubuntu20.04-x86_64/gcc-10.3.0/py-pillow-9.5.0-rfncv4g4x4npzvv4qbi2s6vujog2ejqp/lib/python3.8/site-packages (from matplotlib->-r ../requirements.txt (line 3)) (9.5.0)\n",
      "Requirement already satisfied: pyparsing>=2.3.1 in /srv/main-spack-instance-2309/spack/opt/spack/linux-ubuntu20.04-x86_64/gcc-10.3.0/py-pyparsing-3.0.9-rfqkt7u7nreisrj6htoooi426o3unnt3/lib/python3.8/site-packages (from matplotlib->-r ../requirements.txt (line 3)) (3.0.9)\n",
      "Requirement already satisfied: python-dateutil>=2.7 in /srv/main-spack-instance-2309/spack/opt/spack/linux-ubuntu20.04-x86_64/gcc-10.3.0/py-python-dateutil-2.8.2-2whtdqqmnbwvkefqw2izibpxacu5am2b/lib/python3.8/site-packages (from matplotlib->-r ../requirements.txt (line 3)) (2.8.2)\n",
      "Requirement already satisfied: importlib-resources>=3.2.0; python_version < \"3.10\" in /srv/main-spack-instance-2309/spack/opt/spack/linux-ubuntu20.04-x86_64/gcc-10.3.0/py-importlib-resources-5.12.0-igfe25p52gktbe5hy7theok4lvjudehq/lib/python3.8/site-packages (from matplotlib->-r ../requirements.txt (line 3)) (5.12.0)\n",
      "Requirement already satisfied: pytz>=2020.1 in /srv/main-spack-instance-2309/spack/var/spack/environments/experimental/.spack-env/._view/i3skyei333256epm7im3wuo54efwdwdu/lib/python3.8/site-packages (from pandas->-r ../requirements.txt (line 7)) (2022.2.1)\n",
      "Requirement already satisfied: tzdata>=2022.1 in /srv/main-spack-instance-2309/spack/var/spack/environments/experimental/.spack-env/._view/i3skyei333256epm7im3wuo54efwdwdu/lib/python3.8/site-packages (from pandas->-r ../requirements.txt (line 7)) (2023.3)\n",
      "Requirement already satisfied: lazyarray>=0.5.2 in /srv/main-spack-instance-2309/spack/var/spack/environments/experimental/.spack-env/._view/i3skyei333256epm7im3wuo54efwdwdu/lib/python3.8/site-packages (from PyNN->-r ../requirements.txt (line 9)) (0.5.2)\n",
      "Requirement already satisfied: zope.interface in /usr/local/lib/python3.8/dist-packages (from DateTime->-r ../requirements.txt (line 11)) (6.0)\n",
      "Requirement already satisfied: jinja2 in /srv/main-spack-instance-2309/spack/var/spack/environments/experimental/.spack-env/._view/i3skyei333256epm7im3wuo54efwdwdu/lib/python3.8/site-packages (from notebook->jupyter->-r ../requirements.txt (line 2)) (3.1.2)\n",
      "Requirement already satisfied: tornado>=6.1 in /srv/main-spack-instance-2309/spack/var/spack/environments/experimental/.spack-env/._view/i3skyei333256epm7im3wuo54efwdwdu/lib/python3.8/site-packages (from notebook->jupyter->-r ../requirements.txt (line 2)) (6.2)\n",
      "Requirement already satisfied: pyzmq>=17 in /srv/main-spack-instance-2309/spack/var/spack/environments/experimental/.spack-env/._view/i3skyei333256epm7im3wuo54efwdwdu/lib/python3.8/site-packages (from notebook->jupyter->-r ../requirements.txt (line 2)) (25.0.2)\n",
      "Requirement already satisfied: argon2-cffi in /srv/main-spack-instance-2309/spack/var/spack/environments/experimental/.spack-env/._view/i3skyei333256epm7im3wuo54efwdwdu/lib/python3.8/site-packages (from notebook->jupyter->-r ../requirements.txt (line 2)) (21.3.0)\n",
      "Requirement already satisfied: traitlets>=4.2.1 in /srv/main-spack-instance-2309/spack/var/spack/environments/experimental/.spack-env/._view/i3skyei333256epm7im3wuo54efwdwdu/lib/python3.8/site-packages (from notebook->jupyter->-r ../requirements.txt (line 2)) (5.9.0)\n",
      "Requirement already satisfied: jupyter-core>=4.6.1 in /srv/main-spack-instance-2309/spack/var/spack/environments/experimental/.spack-env/._view/i3skyei333256epm7im3wuo54efwdwdu/lib/python3.8/site-packages (from notebook->jupyter->-r ../requirements.txt (line 2)) (5.3.0)\n",
      "Requirement already satisfied: jupyter-client>=5.3.4 in /srv/main-spack-instance-2309/spack/var/spack/environments/experimental/.spack-env/._view/i3skyei333256epm7im3wuo54efwdwdu/lib/python3.8/site-packages (from notebook->jupyter->-r ../requirements.txt (line 2)) (8.1.0)\n",
      "Requirement already satisfied: ipython-genutils in /srv/main-spack-instance-2309/spack/var/spack/environments/experimental/.spack-env/._view/i3skyei333256epm7im3wuo54efwdwdu/lib/python3.8/site-packages (from notebook->jupyter->-r ../requirements.txt (line 2)) (0.2.0)\n",
      "Requirement already satisfied: nbformat in /srv/main-spack-instance-2309/spack/var/spack/environments/experimental/.spack-env/._view/i3skyei333256epm7im3wuo54efwdwdu/lib/python3.8/site-packages (from notebook->jupyter->-r ../requirements.txt (line 2)) (5.8.0)\n",
      "Requirement already satisfied: nest-asyncio>=1.5 in /srv/main-spack-instance-2309/spack/var/spack/environments/experimental/.spack-env/._view/i3skyei333256epm7im3wuo54efwdwdu/lib/python3.8/site-packages (from notebook->jupyter->-r ../requirements.txt (line 2)) (1.5.6)\n",
      "Requirement already satisfied: Send2Trash>=1.8.0 in /srv/main-spack-instance-2309/spack/var/spack/environments/experimental/.spack-env/._view/i3skyei333256epm7im3wuo54efwdwdu/lib/python3.8/site-packages (from notebook->jupyter->-r ../requirements.txt (line 2)) (1.8.0)\n",
      "Requirement already satisfied: terminado>=0.8.3 in /srv/main-spack-instance-2309/spack/var/spack/environments/experimental/.spack-env/._view/i3skyei333256epm7im3wuo54efwdwdu/lib/python3.8/site-packages (from notebook->jupyter->-r ../requirements.txt (line 2)) (0.15.0)\n",
      "Requirement already satisfied: prometheus-client in /srv/main-spack-instance-2309/spack/var/spack/environments/experimental/.spack-env/._view/i3skyei333256epm7im3wuo54efwdwdu/lib/python3.8/site-packages (from notebook->jupyter->-r ../requirements.txt (line 2)) (0.14.1)\n",
      "Requirement already satisfied: pygments in /srv/main-spack-instance-2309/spack/var/spack/environments/experimental/.spack-env/._view/i3skyei333256epm7im3wuo54efwdwdu/lib/python3.8/site-packages (from qtconsole->jupyter->-r ../requirements.txt (line 2)) (2.13.0)\n",
      "Requirement already satisfied: qtpy>=2.4.0 in /opt/app-root/src/.local/lib/python3.8/site-packages (from qtconsole->jupyter->-r ../requirements.txt (line 2)) (2.4.1)\n",
      "Requirement already satisfied: ipython in /srv/main-spack-instance-2309/spack/var/spack/environments/experimental/.spack-env/._view/i3skyei333256epm7im3wuo54efwdwdu/lib/python3.8/site-packages (from jupyter-console->jupyter->-r ../requirements.txt (line 2)) (8.11.0)\n",
      "Requirement already satisfied: prompt-toolkit>=3.0.30 in /srv/main-spack-instance-2309/spack/var/spack/environments/experimental/.spack-env/._view/i3skyei333256epm7im3wuo54efwdwdu/lib/python3.8/site-packages (from jupyter-console->jupyter->-r ../requirements.txt (line 2)) (3.0.31)\n",
      "Requirement already satisfied: beautifulsoup4 in /srv/main-spack-instance-2309/spack/var/spack/environments/experimental/.spack-env/._view/i3skyei333256epm7im3wuo54efwdwdu/lib/python3.8/site-packages (from nbconvert->jupyter->-r ../requirements.txt (line 2)) (4.11.1)\n",
      "Requirement already satisfied: bleach in /srv/main-spack-instance-2309/spack/var/spack/environments/experimental/.spack-env/._view/i3skyei333256epm7im3wuo54efwdwdu/lib/python3.8/site-packages (from nbconvert->jupyter->-r ../requirements.txt (line 2)) (5.0.1)\n",
      "Requirement already satisfied: defusedxml in /srv/main-spack-instance-2309/spack/var/spack/environments/experimental/.spack-env/._view/i3skyei333256epm7im3wuo54efwdwdu/lib/python3.8/site-packages (from nbconvert->jupyter->-r ../requirements.txt (line 2)) (0.7.1)\n",
      "Requirement already satisfied: importlib-metadata>=3.6; python_version < \"3.10\" in /srv/main-spack-instance-2309/spack/var/spack/environments/experimental/.spack-env/._view/i3skyei333256epm7im3wuo54efwdwdu/lib/python3.8/site-packages (from nbconvert->jupyter->-r ../requirements.txt (line 2)) (6.6.0)\n",
      "Requirement already satisfied: jupyterlab-pygments in /srv/main-spack-instance-2309/spack/var/spack/environments/experimental/.spack-env/._view/i3skyei333256epm7im3wuo54efwdwdu/lib/python3.8/site-packages (from nbconvert->jupyter->-r ../requirements.txt (line 2)) (0.2.2)\n",
      "Requirement already satisfied: lxml in /srv/main-spack-instance-2309/spack/var/spack/environments/experimental/.spack-env/._view/i3skyei333256epm7im3wuo54efwdwdu/lib/python3.8/site-packages (from nbconvert->jupyter->-r ../requirements.txt (line 2)) (4.9.1)\n",
      "Requirement already satisfied: markupsafe>=2.0 in /srv/main-spack-instance-2309/spack/var/spack/environments/experimental/.spack-env/._view/i3skyei333256epm7im3wuo54efwdwdu/lib/python3.8/site-packages (from nbconvert->jupyter->-r ../requirements.txt (line 2)) (2.1.1)\n",
      "Requirement already satisfied: mistune<3,>=2.0.3 in /srv/main-spack-instance-2309/spack/var/spack/environments/experimental/.spack-env/._view/i3skyei333256epm7im3wuo54efwdwdu/lib/python3.8/site-packages (from nbconvert->jupyter->-r ../requirements.txt (line 2)) (2.0.4)\n",
      "Requirement already satisfied: nbclient>=0.5.0 in /srv/main-spack-instance-2309/spack/var/spack/environments/experimental/.spack-env/._view/i3skyei333256epm7im3wuo54efwdwdu/lib/python3.8/site-packages (from nbconvert->jupyter->-r ../requirements.txt (line 2)) (0.7.2)\n",
      "Requirement already satisfied: pandocfilters>=1.4.1 in /srv/main-spack-instance-2309/spack/var/spack/environments/experimental/.spack-env/._view/i3skyei333256epm7im3wuo54efwdwdu/lib/python3.8/site-packages (from nbconvert->jupyter->-r ../requirements.txt (line 2)) (1.5.0)\n",
      "Requirement already satisfied: tinycss2 in /srv/main-spack-instance-2309/spack/var/spack/environments/experimental/.spack-env/._view/i3skyei333256epm7im3wuo54efwdwdu/lib/python3.8/site-packages (from nbconvert->jupyter->-r ../requirements.txt (line 2)) (1.1.1)\n",
      "Requirement already satisfied: comm>=0.1.1 in /srv/main-spack-instance-2309/spack/var/spack/environments/experimental/.spack-env/._view/i3skyei333256epm7im3wuo54efwdwdu/lib/python3.8/site-packages (from ipykernel->jupyter->-r ../requirements.txt (line 2)) (0.1.3)\n",
      "Requirement already satisfied: debugpy>=1.6.5 in /srv/main-spack-instance-2309/spack/var/spack/environments/experimental/.spack-env/._view/i3skyei333256epm7im3wuo54efwdwdu/lib/python3.8/site-packages (from ipykernel->jupyter->-r ../requirements.txt (line 2)) (1.6.6)\n",
      "Requirement already satisfied: matplotlib-inline>=0.1 in /srv/main-spack-instance-2309/spack/var/spack/environments/experimental/.spack-env/._view/i3skyei333256epm7im3wuo54efwdwdu/lib/python3.8/site-packages (from ipykernel->jupyter->-r ../requirements.txt (line 2)) (0.1.6)\n",
      "Requirement already satisfied: psutil in /srv/main-spack-instance-2309/spack/var/spack/environments/experimental/.spack-env/._view/i3skyei333256epm7im3wuo54efwdwdu/lib/python3.8/site-packages (from ipykernel->jupyter->-r ../requirements.txt (line 2)) (5.9.4)\n",
      "Requirement already satisfied: widgetsnbextension~=3.6.0 in /srv/main-spack-instance-2309/spack/var/spack/environments/experimental/.spack-env/._view/i3skyei333256epm7im3wuo54efwdwdu/lib/python3.8/site-packages (from ipywidgets->jupyter->-r ../requirements.txt (line 2)) (3.6.0)\n",
      "Requirement already satisfied: jupyterlab-widgets>=1.0.0; python_version >= \"3.6\" in /srv/main-spack-instance-2309/spack/var/spack/environments/experimental/.spack-env/._view/i3skyei333256epm7im3wuo54efwdwdu/lib/python3.8/site-packages (from ipywidgets->jupyter->-r ../requirements.txt (line 2)) (3.0.3)\n",
      "Requirement already satisfied: six>=1.5 in /srv/main-spack-instance-2309/spack/opt/spack/linux-ubuntu20.04-x86_64/gcc-10.3.0/py-six-1.16.0-rejvov6ob2elajuclzyltltoaygtlvz2/lib/python3.8/site-packages (from python-dateutil>=2.7->matplotlib->-r ../requirements.txt (line 3)) (1.16.0)\n",
      "Requirement already satisfied: zipp>=3.1.0; python_version < \"3.10\" in /srv/main-spack-instance-2309/spack/opt/spack/linux-ubuntu20.04-x86_64/gcc-10.3.0/py-zipp-3.8.1-2jxq2yrxs5kqh6vzcx6wcc3endr4veem/lib/python3.8/site-packages (from importlib-resources>=3.2.0; python_version < \"3.10\"->matplotlib->-r ../requirements.txt (line 3)) (3.8.1)\n",
      "Requirement already satisfied: argon2-cffi-bindings in /srv/main-spack-instance-2309/spack/var/spack/environments/experimental/.spack-env/._view/i3skyei333256epm7im3wuo54efwdwdu/lib/python3.8/site-packages (from argon2-cffi->notebook->jupyter->-r ../requirements.txt (line 2)) (21.2.0)\n",
      "Requirement already satisfied: platformdirs>=2.5 in /srv/main-spack-instance-2309/spack/var/spack/environments/experimental/.spack-env/._view/i3skyei333256epm7im3wuo54efwdwdu/lib/python3.8/site-packages (from jupyter-core>=4.6.1->notebook->jupyter->-r ../requirements.txt (line 2)) (3.5.0)\n",
      "Requirement already satisfied: fastjsonschema in /srv/main-spack-instance-2309/spack/var/spack/environments/experimental/.spack-env/._view/i3skyei333256epm7im3wuo54efwdwdu/lib/python3.8/site-packages (from nbformat->notebook->jupyter->-r ../requirements.txt (line 2)) (2.16.3)\n",
      "Requirement already satisfied: jsonschema>=2.6 in /srv/main-spack-instance-2309/spack/var/spack/environments/experimental/.spack-env/._view/i3skyei333256epm7im3wuo54efwdwdu/lib/python3.8/site-packages (from nbformat->notebook->jupyter->-r ../requirements.txt (line 2)) (4.4.0)\n",
      "Requirement already satisfied: ptyprocess; os_name != \"nt\" in /srv/main-spack-instance-2309/spack/var/spack/environments/experimental/.spack-env/._view/i3skyei333256epm7im3wuo54efwdwdu/lib/python3.8/site-packages (from terminado>=0.8.3->notebook->jupyter->-r ../requirements.txt (line 2)) (0.7.0)\n",
      "Requirement already satisfied: backcall in /srv/main-spack-instance-2309/spack/var/spack/environments/experimental/.spack-env/._view/i3skyei333256epm7im3wuo54efwdwdu/lib/python3.8/site-packages (from ipython->jupyter-console->jupyter->-r ../requirements.txt (line 2)) (0.2.0)\n",
      "Requirement already satisfied: decorator in /srv/main-spack-instance-2309/spack/var/spack/environments/experimental/.spack-env/._view/i3skyei333256epm7im3wuo54efwdwdu/lib/python3.8/site-packages (from ipython->jupyter-console->jupyter->-r ../requirements.txt (line 2)) (5.1.1)\n",
      "Requirement already satisfied: jedi>=0.16 in /srv/main-spack-instance-2309/spack/var/spack/environments/experimental/.spack-env/._view/i3skyei333256epm7im3wuo54efwdwdu/lib/python3.8/site-packages (from ipython->jupyter-console->jupyter->-r ../requirements.txt (line 2)) (0.18.1)\n",
      "Requirement already satisfied: pickleshare in /srv/main-spack-instance-2309/spack/var/spack/environments/experimental/.spack-env/._view/i3skyei333256epm7im3wuo54efwdwdu/lib/python3.8/site-packages (from ipython->jupyter-console->jupyter->-r ../requirements.txt (line 2)) (0.7.5)\n",
      "Requirement already satisfied: stack-data in /srv/main-spack-instance-2309/spack/var/spack/environments/experimental/.spack-env/._view/i3skyei333256epm7im3wuo54efwdwdu/lib/python3.8/site-packages (from ipython->jupyter-console->jupyter->-r ../requirements.txt (line 2)) (0.5.0)\n",
      "Requirement already satisfied: pexpect>4.3; sys_platform != \"win32\" in /srv/main-spack-instance-2309/spack/var/spack/environments/experimental/.spack-env/._view/i3skyei333256epm7im3wuo54efwdwdu/lib/python3.8/site-packages (from ipython->jupyter-console->jupyter->-r ../requirements.txt (line 2)) (4.8.0)\n",
      "Requirement already satisfied: wcwidth in /srv/main-spack-instance-2309/spack/var/spack/environments/experimental/.spack-env/._view/i3skyei333256epm7im3wuo54efwdwdu/lib/python3.8/site-packages (from prompt-toolkit>=3.0.30->jupyter-console->jupyter->-r ../requirements.txt (line 2)) (0.2.5)\n",
      "Requirement already satisfied: soupsieve>1.2 in /srv/main-spack-instance-2309/spack/var/spack/environments/experimental/.spack-env/._view/i3skyei333256epm7im3wuo54efwdwdu/lib/python3.8/site-packages (from beautifulsoup4->nbconvert->jupyter->-r ../requirements.txt (line 2)) (2.3.2.post1)\n",
      "Requirement already satisfied: webencodings in /srv/main-spack-instance-2309/spack/var/spack/environments/experimental/.spack-env/._view/i3skyei333256epm7im3wuo54efwdwdu/lib/python3.8/site-packages (from bleach->nbconvert->jupyter->-r ../requirements.txt (line 2)) (0.5.1)\n",
      "Requirement already satisfied: cffi>=1.0.1 in /srv/main-spack-instance-2309/spack/var/spack/environments/experimental/.spack-env/._view/i3skyei333256epm7im3wuo54efwdwdu/lib/python3.8/site-packages (from argon2-cffi-bindings->argon2-cffi->notebook->jupyter->-r ../requirements.txt (line 2)) (1.15.1)\n",
      "Requirement already satisfied: attrs>=17.4.0 in /srv/main-spack-instance-2309/spack/opt/spack/linux-ubuntu20.04-x86_64/gcc-10.3.0/py-attrs-22.2.0-w5tmaasnhrdix2ap226euog4so2jvgvd/lib/python3.8/site-packages (from jsonschema>=2.6->nbformat->notebook->jupyter->-r ../requirements.txt (line 2)) (22.2.0)\n",
      "Requirement already satisfied: pyrsistent!=0.17.0,!=0.17.1,!=0.17.2,>=0.14.0 in /srv/main-spack-instance-2309/spack/var/spack/environments/experimental/.spack-env/._view/i3skyei333256epm7im3wuo54efwdwdu/lib/python3.8/site-packages (from jsonschema>=2.6->nbformat->notebook->jupyter->-r ../requirements.txt (line 2)) (0.19.3)\n",
      "Requirement already satisfied: parso<0.9.0,>=0.8.0 in /srv/main-spack-instance-2309/spack/var/spack/environments/experimental/.spack-env/._view/i3skyei333256epm7im3wuo54efwdwdu/lib/python3.8/site-packages (from jedi>=0.16->ipython->jupyter-console->jupyter->-r ../requirements.txt (line 2)) (0.8.3)\n",
      "Requirement already satisfied: executing in /srv/main-spack-instance-2309/spack/var/spack/environments/experimental/.spack-env/._view/i3skyei333256epm7im3wuo54efwdwdu/lib/python3.8/site-packages (from stack-data->ipython->jupyter-console->jupyter->-r ../requirements.txt (line 2)) (1.1.0)\n",
      "Requirement already satisfied: asttokens in /srv/main-spack-instance-2309/spack/var/spack/environments/experimental/.spack-env/._view/i3skyei333256epm7im3wuo54efwdwdu/lib/python3.8/site-packages (from stack-data->ipython->jupyter-console->jupyter->-r ../requirements.txt (line 2)) (2.0.8)\n",
      "Requirement already satisfied: pure-eval in /srv/main-spack-instance-2309/spack/var/spack/environments/experimental/.spack-env/._view/i3skyei333256epm7im3wuo54efwdwdu/lib/python3.8/site-packages (from stack-data->ipython->jupyter-console->jupyter->-r ../requirements.txt (line 2)) (0.2.2)\n",
      "Requirement already satisfied: pycparser in /srv/main-spack-instance-2309/spack/var/spack/environments/experimental/.spack-env/._view/i3skyei333256epm7im3wuo54efwdwdu/lib/python3.8/site-packages (from cffi>=1.0.1->argon2-cffi-bindings->argon2-cffi->notebook->jupyter->-r ../requirements.txt (line 2)) (2.21)\n"
     ]
    }
   ],
   "source": [
    "# Install required python packages\n",
    "!pip install -r ../requirements.txt"
   ]
  },
  {
   "cell_type": "markdown",
   "id": "dd455dd014642951",
   "metadata": {},
   "source": [
    "## Imports"
   ]
  },
  {
   "cell_type": "code",
   "execution_count": 2,
   "id": "5b4fd0b5-acc6-49d0-a64a-cd760f7f3606",
   "metadata": {
    "is_executing": true
   },
   "outputs": [],
   "source": [
    "import sys\n",
    "import os \n",
    "import warnings\n",
    "import numpy as np\n",
    "\n",
    "pkg_path = os.path.abspath(os.path.join(os.getcwd(), os.pardir))\n",
    "sys.path.append(pkg_path)\n",
    "\n",
    "np.set_printoptions(threshold=np.inf, suppress=True, linewidth=np.inf)\n",
    "warnings.filterwarnings(action='ignore', category=UserWarning)\n",
    "\n",
    "import shtmbss2.addsrc\n",
    "from shtmbss2.common.config import RuntimeConfig, Backends"
   ]
  },
  {
   "cell_type": "code",
   "execution_count": 3,
   "id": "8eec54364a74e696",
   "metadata": {
    "collapsed": false,
    "jupyter": {
     "outputs_hidden": false
    }
   },
   "outputs": [],
   "source": [
    "RuntimeConfig.backend = Backends.BRAIN_SCALES_2"
   ]
  },
  {
   "cell_type": "code",
   "execution_count": null,
   "id": "913f6805",
   "metadata": {},
   "outputs": [],
   "source": [
    "if RuntimeConfig.backend == Backends.BRAIN_SCALES_2:\n",
    "    from shtmbss2.brainscales2.hardware import hardware_initialization\n",
    "    from shtmbss2.brainscales2.network import SHTMTotal\n",
    "    hardware_initialization()\n",
    "elif RuntimeConfig.backend == Backends.NEST:\n",
    "    from shtmbss2.nest.network import SHTMTotal"
   ]
  },
  {
   "cell_type": "markdown",
   "id": "73d26b5c838bd931",
   "metadata": {},
   "source": [
    "## Configuration"
   ]
  },
  {
   "cell_type": "code",
   "execution_count": null,
   "id": "61f24878",
   "metadata": {},
   "outputs": [],
   "source": [
    "# pynn.logger.default_config(level=pynn.logger.LogLevel.DEBUG)\n",
    "\n",
    "num_sim_steps = 150\n",
    "debug = False"
   ]
  },
  {
   "cell_type": "markdown",
   "id": "8a098cf530757946",
   "metadata": {},
   "source": [
    "## Network Initialization"
   ]
  },
  {
   "cell_type": "code",
   "execution_count": null,
   "id": "454258cf7c7f5426",
   "metadata": {
    "collapsed": false,
    "jupyter": {
     "outputs_hidden": false
    },
    "scrolled": true,
    "tags": []
   },
   "outputs": [],
   "source": [
    "shtm = SHTMTotal(log_permanence='all', log_weights='all')\n",
    "\n",
    "shtm.init_neurons()\n",
    "shtm.init_connections(debug=debug)\n",
    "shtm.init_external_input()\n",
    "\n",
    "if RuntimeConfig.backend == Backends.BRAIN_SCALES_2:\n",
    "    shtm.init_rec_exc()"
   ]
  },
  {
   "cell_type": "markdown",
   "id": "39df11c994793247",
   "metadata": {},
   "source": [
    "## Network Emulation & Plotting"
   ]
  },
  {
   "cell_type": "code",
   "execution_count": null,
   "id": "b65966b2",
   "metadata": {
    "scrolled": true,
    "tags": []
   },
   "outputs": [],
   "source": [
    "shtm.run(steps=1, plasticity_enabled=False)"
   ]
  },
  {
   "cell_type": "code",
   "execution_count": null,
   "id": "87ac03d2-e5ea-46de-8d51-61ef88171f7e",
   "metadata": {},
   "outputs": [],
   "source": [
    "%matplotlib inline\n",
    "\n",
    "shtm.plot_events(neuron_types=\"all\", size=(24, 10))"
   ]
  },
  {
   "cell_type": "code",
   "execution_count": null,
   "id": "20fae425-5ea2-4971-9d3c-b45ea66c041e",
   "metadata": {},
   "outputs": [],
   "source": [
    "# Set new weights for plastic synapses (exc-exc)\n",
    "# shtm.set_weights_exc_exc(400, 7, post_ids=[1,2,3], p_con=1.0)"
   ]
  },
  {
   "cell_type": "code",
   "execution_count": null,
   "id": "39676696-619f-439a-9efb-f7d6530e090b",
   "metadata": {
    "scrolled": true,
    "tags": []
   },
   "outputs": [],
   "source": [
    "shtm.run(steps=10, plasticity_enabled=True)"
   ]
  },
  {
   "cell_type": "code",
   "execution_count": null,
   "id": "7ec18683",
   "metadata": {},
   "outputs": [],
   "source": [
    "%matplotlib inline\n",
    "\n",
    "shtm.plot_events(neuron_types=\"all\", size=(24, 10))"
   ]
  },
  {
   "cell_type": "code",
   "execution_count": null,
   "id": "afab21a7-513c-46e3-b905-82f231f0c51c",
   "metadata": {
    "scrolled": true,
    "tags": []
   },
   "outputs": [],
   "source": [
    "shtm.run(steps=1, plasticity_enabled=True)"
   ]
  },
  {
   "cell_type": "code",
   "execution_count": null,
   "id": "f085ba96-fe22-4066-8421-5a15fd5bfd9f",
   "metadata": {},
   "outputs": [],
   "source": [
    "%matplotlib inline\n",
    "\n",
    "shtm.plot_events(neuron_types=\"all\", size=(24, 10))"
   ]
  },
  {
   "cell_type": "code",
   "execution_count": null,
   "id": "b093bdb4-c215-41b3-83b1-a48746efd37a",
   "metadata": {},
   "outputs": [],
   "source": [
    "shtm.set_weights_exc_exc(400, 2, post_ids=[3,4,5], p_con=1.0)\n",
    "shtm.run(steps=1, plasticity_enabled=False)\n",
    "\n",
    "%matplotlib inline\n",
    "shtm.plot_events(neuron_types=\"all\", size=(24, 10))"
   ]
  },
  {
   "cell_type": "markdown",
   "id": "32d5cfb7-8350-430a-81df-2e265c424e84",
   "metadata": {
    "tags": []
   },
   "source": [
    "## Additional Plotting"
   ]
  },
  {
   "cell_type": "code",
   "execution_count": null,
   "id": "59e08d05-d54f-4f55-a090-accfbf8f7ca4",
   "metadata": {},
   "outputs": [],
   "source": [
    "%matplotlib inline\n",
    "\n",
    "shtm.plot_permanence_diff()"
   ]
  },
  {
   "cell_type": "code",
   "execution_count": null,
   "id": "63edb4d6-ba9a-414e-8ed7-41cc7744bc05",
   "metadata": {},
   "outputs": [],
   "source": [
    "%matplotlib inline\n",
    "\n",
    "shtm.plot_permanence_history(plot_con_ids=[1, 7])"
   ]
  },
  {
   "cell_type": "code",
   "execution_count": null,
   "id": "5fb55aa1",
   "metadata": {},
   "outputs": [],
   "source": [
    "%matplotlib inline\n",
    "\n",
    "shtm.plot_v_exc(alphabet_range=[2], neuron_range=[1], neuron_type=1, runtime=runtime)"
   ]
  },
  {
   "cell_type": "code",
   "execution_count": null,
   "id": "a46a6540-dbae-4924-9b21-a55a8a69420c",
   "metadata": {},
   "outputs": [],
   "source": [
    "%matplotlib inline\n",
    "\n",
    "shtm.plot_v_exc(alphabet_range=[0], neuron_range='all', neuron_type=1, runtime=runtime, show_legend=False)"
   ]
  },
  {
   "cell_type": "code",
   "execution_count": null,
   "id": "1d65a023",
   "metadata": {},
   "outputs": [],
   "source": [
    "%matplotlib inline\n",
    "\n",
    "shtm.plot_v_exc(alphabet_range=range(1, alphabet_size))"
   ]
  },
  {
   "cell_type": "markdown",
   "id": "4328ab22-5cd9-4387-87b7-a58c0aa4c19e",
   "metadata": {
    "tags": []
   },
   "source": [
    "## Additional Analysis"
   ]
  },
  {
   "cell_type": "code",
   "execution_count": null,
   "id": "d63f1348-ca17-4e44-9c3d-d049df01a1e5",
   "metadata": {},
   "outputs": [],
   "source": [
    "for i in range(len(shtm.con_plastic)):\n",
    "    shtm.con_plastic[i].mature_weight = 120\n",
    "    print(i, shtm.con_plastic[i].projection.label.split('_')[1], shtm.con_plastic[i].get_all_connection_ids())\n",
    "    "
   ]
  },
  {
   "cell_type": "code",
   "execution_count": null,
   "id": "3bf91d95-0c4e-4c3f-9345-2781aea70d54",
   "metadata": {},
   "outputs": [],
   "source": [
    "arr = np.array(shtm.con_plastic[1].permanences)"
   ]
  },
  {
   "cell_type": "code",
   "execution_count": null,
   "id": "62985153-5cf5-4417-8ad7-e0b850dccd5f",
   "metadata": {},
   "outputs": [],
   "source": [
    "for c in shtm.con_plastic[1].projection.connections:\n",
    "    print(f'C[{c.presynaptic_index}, {c.postsynaptic_index}].weight = {c.weight}')"
   ]
  },
  {
   "cell_type": "code",
   "execution_count": null,
   "id": "f6d0c57c-a3bc-4885-b9d0-74163d58e299",
   "metadata": {},
   "outputs": [],
   "source": [
    "np.set_printoptions(threshold=np.inf, suppress=True, linewidth=np.inf)\n",
    "shtm.con_plastic[1].projection.get(\"weight\", format=\"array\")"
   ]
  },
  {
   "cell_type": "code",
   "execution_count": null,
   "id": "ddd1f5a2-df0a-434e-9c26-ee3982d3733c",
   "metadata": {},
   "outputs": [],
   "source": [
    "shtm.con_plastic[7].projection.get(\"weight\", format=\"array\")"
   ]
  },
  {
   "cell_type": "code",
   "execution_count": null,
   "id": "a8a69eb7-d8c4-4796-bfc4-618ec84d0139",
   "metadata": {},
   "outputs": [],
   "source": [
    "# Print spikes form spiketrain\n",
    "for s in shtm.con_plastic[1].projection.post.get_data(\"spikes\").segments[-1].spiketrains:\n",
    "    print(s)\n",
    "print(len(shtm.con_plastic[1].projection.post.get_data(\"spikes\").segments[-1].spiketrains))\n",
    "print(len(shtm.con_plastic[1].projection.connections))"
   ]
  },
  {
   "cell_type": "code",
   "execution_count": null,
   "id": "c1aaf096-a0ca-408b-944c-f5a31ace192a",
   "metadata": {},
   "outputs": [],
   "source": [
    "for con in shtm.con_plastic:\n",
    "    print(f\"Sum(P[{con.projection.label}]) = {np.sum(con.permanences[-1] - con.permanences[0])}\")"
   ]
  },
  {
   "cell_type": "code",
   "execution_count": null,
   "id": "6faa8f13-7dcb-47d3-924a-1e4413c434a4",
   "metadata": {},
   "outputs": [],
   "source": [
    "dendrites, somas = shtm.get_spike_times(0.44, 0.1e-2)\n",
    "\n",
    "print(somas)"
   ]
  },
  {
   "cell_type": "code",
   "execution_count": null,
   "id": "c66a7a9a-0b2a-424f-aec3-bebe7774d3cd",
   "metadata": {},
   "outputs": [],
   "source": [
    "for i_plastic in range(len(shtm.con_plastic)):\n",
    "    shtm.con_plastic[i_plastic].lambda_plus *= 2\n",
    "    shtm.con_plastic[i_plastic].lambda_minus *= 2\n",
    "    shtm.con_plastic[i_plastic].lambda_h *= 2\n",
    "    \n",
    "    # print(f\"Sum(P[{con.projection.label}]) = {np.sum(con.permanences[-1] - con.permanences[0])}\")"
   ]
  },
  {
   "cell_type": "markdown",
   "id": "bbeaca0e-a35c-4102-add8-f332fef127fe",
   "metadata": {
    "tags": []
   },
   "source": [
    "## Check indices"
   ]
  },
  {
   "cell_type": "code",
   "execution_count": null,
   "id": "76723fe1-3493-459f-a944-31f04e122e41",
   "metadata": {},
   "outputs": [],
   "source": [
    "dendrites, somas = shtm.neurons_exc[0]\n",
    "\n",
    "print(somas.all_cells)\n",
    "print(somas.id_to_index(13))\n",
    "\n",
    "print(somas.get_data(\"spikes\").segments[-1].spiketrains[8])\n",
    "print(shtm.con_plastic[0].projection.pre.get_data(\"spikes\").segments[-1].spiketrains[8])"
   ]
  },
  {
   "cell_type": "markdown",
   "id": "fafabef1-2864-4ee9-9881-724eb43173e4",
   "metadata": {
    "tags": []
   },
   "source": [
    "## Check spikes"
   ]
  },
  {
   "cell_type": "code",
   "execution_count": null,
   "id": "a0e80595-b68b-4f00-aad0-7fccf6018054",
   "metadata": {},
   "outputs": [],
   "source": [
    "dendrites, somas = shtm.neurons_exc[0]\n",
    "\n",
    "spike_ids_a = list()\n",
    "spike_ids_b = list()\n",
    "\n",
    "# Print spikes form spiketrain\n",
    "for s in somas.get_data(\"spikes\").segments[-1].spiketrains:\n",
    "    print(s)\n",
    "    if len(s) > 0:\n",
    "        print(s[0]/0.1e-3)\n",
    "        spike_ids_a.append(int(s[0]/0.1e3))\n",
    "\n",
    "    # for t in np.linspace(0., runtime, int(runtime / 0.1e-3)):\n",
    "        \n",
    "    \n",
    "print(len(somas.get_data(\"spikes\").segments[-1].spiketrains))\n",
    "\n"
   ]
  },
  {
   "cell_type": "code",
   "execution_count": null,
   "id": "9997101e-eb29-48bc-97b2-7a1caf41ebb5",
   "metadata": {},
   "outputs": [],
   "source": [
    "print(shtm.neurons_exc[0][0].get(\"tau_m\"))\n",
    "print(shtm.neurons_inh[0].tau_m)\n",
    "w = shtm.exc_to_inh[1].get(\"weight\", format=\"array\")\n",
    "print(w)\n",
    "print(pynn.get_current_time())"
   ]
  },
  {
   "cell_type": "markdown",
   "id": "882056d0-1b54-484b-9d76-1e92d22226fe",
   "metadata": {
    "jp-MarkdownHeadingCollapsed": true,
    "tags": []
   },
   "source": [
    "## Save objects"
   ]
  },
  {
   "cell_type": "code",
   "execution_count": null,
   "id": "d7d4fbd7-df35-4345-9fc0-912746409fcc",
   "metadata": {},
   "outputs": [],
   "source": []
  },
  {
   "cell_type": "code",
   "execution_count": null,
   "id": "4c58ecfe-d543-48ad-ab93-cf252e5266fd",
   "metadata": {},
   "outputs": [],
   "source": [
    "import pickle\n",
    "\n",
    "experiment_name = \"shtm_off-chip_01\"\n",
    "\n",
    "with open(f'../evaluation/objects/{experiment_name}.pkl', 'wb') as out_file:\n",
    "    pickle.dump(shtm, out_file)"
   ]
  },
  {
   "cell_type": "code",
   "execution_count": null,
   "id": "03924cea-37a3-4726-9a44-b605eb3f4b54",
   "metadata": {},
   "outputs": [],
   "source": [
    "with open(f'../evaluation/objects/{experiment_name}.pkl', 'rb') as in_file:\n",
    "    obj = pickle.load(in_file)"
   ]
  },
  {
   "cell_type": "markdown",
   "id": "0ea987d6-f2d9-48ad-b459-17967db1d547",
   "metadata": {
    "tags": []
   },
   "source": [
    "## Plotting - Events - All Symbols"
   ]
  },
  {
   "cell_type": "code",
   "execution_count": null,
   "id": "7836db2d-bc5f-45e3-9eee-3c9c261f4f6e",
   "metadata": {},
   "outputs": [],
   "source": [
    "%matplotlib inline\n",
    "\n",
    "seq = 2\n",
    "\n",
    "fig_title = \"Neuronal Events for Sequence {D, C, B} - After Learning\"\n",
    "\n",
    "file_path = f\"../evaluation/figures/shtm-bss2_eval_learning-off-chip_seq-0{seq}_before-learning\"\n",
    "# file_path = f\"../evaluation/figures/shtm-bss2_eval_learning-off-chip_seq-0{seq}_after-learning\"\n",
    "\n",
    "# file_path += \"_a\"\n",
    "\n",
    "if seq == 1:\n",
    "    fig = shtm.plot_events(shtm, size=[12, 10], x_lim_lower=0, x_lim_upper=0.14, seq_start=0.0, seq_end=0.14, fig_title=fig_title, file_path=file_path)\n",
    "elif seq == 2:\n",
    "    fig = shtm.plot_events(shtm, size=[12, 10], x_lim_lower=0.22, x_lim_upper=0.36, seq_start=0.22, seq_end=0.36, fig_title=fig_title, file_path=file_path)\n",
    "    \n"
   ]
  },
  {
   "cell_type": "markdown",
   "id": "7ab2e487",
   "metadata": {},
   "source": [
    "## Plotting - Events - One Symbol"
   ]
  },
  {
   "cell_type": "code",
   "execution_count": null,
   "id": "422c8337-6159-406c-a098-e76e21a656a9",
   "metadata": {},
   "outputs": [],
   "source": [
    "%matplotlib inline\n",
    "\n",
    "fig_title = \"Neuronal Events for Sequence {D, C, B} - After Learning\"\n",
    "file_path = f\"../evaluation/figures/shtm-bss2_eval_limits-spikes_w-inh\"\n",
    "\n",
    "# file_path += \"_a\"\n",
    "\n",
    "fig = shtm.plot_events(shtm, neuron_types=\"all\", symbols=[2], size=[12, 10], x_lim_lower=0, x_lim_upper=0.14, seq_start=0.0, seq_end=0.14, fig_title=fig_title, file_path=file_path)\n",
    "\n",
    "\n",
    "spikes = shtm.neurons_exc[2][1].get_data(\"spikes\").segments[-1].spiketrains"
   ]
  },
  {
   "cell_type": "code",
   "execution_count": null,
   "id": "fd3858c5-f2a7-443f-919c-a76051b90f8c",
   "metadata": {},
   "outputs": [],
   "source": [
    "# file_path_open = f\"../evaluation/figures/shtm-bss2_eval_limits-volts_w-inh\"\n",
    "# file_path_open = f\"../evaluation/figures/shtm-bss2_eval_limits-volts_wo-inh\"\n",
    "# file_path_open = f\"../evaluation/figures/shtm-bss2_eval_limits-spikes_w-inh\"\n",
    "file_path_open = f\"../evaluation/figures/shtm-bss2_eval_limits-spikes_wo-inh\"\n",
    "\n",
    "figx = pickle.load(open(f'{file_path_open}.fig.pickle', 'rb'))\n",
    "figx.set_size_inches(12, 6)\n",
    "\n",
    "figx.legends = []\n",
    "figx.suptitle(\"\")\n",
    "figx.subplots_adjust(top=0.85)\n",
    "neuron_types = [NeuronType.Dendrite, NeuronType.Soma, NeuronType.Inhibitory]\n",
    "custom_lines = [Line2D([0], [0], color=f\"C{n.ID}\", label=n.NAME.capitalize(), lw=3) for n in neuron_types]\n",
    "plt.figlegend(handles=custom_lines, loc=(0.402, 0.888), ncol=3, labelspacing=0., fontsize=18, fancybox=True, borderaxespad=1)\n",
    "\n",
    "\n",
    "# figx.show()\n",
    "\n",
    "figx.savefig(f\"{file_path_open}.pdf\", bbox_inches='tight')\n",
    "# figx.savefig(f\"{file_path_open}.png\")"
   ]
  },
  {
   "cell_type": "markdown",
   "id": "52beabea-81ec-4134-a9ea-ecd496f115b1",
   "metadata": {},
   "source": [
    "## Final Plots - Voltage"
   ]
  },
  {
   "cell_type": "code",
   "execution_count": null,
   "id": "b533d023-9a78-4011-91b4-9ce2af81885e",
   "metadata": {},
   "outputs": [],
   "source": [
    "%matplotlib inline\n",
    "\n",
    "# plt.rcParams.update({'font.size': 12})\n",
    "\n",
    "seq = 2\n",
    "\n",
    "# file_path = f\"../evaluation/figures/shtm-bss2_eval_learning-off-chip_seq-0{seq}_before-learning\"\n",
    "# file_path = f\"../evaluation/figures/shtm-bss2_eval_learning-off-chip_seq-0{seq}_after-learning\"\n",
    "file_path = f\"../evaluation/figures/shtm-bss2_eval_limits-volts_w-inh\"\n",
    "\n",
    "# file_path += \"_a\"\n",
    "\n",
    "# if seq == 1:\n",
    "    # fig = plot_v_exc(shtm, [0], neuron_range=\"all\", size=[12, 10], x_lim_lower=0, x_lim_upper=0.14, seq_start=0.0, seq_end=0.14, file_path=file_path)\n",
    "# elif seq == 2:\n",
    "    # fig = plot_v_exc(shtm, [0], neuron_range=\"all\", size=[12, 10], x_lim_lower=0.22, x_lim_upper=0.36, seq_start=0.22, seq_end=0.36, file_path=file_path)\n",
    "\n",
    "shtm.plot_v_exc(shtm, [2], neuron_range=\"all\", size=[12, 10], runtime=0.14, file_path=file_path)\n",
    "\n",
    "    \n"
   ]
  }
 ],
 "metadata": {
  "kernelspec": {
   "display_name": "EBRAINS-experimental",
   "language": "python",
   "name": "ebrains-experimental"
  },
  "language_info": {
   "codemirror_mode": {
    "name": "ipython",
    "version": 3
   },
   "file_extension": ".py",
   "mimetype": "text/x-python",
   "name": "python",
   "nbconvert_exporter": "python",
   "pygments_lexer": "ipython3",
   "version": "3.8.11"
  }
 },
 "nbformat": 4,
 "nbformat_minor": 5
}
