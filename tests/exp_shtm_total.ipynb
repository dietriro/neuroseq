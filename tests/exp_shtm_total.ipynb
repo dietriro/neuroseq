{
 "cells": [
  {
   "cell_type": "markdown",
   "id": "29bac58d2fcf2162",
   "metadata": {},
   "source": [
    "## Setup"
   ]
  },
  {
   "cell_type": "code",
   "execution_count": null,
   "outputs": [],
   "source": [
    "# Install required python packagesspike_recorder_soma\n",
    "!pip install -r ../requirements.txt"
   ],
   "metadata": {
    "collapsed": false
   },
   "id": "5ce48cf4ea098dae"
  },
  {
   "cell_type": "markdown",
   "source": [
    "## Imports"
   ],
   "metadata": {
    "collapsed": false
   },
   "id": "dd455dd014642951"
  },
  {
   "cell_type": "code",
   "execution_count": null,
   "id": "5b4fd0b5-acc6-49d0-a64a-cd760f7f3606",
   "metadata": {},
   "outputs": [],
   "source": [
    "import sys\n",
    "import os \n",
    "import warnings\n",
    "import numpy as np\n",
    "\n",
    "pkg_path = os.path.abspath(os.path.join(os.getcwd(), os.pardir))\n",
    "sys.path.append(pkg_path)\n",
    "\n",
    "np.set_printoptions(threshold=np.inf, suppress=True, linewidth=np.inf)\n",
    "warnings.filterwarnings(action='ignore', category=UserWarning)\n",
    "\n",
    "import shtmbss2.addsrc\n",
    "from shtmbss2.common.config import *\n",
    "from shtmbss2.core.logging import log"
   ]
  },
  {
   "cell_type": "code",
   "execution_count": null,
   "id": "8eec54364a74e696",
   "metadata": {
    "collapsed": false
   },
   "outputs": [],
   "source": [
    "RuntimeConfig.backend = Backends.NEST"
   ]
  },
  {
   "cell_type": "code",
   "execution_count": null,
   "id": "913f6805",
   "metadata": {},
   "outputs": [],
   "source": [
    "if RuntimeConfig.backend == Backends.BRAIN_SCALES_2:\n",
    "    import shtmbss2.brainscales2.patches\n",
    "    from shtmbss2.brainscales2.hardware import hardware_initialization\n",
    "    from shtmbss2.brainscales2.network import SHTMTotal\n",
    "    hardware_initialization()\n",
    "elif RuntimeConfig.backend == Backends.NEST:\n",
    "    from shtmbss2.nest.network import SHTMTotal\n",
    "    \n",
    "from shtmbss2.common.network import NeuronType, RecTypes"
   ]
  },
  {
   "cell_type": "markdown",
   "id": "73d26b5c838bd931",
   "metadata": {},
   "source": [
    "## Configuration"
   ]
  },
  {
   "cell_type": "code",
   "execution_count": null,
   "id": "61f24878",
   "metadata": {},
   "outputs": [],
   "source": [
    "# pynn.logger.default_config(level=pynn.logger.LogLevel.DEBUG)\n",
    "# log.handlers[LogHandler.STREAM].setLevel(logging.DEBUG)\n",
    "\n",
    "debug = False\n",
    "\n",
    "experiment_num = None"
   ]
  },
  {
   "cell_type": "markdown",
   "id": "8a098cf530757946",
   "metadata": {},
   "source": [
    "## Network Initialization"
   ]
  },
  {
   "cell_type": "code",
   "execution_count": null,
   "id": "454258cf7c7f5426",
   "metadata": {
    "collapsed": false,
    "scrolled": true,
    "tags": []
   },
   "outputs": [],
   "source": [
    "shtm = SHTMTotal()\n",
    "\n",
    "shtm.init_neurons()\n",
    "shtm.init_connections(debug=debug)\n",
    "shtm.init_external_input()\n",
    "\n",
    "if RuntimeConfig.backend == Backends.BRAIN_SCALES_2:\n",
    "    shtm.init_rec_exc()\n",
    "    \n",
    "shtm.experiment_num = experiment_num"
   ]
  },
  {
   "cell_type": "markdown",
   "id": "39df11c994793247",
   "metadata": {},
   "source": [
    "## Network Emulation & Plotting"
   ]
  },
  {
   "cell_type": "code",
   "execution_count": null,
   "id": "b65966b2",
   "metadata": {
    "scrolled": true,
    "tags": []
   },
   "outputs": [],
   "source": [
    "shtm.run(steps=10, plasticity_enabled=True)"
   ]
  },
  {
   "cell_type": "code",
   "execution_count": null,
   "id": "87ac03d2-e5ea-46de-8d51-61ef88171f7e",
   "metadata": {},
   "outputs": [],
   "source": [
    "%matplotlib inline\n",
    "\n",
    "shtm.plot_events(neuron_types=\"all\", size=(24, 10))"
   ]
  },
  {
   "cell_type": "code",
   "execution_count": null,
   "outputs": [],
   "source": [
    "%matplotlib inline\n",
    "\n",
    "shtm.plot_performance(StatisticalMetrics.MEAN)"
   ],
   "metadata": {
    "collapsed": false
   },
   "id": "385b1bd9f46beecf"
  },
  {
   "cell_type": "code",
   "execution_count": null,
   "id": "39676696-619f-439a-9efb-f7d6530e090b",
   "metadata": {
    "scrolled": true,
    "tags": []
   },
   "outputs": [],
   "source": [
    "shtm.run(steps=1, plasticity_enabled=True)"
   ]
  },
  {
   "cell_type": "code",
   "execution_count": null,
   "id": "7ec18683",
   "metadata": {},
   "outputs": [],
   "source": [
    "%matplotlib inline\n",
    "\n",
    "shtm.plot_events(neuron_types=\"all\", size=(24, 10))"
   ]
  },
  {
   "cell_type": "code",
   "execution_count": null,
   "outputs": [],
   "source": [
    "%matplotlib inline\n",
    "\n",
    "shtm.plot_performance()"
   ],
   "metadata": {
    "collapsed": false
   },
   "id": "68fbbfd70f7066a7"
  },
  {
   "cell_type": "code",
   "execution_count": null,
   "id": "afab21a7-513c-46e3-b905-82f231f0c51c",
   "metadata": {
    "scrolled": true,
    "tags": []
   },
   "outputs": [],
   "source": [
    "shtm.run(steps=10, plasticity_enabled=True)"
   ]
  },
  {
   "cell_type": "code",
   "execution_count": null,
   "id": "f085ba96-fe22-4066-8421-5a15fd5bfd9f",
   "metadata": {},
   "outputs": [],
   "source": [
    "%matplotlib inline\n",
    "\n",
    "shtm.plot_events(neuron_types=\"all\", size=(24, 10))"
   ]
  },
  {
   "cell_type": "code",
   "execution_count": null,
   "id": "b093bdb4-c215-41b3-83b1-a48746efd37a",
   "metadata": {},
   "outputs": [],
   "source": [
    "shtm.set_weights_exc_exc(10, 1, post_ids=[3,4,5], p_con=1.0)\n",
    "shtm.run(steps=1, plasticity_enabled=True)\n",
    "\n",
    "# %matplotlib inline\n",
    "# shtm.plot_events(neuron_types=\"all\", size=(24, 10))"
   ]
  },
  {
   "cell_type": "markdown",
   "id": "32d5cfb7-8350-430a-81df-2e265c424e84",
   "metadata": {
    "tags": []
   },
   "source": [
    "## Additional Plotting"
   ]
  },
  {
   "cell_type": "code",
   "execution_count": null,
   "id": "59e08d05-d54f-4f55-a090-accfbf8f7ca4",
   "metadata": {},
   "outputs": [],
   "source": [
    "%matplotlib inline\n",
    "\n",
    "shtm.plot_permanence_diff()"
   ]
  },
  {
   "cell_type": "code",
   "execution_count": null,
   "id": "63edb4d6-ba9a-414e-8ed7-41cc7744bc05",
   "metadata": {},
   "outputs": [],
   "source": [
    "%matplotlib inline\n",
    "\n",
    "for i in [0, 1]:\n",
    "    print(shtm.con_plastic[i].permanences)\n",
    "\n",
    "shtm.plot_permanence_history(plot_con_ids=[0, 1])"
   ]
  },
  {
   "cell_type": "code",
   "execution_count": null,
   "id": "5fb55aa1",
   "metadata": {},
   "outputs": [],
   "source": [
    "%matplotlib inline\n",
    "from shtmbss2.common.network import NeuronType, RecTypes\n",
    "\n",
    "shtm.plot_v_exc(alphabet_range=[2], neuron_range=\"all\", neuron_type=NeuronType.Soma)"
   ]
  },
  {
   "cell_type": "code",
   "execution_count": null,
   "id": "a46a6540-dbae-4924-9b21-a55a8a69420c",
   "metadata": {},
   "outputs": [],
   "source": [
    "%matplotlib inline\n",
    "\n",
    "shtm.plot_v_exc(alphabet_range=[0], neuron_range='all', neuron_type=1, runtime=runtime, show_legend=False)"
   ]
  },
  {
   "cell_type": "code",
   "execution_count": null,
   "id": "1d65a023",
   "metadata": {},
   "outputs": [],
   "source": [
    "%matplotlib inline\n",
    "\n",
    "shtm.plot_v_exc(alphabet_range=range(1, alphabet_size))"
   ]
  },
  {
   "cell_type": "markdown",
   "id": "4328ab22-5cd9-4387-87b7-a58c0aa4c19e",
   "metadata": {
    "tags": []
   },
   "source": [
    "## Additional Analysis"
   ]
  },
  {
   "cell_type": "code",
   "execution_count": null,
   "id": "d63f1348-ca17-4e44-9c3d-d049df01a1e5",
   "metadata": {},
   "outputs": [],
   "source": [
    "for i in range(len(shtm.con_plastic)):\n",
    "    shtm.con_plastic[i].mature_weight = 120\n",
    "    print(i, shtm.con_plastic[i].projection.label.split('_')[1], shtm.con_plastic[i].get_all_connection_ids())\n",
    "    "
   ]
  },
  {
   "cell_type": "code",
   "execution_count": null,
   "id": "3bf91d95-0c4e-4c3f-9345-2781aea70d54",
   "metadata": {},
   "outputs": [],
   "source": [
    "arr = np.array(shtm.con_plastic[1].permanences)"
   ]
  },
  {
   "cell_type": "code",
   "execution_count": null,
   "id": "62985153-5cf5-4417-8ad7-e0b850dccd5f",
   "metadata": {},
   "outputs": [],
   "source": [
    "for c in shtm.con_plastic[1].projection.connections:\n",
    "    print(f'C[{c.presynaptic_index}, {c.postsynaptic_index}].weight = {c.weight}')"
   ]
  },
  {
   "cell_type": "code",
   "execution_count": null,
   "id": "f6d0c57c-a3bc-4885-b9d0-74163d58e299",
   "metadata": {},
   "outputs": [],
   "source": [
    "np.set_printoptions(threshold=np.inf, suppress=True, linewidth=np.inf)\n",
    "shtm.con_plastic[1].projection.get(\"weight\", format=\"array\")"
   ]
  },
  {
   "cell_type": "code",
   "execution_count": null,
   "id": "ddd1f5a2-df0a-434e-9c26-ee3982d3733c",
   "metadata": {},
   "outputs": [],
   "source": [
    "shtm.con_plastic[7].projection.get(\"weight\", format=\"array\")"
   ]
  },
  {
   "cell_type": "code",
   "execution_count": null,
   "id": "a8a69eb7-d8c4-4796-bfc4-618ec84d0139",
   "metadata": {},
   "outputs": [],
   "source": [
    "# Print spikes form spiketrain\n",
    "for s in shtm.con_plastic[1].projection.post.get_data(\"spikes\").segments[-1].spiketrains:\n",
    "    print(s)\n",
    "print(len(shtm.con_plastic[1].projection.post.get_data(\"spikes\").segments[-1].spiketrains))\n",
    "print(len(shtm.con_plastic[1].projection.connections))"
   ]
  },
  {
   "cell_type": "code",
   "execution_count": null,
   "id": "c1aaf096-a0ca-408b-944c-f5a31ace192a",
   "metadata": {},
   "outputs": [],
   "source": [
    "for con in shtm.con_plastic:\n",
    "    print(f\"Sum(P[{con.projection.label}]) = {np.sum(con.permanences[-1] - con.permanences[0])}\")"
   ]
  },
  {
   "cell_type": "code",
   "execution_count": null,
   "id": "6faa8f13-7dcb-47d3-924a-1e4413c434a4",
   "metadata": {},
   "outputs": [],
   "source": [
    "dendrites, somas = shtm.get_spike_times(0.44, 0.1e-2)\n",
    "\n",
    "print(somas)"
   ]
  },
  {
   "cell_type": "code",
   "execution_count": null,
   "id": "c66a7a9a-0b2a-424f-aec3-bebe7774d3cd",
   "metadata": {},
   "outputs": [],
   "source": [
    "for i_plastic in range(len(shtm.con_plastic)):\n",
    "    shtm.con_plastic[i_plastic].lambda_plus *= 2\n",
    "    shtm.con_plastic[i_plastic].lambda_minus *= 2\n",
    "    shtm.con_plastic[i_plastic].lambda_h *= 2\n",
    "    \n",
    "    # print(f\"Sum(P[{con.projection.label}]) = {np.sum(con.permanences[-1] - con.permanences[0])}\")"
   ]
  },
  {
   "cell_type": "markdown",
   "id": "bbeaca0e-a35c-4102-add8-f332fef127fe",
   "metadata": {
    "tags": []
   },
   "source": [
    "## Check indices"
   ]
  },
  {
   "cell_type": "code",
   "execution_count": null,
   "id": "76723fe1-3493-459f-a944-31f04e122e41",
   "metadata": {},
   "outputs": [],
   "source": [
    "dendrites, somas = shtm.neurons_exc[0]\n",
    "\n",
    "print(somas.all_cells)\n",
    "print(somas.id_to_index(13))\n",
    "\n",
    "print(somas.get_data(\"spikes\").segments[-1].spiketrains[8])\n",
    "print(shtm.con_plastic[0].projection.pre.get_data(\"spikes\").segments[-1].spiketrains[8])"
   ]
  },
  {
   "cell_type": "markdown",
   "id": "fafabef1-2864-4ee9-9881-724eb43173e4",
   "metadata": {
    "tags": []
   },
   "source": [
    "## Check spikes"
   ]
  },
  {
   "cell_type": "code",
   "execution_count": null,
   "id": "a0e80595-b68b-4f00-aad0-7fccf6018054",
   "metadata": {},
   "outputs": [],
   "source": [
    "dendrites, somas = shtm.neurons_exc[0]\n",
    "\n",
    "spike_ids_a = list()\n",
    "spike_ids_b = list()\n",
    "\n",
    "# Print spikes form spiketrain\n",
    "for s in somas.get_data(\"spikes\").segments[-1].spiketrains:\n",
    "    print(s)\n",
    "    if len(s) > 0:\n",
    "        print(s[0]/0.1e-3)\n",
    "        spike_ids_a.append(int(s[0]/0.1e3))\n",
    "\n",
    "    # for t in np.linspace(0., runtime, int(runtime / 0.1e-3)):\n",
    "        \n",
    "    \n",
    "print(len(somas.get_data(\"spikes\").segments[-1].spiketrains))\n",
    "\n"
   ]
  },
  {
   "cell_type": "code",
   "execution_count": null,
   "id": "9997101e-eb29-48bc-97b2-7a1caf41ebb5",
   "metadata": {},
   "outputs": [],
   "source": [
    "print(shtm.neurons_exc[0][0].get(\"tau_m\"))\n",
    "print(shtm.neurons_inh[0].tau_m)\n",
    "w = shtm.exc_to_inh[1].get(\"weight\", format=\"array\")\n",
    "print(w)\n",
    "print(pynn.get_current_time())"
   ]
  },
  {
   "cell_type": "markdown",
   "id": "882056d0-1b54-484b-9d76-1e92d22226fe",
   "metadata": {
    "jp-MarkdownHeadingCollapsed": true,
    "tags": []
   },
   "source": [
    "## Save objects"
   ]
  },
  {
   "cell_type": "code",
   "execution_count": null,
   "id": "d7d4fbd7-df35-4345-9fc0-912746409fcc",
   "metadata": {},
   "outputs": [],
   "source": []
  },
  {
   "cell_type": "code",
   "execution_count": null,
   "id": "4c58ecfe-d543-48ad-ab93-cf252e5266fd",
   "metadata": {},
   "outputs": [],
   "source": [
    "import pickle\n",
    "\n",
    "experiment_name = \"shtm_off-chip_01\"\n",
    "\n",
    "with open(f'../evaluation/objects/{experiment_name}.pkl', 'wb') as out_file:\n",
    "    pickle.dump(shtm, out_file)"
   ]
  },
  {
   "cell_type": "code",
   "execution_count": null,
   "id": "03924cea-37a3-4726-9a44-b605eb3f4b54",
   "metadata": {},
   "outputs": [],
   "source": [
    "with open(f'../evaluation/objects/{experiment_name}.pkl', 'rb') as in_file:\n",
    "    obj = pickle.load(in_file)"
   ]
  },
  {
   "cell_type": "markdown",
   "id": "0ea987d6-f2d9-48ad-b459-17967db1d547",
   "metadata": {
    "tags": []
   },
   "source": [
    "## Plotting - Events - All Symbols"
   ]
  },
  {
   "cell_type": "code",
   "execution_count": null,
   "id": "7836db2d-bc5f-45e3-9eee-3c9c261f4f6e",
   "metadata": {},
   "outputs": [],
   "source": [
    "%matplotlib inline\n",
    "\n",
    "seq = 2\n",
    "\n",
    "fig_title = \"Neuronal Events for Sequence {D, C, B} - After Learning\"\n",
    "\n",
    "file_path = f\"../evaluation/figures/shtm-bss2_eval_learning-off-chip_seq-0{seq}_before-learning\"\n",
    "# file_path = f\"../evaluation/figures/shtm-bss2_eval_learning-off-chip_seq-0{seq}_after-learning\"\n",
    "\n",
    "# file_path += \"_a\"\n",
    "\n",
    "if seq == 1:\n",
    "    fig = shtm.plot_events(shtm, size=[12, 10], x_lim_lower=0, x_lim_upper=0.14, seq_start=0.0, seq_end=0.14, fig_title=fig_title, file_path=file_path)\n",
    "elif seq == 2:\n",
    "    fig = shtm.plot_events(shtm, size=[12, 10], x_lim_lower=0.22, x_lim_upper=0.36, seq_start=0.22, seq_end=0.36, fig_title=fig_title, file_path=file_path)\n",
    "    \n"
   ]
  },
  {
   "cell_type": "markdown",
   "id": "7ab2e487",
   "metadata": {},
   "source": [
    "## Plotting - Events - One Symbol"
   ]
  },
  {
   "cell_type": "code",
   "execution_count": null,
   "id": "422c8337-6159-406c-a098-e76e21a656a9",
   "metadata": {},
   "outputs": [],
   "source": [
    "%matplotlib inline\n",
    "\n",
    "fig_title = \"Neuronal Events for Sequence {D, C, B} - After Learning\"\n",
    "file_path = f\"../evaluation/figures/shtm-bss2_eval_limits-spikes_w-inh\"\n",
    "\n",
    "# file_path += \"_a\"\n",
    "\n",
    "fig = shtm.plot_events(shtm, neuron_types=\"all\", symbols=[2], size=[12, 10], x_lim_lower=0, x_lim_upper=0.14, seq_start=0.0, seq_end=0.14, fig_title=fig_title, file_path=file_path)\n",
    "\n",
    "\n",
    "spikes = shtm.neurons_exc[2][1].get_data(\"spikes\").segments[-1].spiketrains"
   ]
  },
  {
   "cell_type": "code",
   "execution_count": null,
   "id": "fd3858c5-f2a7-443f-919c-a76051b90f8c",
   "metadata": {},
   "outputs": [],
   "source": [
    "# file_path_open = f\"../evaluation/figures/shtm-bss2_eval_limits-volts_w-inh\"\n",
    "# file_path_open = f\"../evaluation/figures/shtm-bss2_eval_limits-volts_wo-inh\"\n",
    "# file_path_open = f\"../evaluation/figures/shtm-bss2_eval_limits-spikes_w-inh\"\n",
    "file_path_open = f\"../evaluation/figures/shtm-bss2_eval_limits-spikes_wo-inh\"\n",
    "\n",
    "figx = pickle.load(open(f'{file_path_open}.fig.pickle', 'rb'))\n",
    "figx.set_size_inches(12, 6)\n",
    "\n",
    "figx.legends = []\n",
    "figx.suptitle(\"\")\n",
    "figx.subplots_adjust(top=0.85)\n",
    "neuron_types = [NeuronType.Dendrite, NeuronType.Soma, NeuronType.Inhibitory]\n",
    "custom_lines = [Line2D([0], [0], color=f\"C{n.ID}\", label=n.NAME.capitalize(), lw=3) for n in neuron_types]\n",
    "plt.figlegend(handles=custom_lines, loc=(0.402, 0.888), ncol=3, labelspacing=0., fontsize=18, fancybox=True, borderaxespad=1)\n",
    "\n",
    "\n",
    "# figx.show()\n",
    "\n",
    "figx.savefig(f\"{file_path_open}.pdf\", bbox_inches='tight')\n",
    "# figx.savefig(f\"{file_path_open}.png\")"
   ]
  },
  {
   "cell_type": "markdown",
   "id": "52beabea-81ec-4134-a9ea-ecd496f115b1",
   "metadata": {},
   "source": [
    "## Final Plots - Voltage"
   ]
  },
  {
   "cell_type": "code",
   "execution_count": null,
   "id": "b533d023-9a78-4011-91b4-9ce2af81885e",
   "metadata": {},
   "outputs": [],
   "source": [
    "%matplotlib inline\n",
    "\n",
    "# plt.rcParams.update({'font.size': 12})\n",
    "\n",
    "seq = 2\n",
    "\n",
    "# file_path = f\"../evaluation/figures/shtm-bss2_eval_learning-off-chip_seq-0{seq}_before-learning\"\n",
    "# file_path = f\"../evaluation/figures/shtm-bss2_eval_learning-off-chip_seq-0{seq}_after-learning\"\n",
    "file_path = f\"../evaluation/figures/shtm-bss2_eval_limits-volts_w-inh\"\n",
    "\n",
    "# file_path += \"_a\"\n",
    "\n",
    "# if seq == 1:\n",
    "    # fig = plot_v_exc(shtm, [0], neuron_range=\"all\", size=[12, 10], x_lim_lower=0, x_lim_upper=0.14, seq_start=0.0, seq_end=0.14, file_path=file_path)\n",
    "# elif seq == 2:\n",
    "    # fig = plot_v_exc(shtm, [0], neuron_range=\"all\", size=[12, 10], x_lim_lower=0.22, x_lim_upper=0.36, seq_start=0.22, seq_end=0.36, file_path=file_path)\n",
    "\n",
    "shtm.plot_v_exc(shtm, [2], neuron_range=\"all\", size=[12, 10], runtime=0.14, file_path=file_path)\n",
    "\n",
    "    \n"
   ]
  }
 ],
 "metadata": {
  "kernelspec": {
   "name": "htm-on-bss2",
   "language": "python",
   "display_name": "htm-on-bss2"
  },
  "language_info": {
   "codemirror_mode": {
    "name": "ipython",
    "version": 3
   },
   "file_extension": ".py",
   "mimetype": "text/x-python",
   "name": "python",
   "nbconvert_exporter": "python",
   "pygments_lexer": "ipython3",
   "version": "3.8.11"
  }
 },
 "nbformat": 4,
 "nbformat_minor": 5
}
