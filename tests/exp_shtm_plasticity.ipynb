{
 "cells": [
  {
   "cell_type": "markdown",
   "id": "360590ee3a97b637",
   "metadata": {},
   "source": [
    "## Imports"
   ]
  },
  {
   "cell_type": "code",
   "execution_count": 1,
   "id": "3c7f8ec6-f8c8-41b5-bc3b-c109379e79f0",
   "metadata": {},
   "outputs": [],
   "source": [
    "import sys\n",
    "import os \n",
    "pkg_path = os.path.abspath(os.path.join(os.getcwd(), os.pardir))\n",
    "sys.path.append(pkg_path)"
   ]
  },
  {
   "cell_type": "code",
   "execution_count": 2,
   "id": "7cfc1b006269f185",
   "metadata": {
    "jupyter": {
     "outputs_hidden": false
    }
   },
   "outputs": [
    {
     "ename": "ImportError",
     "evalue": "cannot import name 'hardware_initialization' from 'shtmbss2.core' (/wang/users/pspilger/cluster_home/htm-on-bss2/shtmbss2/core/__init__.py)",
     "output_type": "error",
     "traceback": [
      "\u001b[0;31m---------------------------------------------------------------------------\u001b[0m",
      "\u001b[0;31mImportError\u001b[0m                               Traceback (most recent call last)",
      "Input \u001b[0;32mIn [2]\u001b[0m, in \u001b[0;36m<module>\u001b[0;34m\u001b[0m\n\u001b[0;32m----> 1\u001b[0m \u001b[38;5;28;01mfrom\u001b[39;00m \u001b[38;5;21;01mshtmbss2\u001b[39;00m\u001b[38;5;21;01m.\u001b[39;00m\u001b[38;5;21;01mcore\u001b[39;00m \u001b[38;5;28;01mimport\u001b[39;00m hardware_initialization\n\u001b[1;32m      2\u001b[0m \u001b[38;5;28;01mfrom\u001b[39;00m \u001b[38;5;21;01mshtmbss2\u001b[39;00m\u001b[38;5;21;01m.\u001b[39;00m\u001b[38;5;21;01mnetwork\u001b[39;00m \u001b[38;5;28;01mimport\u001b[39;00m SHTMPlasticity\n",
      "\u001b[0;31mImportError\u001b[0m: cannot import name 'hardware_initialization' from 'shtmbss2.core' (/wang/users/pspilger/cluster_home/htm-on-bss2/shtmbss2/core/__init__.py)"
     ]
    }
   ],
   "source": [
    "from shtmbss2.core import hardware_initialization\n",
    "from shtmbss2.network import SHTMPlasticity"
   ]
  },
  {
   "cell_type": "markdown",
   "id": "25e210243081cc2c",
   "metadata": {},
   "source": [
    "## Configuration"
   ]
  },
  {
   "cell_type": "code",
   "execution_count": null,
   "id": "971ef3b9",
   "metadata": {},
   "outputs": [],
   "source": [
    "hardware_initialization()"
   ]
  },
  {
   "cell_type": "markdown",
   "id": "94f3993b2ef18047",
   "metadata": {},
   "source": [
    "## Network Initialization"
   ]
  },
  {
   "cell_type": "code",
   "execution_count": null,
   "id": "702550a4",
   "metadata": {},
   "outputs": [],
   "source": [
    "shtm = SHTMPlasticity(1, 1)\n",
    "shtm.init_network()"
   ]
  },
  {
   "cell_type": "code",
   "execution_count": null,
   "id": "f62eecf6",
   "metadata": {},
   "outputs": [],
   "source": [
    "print(shtm.plasticity.permanence)\n",
    "print(shtm.plasticity.permanence)"
   ]
  },
  {
   "cell_type": "markdown",
   "id": "401842c4ff276a3a",
   "metadata": {},
   "source": [
    "## Run Network"
   ]
  },
  {
   "cell_type": "code",
   "execution_count": null,
   "id": "9033b459",
   "metadata": {},
   "outputs": [],
   "source": [
    "shtm.run(runtime=0.1)"
   ]
  },
  {
   "cell_type": "markdown",
   "id": "c0d671877645dff0",
   "metadata": {},
   "source": [
    "## Plotting"
   ]
  },
  {
   "cell_type": "code",
   "execution_count": null,
   "id": "de650fe1",
   "metadata": {},
   "outputs": [],
   "source": [
    "%matplotlib inline\n",
    "\n",
    "shtm.plot_events()"
   ]
  }
 ],
 "metadata": {
  "kernelspec": {
   "display_name": "Python 3 (ipykernel)",
   "language": "python",
   "name": "python3"
  },
  "language_info": {
   "codemirror_mode": {
    "name": "ipython",
    "version": 3
   },
   "file_extension": ".py",
   "mimetype": "text/x-python",
   "name": "python",
   "nbconvert_exporter": "python",
   "pygments_lexer": "ipython3",
   "version": "3.8.2"
  }
 },
 "nbformat": 4,
 "nbformat_minor": 5
}
