{
 "cells": [
  {
   "cell_type": "markdown",
   "source": [
    "## Imports"
   ],
   "metadata": {
    "collapsed": false
   },
   "id": "360590ee3a97b637"
  },
  {
   "cell_type": "code",
   "execution_count": null,
   "outputs": [],
   "source": [
    "from shtmbss2.core import hardware_initialization\n",
    "from shtmbss2.network import SHTMPlasticity"
   ],
   "metadata": {
    "collapsed": false
   },
   "id": "7cfc1b006269f185"
  },
  {
   "cell_type": "markdown",
   "source": [
    "## Configuration"
   ],
   "metadata": {
    "collapsed": false
   },
   "id": "25e210243081cc2c"
  },
  {
   "cell_type": "code",
   "execution_count": null,
   "id": "971ef3b9",
   "metadata": {},
   "outputs": [],
   "source": [
    "refractory_clock_scale = 7\n",
    "\n",
    "hardware_initialization(refractory_clock_scale)"
   ]
  },
  {
   "cell_type": "markdown",
   "source": [
    "## Network Initialization"
   ],
   "metadata": {
    "collapsed": false
   },
   "id": "94f3993b2ef18047"
  },
  {
   "cell_type": "code",
   "execution_count": null,
   "id": "702550a4",
   "metadata": {},
   "outputs": [],
   "source": [
    "shtm = SHTMPlasticity(1, 1)\n",
    "shtm.init_network()"
   ]
  },
  {
   "cell_type": "code",
   "execution_count": null,
   "id": "f62eecf6",
   "metadata": {},
   "outputs": [],
   "source": [
    "print(shtm.plasticity.permanence)\n",
    "print(shtm.plasticity.permanence)"
   ]
  },
  {
   "cell_type": "markdown",
   "source": [
    "## Run Network"
   ],
   "metadata": {
    "collapsed": false
   },
   "id": "401842c4ff276a3a"
  },
  {
   "cell_type": "code",
   "execution_count": null,
   "id": "9033b459",
   "metadata": {},
   "outputs": [],
   "source": [
    "shtm.run(runtime=0.1)"
   ]
  },
  {
   "cell_type": "markdown",
   "source": [
    "## Plotting"
   ],
   "metadata": {
    "collapsed": false
   },
   "id": "c0d671877645dff0"
  },
  {
   "cell_type": "code",
   "execution_count": null,
   "id": "de650fe1",
   "metadata": {},
   "outputs": [],
   "source": [
    "%matplotlib inline\n",
    "\n",
    "shtm.plot_events()"
   ]
  }
 ],
 "metadata": {
  "kernelspec": {
   "display_name": "Python 3 (BSS-2)",
   "language": "python",
   "name": "python3"
  },
  "language_info": {
   "codemirror_mode": {
    "name": "ipython",
    "version": 3
   },
   "file_extension": ".py",
   "mimetype": "text/x-python",
   "name": "python",
   "nbconvert_exporter": "python",
   "pygments_lexer": "ipython3",
   "version": "3.8.2"
  }
 },
 "nbformat": 4,
 "nbformat_minor": 5
}
