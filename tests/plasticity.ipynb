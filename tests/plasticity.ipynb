{
 "cells": [
  {
   "cell_type": "markdown",
   "id": "360590ee3a97b637",
   "metadata": {},
   "source": [
    "## Imports"
   ]
  },
  {
   "cell_type": "code",
   "execution_count": null,
   "id": "3c7f8ec6-f8c8-41b5-bc3b-c109379e79f0",
   "metadata": {},
   "outputs": [],
   "source": [
    "import sys\n",
    "import os \n",
    "pkg_path = os.path.abspath(os.path.join(os.getcwd(), os.pardir))\n",
    "sys.path.append(pkg_path)"
   ]
  },
  {
   "cell_type": "code",
   "execution_count": null,
   "id": "7cfc1b006269f185",
   "metadata": {
    "collapsed": false,
    "jupyter": {
     "outputs_hidden": false
    }
   },
   "outputs": [],
   "source": [
    "from shtmbss2.core import hardware_initialization\n",
    "from shtmbss2.network import SHTMPlasticity"
   ]
  },
  {
   "cell_type": "markdown",
   "id": "25e210243081cc2c",
   "metadata": {},
   "source": [
    "## Configuration"
   ]
  },
  {
   "cell_type": "code",
   "execution_count": null,
   "id": "971ef3b9",
   "metadata": {},
   "outputs": [],
   "source": [
    "hardware_initialization()"
   ]
  },
  {
   "cell_type": "markdown",
   "id": "94f3993b2ef18047",
   "metadata": {},
   "source": [
    "## Network Initialization"
   ]
  },
  {
   "cell_type": "code",
   "execution_count": null,
   "id": "702550a4",
   "metadata": {},
   "outputs": [],
   "source": [
    "shtm = SHTMPlasticity(1, 1)\n",
    "shtm.init_network()"
   ]
  },
  {
   "cell_type": "code",
   "execution_count": null,
   "id": "f62eecf6",
   "metadata": {},
   "outputs": [],
   "source": [
    "print(shtm.plasticity.permanence)\n",
    "print(shtm.plasticity.permanence)"
   ]
  },
  {
   "cell_type": "markdown",
   "id": "401842c4ff276a3a",
   "metadata": {},
   "source": [
    "## Run Network"
   ]
  },
  {
   "cell_type": "code",
   "execution_count": null,
   "id": "9033b459",
   "metadata": {},
   "outputs": [],
   "source": [
    "shtm.run(runtime=0.1)"
   ]
  },
  {
   "cell_type": "markdown",
   "id": "c0d671877645dff0",
   "metadata": {},
   "source": [
    "## Plotting"
   ]
  },
  {
   "cell_type": "code",
   "execution_count": null,
   "id": "de650fe1",
   "metadata": {},
   "outputs": [],
   "source": [
    "%matplotlib inline\n",
    "\n",
    "shtm.plot_events()"
   ]
  }
 ],
 "metadata": {
  "kernelspec": {
   "display_name": "EBRAINS-experimental",
   "language": "python",
   "name": "ebrains-experimental"
  },
  "language_info": {
   "codemirror_mode": {
    "name": "ipython",
    "version": 3
   },
   "file_extension": ".py",
   "mimetype": "text/x-python",
   "name": "python",
   "nbconvert_exporter": "python",
   "pygments_lexer": "ipython3",
   "version": "3.8.11"
  }
 },
 "nbformat": 4,
 "nbformat_minor": 5
}
