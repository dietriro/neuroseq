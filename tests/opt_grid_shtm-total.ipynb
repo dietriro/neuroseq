{
 "cells": [
  {
   "cell_type": "code",
   "execution_count": null,
   "id": "da6fff6d8fe79392",
   "metadata": {
    "collapsed": false
   },
   "outputs": [],
   "source": [
    "import sys\n",
    "import os\n",
    "\n",
    "pkg_path = os.path.abspath(os.path.join(os.getcwd(), os.pardir))\n",
    "sys.path.append(pkg_path)\n",
    "\n",
    "from shtmbss2.nest.network import SHTMTotal\n",
    "from shtmbss2.common.optimization import GridSearch"
   ]
  },
  {
   "cell_type": "code",
   "outputs": [],
   "source": [
    "\n",
    "opt = GridSearch(SHTMTotal, \"test\")\n",
    "\n",
    "opt.run(6)"
   ],
   "metadata": {
    "collapsed": true
   },
   "id": "initial_id",
   "execution_count": 0
  }
 ],
 "metadata": {
  "kernelspec": {
   "display_name": "Python 3",
   "language": "python",
   "name": "python3"
  },
  "language_info": {
   "codemirror_mode": {
    "name": "ipython",
    "version": 2
   },
   "file_extension": ".py",
   "mimetype": "text/x-python",
   "name": "python",
   "nbconvert_exporter": "python",
   "pygments_lexer": "ipython2",
   "version": "2.7.6"
  }
 },
 "nbformat": 4,
 "nbformat_minor": 5
}
