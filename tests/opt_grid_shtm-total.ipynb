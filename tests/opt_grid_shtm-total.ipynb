{
 "cells": [
  {
   "cell_type": "code",
   "id": "da6fff6d8fe79392",
   "metadata": {
    "collapsed": false
   },
   "source": [
    "import sys\n",
    "import os \n",
    "import warnings\n",
    "import numpy as np\n",
    "\n",
    "pkg_path = os.path.abspath(os.path.join(os.getcwd(), os.pardir))\n",
    "sys.path.append(pkg_path)\n",
    "\n",
    "np.set_printoptions(threshold=np.inf, suppress=True, linewidth=np.inf)\n",
    "warnings.filterwarnings(action='ignore', category=UserWarning)\n",
    "\n",
    "import shtmbss2.addsrc\n",
    "from shtmbss2.common.config import *\n",
    "from shtmbss2.core.logging import log"
   ],
   "outputs": [],
   "execution_count": null
  },
  {
   "metadata": {},
   "cell_type": "code",
   "outputs": [],
   "execution_count": null,
   "source": [
    "RuntimeConfig.backend = Backends.BRAIN_SCALES_2\n",
    "RuntimeConfig.plasticity_location = PlasticityLocation.OFF_CHIP "
   ],
   "id": "dde9bde8182ff286"
  },
  {
   "metadata": {},
   "cell_type": "code",
   "outputs": [],
   "execution_count": null,
   "source": [
    "shtm = None\n",
    "if RuntimeConfig.backend == Backends.BRAIN_SCALES_2:\n",
    "    import shtmbss2.brainscales2.patches\n",
    "    from shtmbss2.brainscales2.hardware import hardware_initialization\n",
    "    from shtmbss2.brainscales2.network import SHTMTotal\n",
    "    # TODO: remove once grenade supports dense inter-population-view projections\n",
    "    neuronPermutation = []\n",
    "    shtm = SHTMTotal(use_on_chip_plasticity=RuntimeConfig.plasticity_location == PlasticityLocation.ON_CHIP)\n",
    "    alphabet_size = shtm.p.Network.num_symbols\n",
    "    num_neurons_per_symbol = shtm.p.Network.num_neurons\n",
    "    for a in range(alphabet_size):\n",
    "        # dendrites\n",
    "        for i in range(num_neurons_per_symbol):\n",
    "            neuronPermutation.append((a * num_neurons_per_symbol + i) * 2)\n",
    "    for a in range(alphabet_size):\n",
    "        # somas\n",
    "        for i in range(num_neurons_per_symbol):\n",
    "            neuronPermutation.append((a * num_neurons_per_symbol + i) * 2 + 1)\n",
    "    for i in range(alphabet_size * num_neurons_per_symbol * 2, 512):\n",
    "        neuronPermutation.append(i)\n",
    "\n",
    "    hardware_initialization(neuronPermutation=neuronPermutation)\n",
    "elif RuntimeConfig.backend == Backends.NEST:\n",
    "    from shtmbss2.nest.network import SHTMTotal\n",
    "    \n",
    "from shtmbss2.common.network import NeuronType, RecTypes\n",
    "from shtmbss2.common.optimization import GridSearch "
   ],
   "id": "c8ba2d704f8c8046"
  },
  {
   "metadata": {},
   "cell_type": "markdown",
   "source": "## Config",
   "id": "bff169e376da18af"
  },
  {
   "metadata": {},
   "cell_type": "code",
   "outputs": [],
   "execution_count": null,
   "source": "log.handlers[LogHandler.FILE].setLevel(logging.ESSENS)",
   "id": "4349261b221dbf01"
  },
  {
   "metadata": {},
   "cell_type": "code",
   "outputs": [],
   "execution_count": null,
   "source": [
    "experiment_type = ExperimentType.OPT_GRID\n",
    "model_type = SHTMTotal\n",
    "experiment_id = \"weights-cons\"\n",
    "experiment_num = 1"
   ],
   "id": "57116ba03a673c05"
  },
  {
   "metadata": {},
   "cell_type": "markdown",
   "source": "## Run",
   "id": "1999e6665c11ee5"
  },
  {
   "cell_type": "code",
   "source": [
    "opt = GridSearch(experiment_type=ExperimentType.OPT_GRID, \n",
    "                 model_type=SHTMTotal, \n",
    "                 experiment_id=\"weights-cons\", \n",
    "                 # experiment_num=1\n",
    "                 )\n",
    "\n",
    "opt.run(steps=50)"
   ],
   "metadata": {
    "collapsed": true
   },
   "id": "initial_id",
   "outputs": [],
   "execution_count": null
  }
 ],
 "metadata": {
  "kernelspec": {
   "display_name": "htm-on-bss2",
   "language": "python",
   "name": "htm-on-bss2"
  },
  "language_info": {
   "codemirror_mode": {
    "name": "ipython",
    "version": 2
   },
   "file_extension": ".py",
   "mimetype": "text/x-python",
   "name": "python",
   "nbconvert_exporter": "python",
   "pygments_lexer": "ipython2",
   "version": "2.7.6"
  }
 },
 "nbformat": 4,
 "nbformat_minor": 5
}
