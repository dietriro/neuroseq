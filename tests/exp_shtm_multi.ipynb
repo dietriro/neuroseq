{
 "cells": [
  {
   "cell_type": "markdown",
   "id": "52b58d810ad98742",
   "metadata": {},
   "source": [
    "## Imports"
   ]
  },
  {
   "cell_type": "code",
   "execution_count": null,
   "id": "23dafa63-042c-4477-8c6d-602d94a5a1f2",
   "metadata": {},
   "outputs": [],
   "source": [
    "import matplotlib.pyplot as plt\n",
    "import sys\n",
    "import os \n",
    "import warnings\n",
    "import numpy as np\n",
    "\n",
    "pkg_path = os.path.abspath(os.path.join(os.getcwd(), os.pardir))\n",
    "sys.path.append(pkg_path)\n",
    "\n",
    "np.set_printoptions(threshold=np.inf, suppress=True, linewidth=np.inf)\n",
    "warnings.filterwarnings(action='ignore', category=UserWarning)\n",
    "\n",
    "import shtmbss2.addsrc\n",
    "# from shtmbss2.common.config import RuntimeConfig, Backends\n",
    "from shtmbss2.common.config import *\n",
    "from shtmbss2.core.logging import log"
   ]
  },
  {
   "cell_type": "code",
   "execution_count": null,
   "id": "988a60b9-2c0f-4632-a2c4-c75a7c69ba24",
   "metadata": {},
   "outputs": [],
   "source": [
    "RuntimeConfig.backend = Backends.BRAIN_SCALES_2\n",
    "RuntimeConfig.plasticity_location = PlasticityLocation.ON_CHIP"
   ]
  },
  {
   "cell_type": "code",
   "execution_count": null,
   "id": "4e69e4f1-505e-4e59-a190-bd4d0e3d34af",
   "metadata": {},
   "outputs": [],
   "source": [
    "if RuntimeConfig.backend == Backends.BRAIN_SCALES_2:\n",
    "    import shtmbss2.brainscales2.patches\n",
    "    from shtmbss2.brainscales2.network import SHTMTotal\n",
    "    from shtmbss2.brainscales2.hardware import hardware_initialization\n",
    "    # hardware_initialization()\n",
    "elif RuntimeConfig.backend == Backends.NEST:\n",
    "    from shtmbss2.nest.network import SHTMTotal\n",
    "\n",
    "from shtmbss2.common.network import NeuronType, RecTypes\n",
    "from shtmbss2.common.executor import ParallelExecutor\n",
    "from shtmbss2.core.performance import PerformanceMulti\n",
    "from shtmbss2.core.parameters import NetworkParameters, PlottingParameters\n",
    "from shtmbss2.core.data import get_experiment_folder    "
   ]
  },
  {
   "cell_type": "markdown",
   "id": "e94e5471f416062e",
   "metadata": {},
   "source": [
    "## Config"
   ]
  },
  {
   "cell_type": "code",
   "execution_count": null,
   "id": "f49761f0c879ce36",
   "metadata": {
    "collapsed": false,
    "jupyter": {
     "outputs_hidden": false
    }
   },
   "outputs": [],
   "source": [
    "seed_offset = 0\n",
    "num_instances = 5\n",
    "num_steps = 100\n",
    "experiment_id = 'bss2-onchip_wo-diw_s1'\n",
    "experiment_num = 1\n",
    "\n",
    "load_params = False\n",
    "p_experiment_type = ExperimentType.OPT_GRID_MULTI\n",
    "p_experiment_id = 'bss2-lambda'\n",
    "p_experiment_num = 1\n",
    "p_experiment_subnum = 1229\n",
    "\n",
    "# pynn.logger.default_config(level=pynn.logger.LogLevel.DEBUG)\n",
    "# log.handlers[LogHandler.FILE].setLevel(logging.DEBUG)"
   ]
  },
  {
   "cell_type": "markdown",
   "id": "2a354e6fbee56a89",
   "metadata": {},
   "source": [
    "## Simulation"
   ]
  },
  {
   "cell_type": "code",
   "execution_count": null,
   "id": "6f1d23d904f27fc9",
   "metadata": {},
   "outputs": [],
   "source": [
    "if load_params:\n",
    "    p = NetworkParameters(network_type=SHTMTotal)\n",
    "    p.load_experiment_params(experiment_type=ExperimentType.EVAL_MULTI, experiment_id=experiment_id, experiment_num=experiment_num)\n",
    "else:\n",
    "    p = None"
   ]
  },
  {
   "cell_type": "code",
   "execution_count": null,
   "id": "d76c44628821a262",
   "metadata": {
    "collapsed": false,
    "jupyter": {
     "outputs_hidden": false
    },
    "tags": []
   },
   "outputs": [],
   "source": [
    "pe = ParallelExecutor(num_instances=num_instances, experiment_id=experiment_id, fig_save=True)\n",
    "\n",
    "experiment_num = pe.run(steps=num_steps, p=p, seed_offset=seed_offset, parallel=False)"
   ]
  },
  {
   "cell_type": "code",
   "execution_count": null,
   "id": "f2ebc9f5-ddf3-4f8c-96d4-c5a12ea2829a",
   "metadata": {},
   "outputs": [],
   "source": [
    "import csv\n",
    "\n",
    "p = NetworkParameters(network_type=SHTMTotal)\n",
    "p.load_experiment_params(experiment_type=ExperimentType.EVAL_MULTI, experiment_id=experiment_id, experiment_num=experiment_num)\n",
    "\n",
    "pf = PerformanceMulti(p, num_instances)\n",
    "pf.load_data(SHTMTotal, experiment_type=ExperimentType.EVAL_MULTI, experiment_id=experiment_id, experiment_num=experiment_num)\n",
    "\n",
    "pf_dict = pf.get_performance_dict(final_result=True, running_avgs=p.performance.running_avgs)\n",
    "\n",
    "pf_file_path = join(EXPERIMENT_FOLDERS[RuntimeConfig.backend], EXPERIMENT_SUBFOLDERS[ExperimentType.EVAL_MULTI], f\"SHTMTotal_{experiment_id}_{experiment_num:02d}\", \"performance.csv\")\n",
    "\n",
    "with open(pf_file_path, 'w') as csvfile:\n",
    "    csvwriter = csv.writer(csvfile)\n",
    "    for row in [pf_dict.keys(), pf_dict.values()]:\n",
    "        csvwriter.writerow(row)"
   ]
  },
  {
   "cell_type": "markdown",
   "id": "ee28da30695ed095",
   "metadata": {},
   "source": [
    "## Evaluation"
   ]
  },
  {
   "cell_type": "code",
   "execution_count": null,
   "id": "df3a7c55786f955b",
   "metadata": {
    "collapsed": false,
    "jupyter": {
     "outputs_hidden": false
    }
   },
   "outputs": [],
   "source": [
    "# %matplotlib inline\n",
    "\n",
    "p = NetworkParameters(network_type=SHTMTotal)\n",
    "p.load_experiment_params(experiment_type=ExperimentType.EVAL_MULTI, experiment_id=experiment_id, experiment_num=experiment_num)\n",
    "\n",
    "pf = PerformanceMulti(p, num_instances)\n",
    "pf.load_data(SHTMTotal, experiment_type=ExperimentType.EVAL_MULTI, experiment_id=experiment_id, experiment_num=experiment_num)\n",
    "\n",
    "p_plot = PlottingParameters(network_type=SHTMTotal)\n",
    "p_plot.load_default_params()\n",
    "\n",
    "# fix for old data which doesn't include DD PF data\n",
    "for i in range(len(pf.data)):\n",
    "    if len(pf.data[i][PerformanceMetrics.DD][0]) == 0:\n",
    "        pf.data[i][PerformanceMetrics.DD] = pf.data[i][PerformanceMetrics.FP]\n",
    "\n",
    "fig, axs = pf.plot(plt_config=p_plot, statistic=StatisticalMetrics.MEDIAN, \n",
    "                   fig_title=\"Performance of BSS-2-MC with BSS-2 sSTDP (on-chip), without DIW on S1 (v1)\",\n",
    "                   plot_dd=True)\n",
    "\n",
    "fig_path = join(get_experiment_folder(SHTMTotal, ExperimentType.EVAL_MULTI, experiment_id, experiment_num), \"performance.pdf\")\n",
    "fig.savefig(fig_path, dpi=300)"
   ]
  },
  {
   "cell_type": "code",
   "execution_count": null,
   "id": "3c22292b-227f-44c3-9cb9-aa7cea087bcb",
   "metadata": {},
   "outputs": [],
   "source": [
    "RuntimeConfig.subnum_digits = 4\n",
    "\n",
    "p = NetworkParameters(network_type=SHTMTotal)\n",
    "p.load_experiment_params(experiment_type=ExperimentType.OPT_GRID, experiment_id=\"no-calib_on-chip\", \n",
    "                         experiment_num=3, experiment_subnum=1)\n"
   ]
  }
 ],
 "metadata": {
  "kernelspec": {
   "display_name": "EBRAINS-experimental",
   "language": "python",
   "name": "ebrains-experimental"
  },
  "language_info": {
   "codemirror_mode": {
    "name": "ipython",
    "version": 3
   },
   "file_extension": ".py",
   "mimetype": "text/x-python",
   "name": "python",
   "nbconvert_exporter": "python",
   "pygments_lexer": "ipython3",
   "version": "3.8.11"
  }
 },
 "nbformat": 4,
 "nbformat_minor": 5
}
