{
 "cells": [
  {
   "cell_type": "markdown",
   "id": "29bac58d2fcf2162",
   "metadata": {},
   "source": [
    "## Imports"
   ]
  },
  {
   "cell_type": "code",
   "execution_count": null,
   "id": "5b4fd0b5-acc6-49d0-a64a-cd760f7f3606",
   "metadata": {
    "is_executing": true
   },
   "outputs": [],
   "source": [
    "import sys\n",
    "import os \n",
    "pkg_path = os.path.abspath(os.path.join(os.getcwd(), os.pardir))\n",
    "sys.path.append(pkg_path)"
   ]
  },
  {
   "cell_type": "code",
   "execution_count": null,
   "id": "913f6805",
   "metadata": {},
   "outputs": [],
   "source": [
    "import numpy as np\n",
    "\n",
    "from pynn_brainscales import brainscales2 as pynn\n",
    "\n",
    "import shtmbss2.addsrc\n",
    "from shtmbss2.core import hardware_initialization\n",
    "from shtmbss2.network import SHTMTotal"
   ]
  },
  {
   "cell_type": "markdown",
   "id": "73d26b5c838bd931",
   "metadata": {},
   "source": [
    "## Configuration"
   ]
  },
  {
   "cell_type": "code",
   "execution_count": null,
   "id": "61f24878",
   "metadata": {},
   "outputs": [],
   "source": [
    "alphabet_size = 4\n",
    "num_neurons_per_symbol = 5\n",
    "\n",
    "hardware_initialization()"
   ]
  },
  {
   "cell_type": "markdown",
   "id": "8a098cf530757946",
   "metadata": {},
   "source": [
    "## Network Initialization"
   ]
  },
  {
   "cell_type": "code",
   "execution_count": null,
   "id": "454258cf7c7f5426",
   "metadata": {
    "collapsed": false,
    "jupyter": {
     "outputs_hidden": false
    }
   },
   "outputs": [],
   "source": [
    "shtm = SHTMTotal(alphabet_size, num_neurons_per_symbol, log_permanence='all', log_weights='all')\n",
    "\n",
    "shtm.init_neurons()\n",
    "shtm.init_connections(debug=True, w_ext_exc=800, w_exc_exc=0.01, w_exc_inh=120, w_inh_exc=-80, p_exc_exc=0.2)\n",
    "shtm.init_external_input(sequence=['A', 'C'], num_repetitions=5)\n",
    "shtm.init_rec_exc()\n",
    "\n",
    "print(shtm.con_plastic[0].permanence)"
   ]
  },
  {
   "cell_type": "markdown",
   "id": "39df11c994793247",
   "metadata": {},
   "source": [
    "## Network Emulation & Plotting"
   ]
  },
  {
   "cell_type": "code",
   "execution_count": null,
   "id": "b65966b2",
   "metadata": {},
   "outputs": [],
   "source": [
    "for i in range(1):\n",
    "    shtm.run(runtime=0.9, steps=1, plasticity_enabled=True)"
   ]
  },
  {
   "cell_type": "code",
   "execution_count": null,
   "id": "7ec18683",
   "metadata": {},
   "outputs": [],
   "source": [
    "%matplotlib inline\n",
    "\n",
    "shtm.plot_events(neuron_types=\"all\")"
   ]
  },
  {
   "cell_type": "code",
   "execution_count": null,
   "id": "59e08d05-d54f-4f55-a090-accfbf8f7ca4",
   "metadata": {},
   "outputs": [],
   "source": [
    "%matplotlib inline\n",
    "\n",
    "shtm.plot_permanence_diff()"
   ]
  },
  {
   "cell_type": "code",
   "execution_count": null,
   "id": "63edb4d6-ba9a-414e-8ed7-41cc7744bc05",
   "metadata": {},
   "outputs": [],
   "source": [
    "%matplotlib inline\n",
    "\n",
    "shtm.plot_permanence()"
   ]
  },
  {
   "cell_type": "code",
   "execution_count": null,
   "id": "5fb55aa1",
   "metadata": {},
   "outputs": [],
   "source": [
    "%matplotlib inline\n",
    "\n",
    "shtm.plot_v_exc(alphabet_range=[0])"
   ]
  },
  {
   "cell_type": "code",
   "execution_count": null,
   "id": "1d65a023",
   "metadata": {},
   "outputs": [],
   "source": [
    "%matplotlib inline\n",
    "\n",
    "shtm.plot_v_exc(alphabet_range=range(1, alphabet_size))"
   ]
  }
 ],
 "metadata": {
  "kernelspec": {
   "display_name": "EBRAINS-experimental",
   "language": "python",
   "name": "ebrains-experimental"
  },
  "language_info": {
   "codemirror_mode": {
    "name": "ipython",
    "version": 3
   },
   "file_extension": ".py",
   "mimetype": "text/x-python",
   "name": "python",
   "nbconvert_exporter": "python",
   "pygments_lexer": "ipython3",
   "version": "3.8.11"
  }
 },
 "nbformat": 4,
 "nbformat_minor": 5
}
