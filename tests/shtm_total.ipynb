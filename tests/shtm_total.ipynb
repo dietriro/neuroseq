{
 "cells": [
  {
   "cell_type": "markdown",
   "id": "29bac58d2fcf2162",
   "metadata": {},
   "source": [
    "## Imports"
   ]
  },
  {
   "cell_type": "code",
   "execution_count": null,
   "id": "5b4fd0b5-acc6-49d0-a64a-cd760f7f3606",
   "metadata": {
    "is_executing": true
   },
   "outputs": [],
   "source": [
    "import sys\n",
    "import os \n",
    "pkg_path = os.path.abspath(os.path.join(os.getcwd(), os.pardir))\n",
    "sys.path.append(pkg_path)"
   ]
  },
  {
   "cell_type": "code",
   "execution_count": null,
   "id": "913f6805",
   "metadata": {},
   "outputs": [],
   "source": [
    "import numpy as np\n",
    "\n",
    "from pynn_brainscales import brainscales2 as pynn\n",
    "\n",
    "import shtmbss2.addsrc\n",
    "from shtmbss2.core import hardware_initialization\n",
    "from shtmbss2.network import SHTMTotal"
   ]
  },
  {
   "cell_type": "markdown",
   "id": "73d26b5c838bd931",
   "metadata": {},
   "source": [
    "## Configuration"
   ]
  },
  {
   "cell_type": "code",
   "execution_count": null,
   "id": "61f24878",
   "metadata": {},
   "outputs": [],
   "source": [
    "# pynn.logger.default_config(level=pynn.logger.LogLevel.DEBUG)\n",
    "\n",
    "alphabet_size = 4\n",
    "num_neurons_per_symbol = 15\n",
    "runtime = 0.18\n",
    "num_repetitions = 1\n",
    "num_sim_steps = 5\n",
    "debug = False\n",
    "\n",
    "input_sequence = ['A', 'C', 'B']\n",
    "# input_sequence = []\n",
    "\n",
    "hardware_initialization()"
   ]
  },
  {
   "cell_type": "markdown",
   "id": "8a098cf530757946",
   "metadata": {},
   "source": [
    "## Network Initialization"
   ]
  },
  {
   "cell_type": "code",
   "execution_count": null,
   "id": "454258cf7c7f5426",
   "metadata": {
    "collapsed": false,
    "scrolled": true,
    "tags": []
   },
   "outputs": [],
   "source": [
    "shtm = SHTMTotal(alphabet_size, num_neurons_per_symbol, log_permanence='all', log_weights='all')\n",
    "\n",
    "shtm.init_neurons(v_rest=[60, 60], v_reset=[100, 60], v_thresh=[120, 140])\n",
    "shtm.init_connections(debug=debug, w_ext_exc=500, w_exc_exc=0.01, w_exc_inh=200, w_inh_exc=-500, \n",
    "                      p_exc_exc=0.4, mature_weight=500, learning_factor=100)\n",
    "shtm.init_external_input(sequence=input_sequence, num_repetitions=num_repetitions)\n",
    "shtm.init_rec_exc()"
   ]
  },
  {
   "cell_type": "markdown",
   "id": "39df11c994793247",
   "metadata": {},
   "source": [
    "## Network Emulation & Plotting"
   ]
  },
  {
   "cell_type": "code",
   "execution_count": null,
   "id": "b65966b2",
   "metadata": {
    "scrolled": true,
    "tags": []
   },
   "outputs": [],
   "source": [
    "shtm.run(runtime=runtime, steps=1, plasticity_enabled=True)"
   ]
  },
  {
   "cell_type": "code",
   "execution_count": null,
   "id": "87ac03d2-e5ea-46de-8d51-61ef88171f7e",
   "metadata": {},
   "outputs": [],
   "source": [
    "%matplotlib inline\n",
    "\n",
    "shtm.plot_events(neuron_types=\"all\")"
   ]
  },
  {
   "cell_type": "code",
   "execution_count": null,
   "id": "39676696-619f-439a-9efb-f7d6530e090b",
   "metadata": {
    "scrolled": true,
    "tags": []
   },
   "outputs": [],
   "source": [
    "shtm.run(runtime=runtime, steps=num_sim_steps, plasticity_enabled=True)"
   ]
  },
  {
   "cell_type": "code",
   "execution_count": null,
   "id": "7ec18683",
   "metadata": {},
   "outputs": [],
   "source": [
    "%matplotlib inline\n",
    "\n",
    "shtm.plot_events(neuron_types=\"all\")"
   ]
  },
  {
   "cell_type": "markdown",
   "id": "32d5cfb7-8350-430a-81df-2e265c424e84",
   "metadata": {
    "tags": []
   },
   "source": [
    "## Additional Plotting"
   ]
  },
  {
   "cell_type": "code",
   "execution_count": null,
   "id": "59e08d05-d54f-4f55-a090-accfbf8f7ca4",
   "metadata": {},
   "outputs": [],
   "source": [
    "%matplotlib inline\n",
    "\n",
    "shtm.plot_permanence_diff()"
   ]
  },
  {
   "cell_type": "code",
   "execution_count": null,
   "id": "63edb4d6-ba9a-414e-8ed7-41cc7744bc05",
   "metadata": {},
   "outputs": [],
   "source": [
    "%matplotlib inline\n",
    "\n",
    "shtm.plot_permanence_history(plot_con_ids=[0,1])"
   ]
  },
  {
   "cell_type": "code",
   "execution_count": null,
   "id": "5fb55aa1",
   "metadata": {},
   "outputs": [],
   "source": [
    "%matplotlib inline\n",
    "\n",
    "shtm.plot_v_exc(alphabet_range=[0], neuron_range=[0,2], neuron_type=1, runtime=runtime)"
   ]
  },
  {
   "cell_type": "code",
   "execution_count": null,
   "id": "a46a6540-dbae-4924-9b21-a55a8a69420c",
   "metadata": {},
   "outputs": [],
   "source": [
    "%matplotlib inline\n",
    "\n",
    "shtm.plot_v_exc(alphabet_range=[0], neuron_range='all', neuron_type=1, runtime=runtime)"
   ]
  },
  {
   "cell_type": "code",
   "execution_count": null,
   "id": "1d65a023",
   "metadata": {},
   "outputs": [],
   "source": [
    "%matplotlib inline\n",
    "\n",
    "shtm.plot_v_exc(alphabet_range=range(1, alphabet_size))"
   ]
  },
  {
   "cell_type": "markdown",
   "id": "4328ab22-5cd9-4387-87b7-a58c0aa4c19e",
   "metadata": {
    "tags": []
   },
   "source": [
    "## Additional Analysis"
   ]
  },
  {
   "cell_type": "code",
   "execution_count": null,
   "id": "d63f1348-ca17-4e44-9c3d-d049df01a1e5",
   "metadata": {},
   "outputs": [],
   "source": [
    "for i in range(len(shtm.con_plastic)):\n",
    "    shtm.con_plastic[i].mature_weight = 120\n",
    "    print(i, shtm.con_plastic[i].projection.label.split('_')[1], shtm.con_plastic[i].get_all_connection_ids())\n",
    "    "
   ]
  },
  {
   "cell_type": "code",
   "execution_count": null,
   "id": "3bf91d95-0c4e-4c3f-9345-2781aea70d54",
   "metadata": {},
   "outputs": [],
   "source": [
    "arr = np.array(shtm.con_plastic[1].permanences)"
   ]
  },
  {
   "cell_type": "code",
   "execution_count": null,
   "id": "62985153-5cf5-4417-8ad7-e0b850dccd5f",
   "metadata": {},
   "outputs": [],
   "source": [
    "for c in shtm.con_plastic[1].projection.connections:\n",
    "    print(f'C[{c.presynaptic_index}, {c.postsynaptic_index}].weight = {c.weight}')"
   ]
  },
  {
   "cell_type": "code",
   "execution_count": null,
   "id": "f6d0c57c-a3bc-4885-b9d0-74163d58e299",
   "metadata": {},
   "outputs": [],
   "source": [
    "shtm.con_plastic[1].projection.get(\"weight\", format=\"array\")"
   ]
  },
  {
   "cell_type": "code",
   "execution_count": null,
   "id": "ddd1f5a2-df0a-434e-9c26-ee3982d3733c",
   "metadata": {},
   "outputs": [],
   "source": [
    "shtm.con_plastic[7].projection.get(\"weight\", format=\"array\")"
   ]
  },
  {
   "cell_type": "code",
   "execution_count": null,
   "id": "a8a69eb7-d8c4-4796-bfc4-618ec84d0139",
   "metadata": {},
   "outputs": [],
   "source": [
    "print(shtm.con_plastic[1].projection.post.get_data(\"spikes\").segments[-1].spiketrains)"
   ]
  },
  {
   "cell_type": "code",
   "execution_count": null,
   "id": "9fc57270-29e9-4bf2-8b50-44c435ffce45",
   "metadata": {},
   "outputs": [],
   "source": [
    "for a in range(alphabet_size):\n",
    "    spikes = [s.base for s in shtm.neurons_exc[a][1].get_data(\"spikes\").segments[-1].spiketrains]\n",
    "    new_spikes = []\n",
    "    for i in range(len(spikes)):\n",
    "        if len(spikes[i]) > 0:\n",
    "            new_spikes.append(float(spikes[i]))\n",
    "    new_spikes = sorted(new_spikes)\n",
    "    \n",
    "    if len(new_spikes) <= 0:\n",
    "        print(f\"No spikes for '{shtm.id_to_letter(a)}'\\n\")\n",
    "        continue\n",
    "        \n",
    "    print(f\"Spike times for '{shtm.id_to_letter(a)}'\")\n",
    "    print(f\"Min: {round(min(new_spikes), 8)}\")\n",
    "    print(f\"Max: {round(max(new_spikes), 8)}\")\n",
    "    print(f\"Diff: {round(max(new_spikes)-min(new_spikes), 8)}\\n\")"
   ]
  },
  {
   "cell_type": "code",
   "execution_count": null,
   "id": "100c5c0d-86b3-4177-9bb9-0a1fc1c9941a",
   "metadata": {},
   "outputs": [],
   "source": [
    "for a in range(alphabet_size):\n",
    "    spikes = [s.base for s in shtm.neurons_exc[a][1].get_data(\"spikes\").segments[-1].spiketrains]\n",
    "    new_spikes = []\n",
    "    for i in range(len(spikes)):\n",
    "        if len(spikes[i]) > 0:\n",
    "            new_spikes.append(float(spikes[i]))\n",
    "    new_spikes = sorted(new_spikes)\n",
    "    \n",
    "    if len(new_spikes) <= 0:\n",
    "        print(f\"No spikes for '{shtm.id_to_letter(a)}'\\n\")\n",
    "        continue\n",
    "        \n",
    "    print(f\"Spike times for '{shtm.id_to_letter(a)}'\")\n",
    "    print(f\"Min: {round(min(new_spikes), 8)}\")\n",
    "    print(f\"Max: {round(max(new_spikes), 8)}\")\n",
    "    print(f\"Diff: {round(max(new_spikes)-min(new_spikes), 8)}\\n\")"
   ]
  },
  {
   "cell_type": "markdown",
   "id": "f7653bfe-61c4-4661-aa6f-b097d3ea1c55",
   "metadata": {
    "jp-MarkdownHeadingCollapsed": true,
    "tags": []
   },
   "source": [
    "## Set new weights"
   ]
  },
  {
   "cell_type": "code",
   "execution_count": null,
   "id": "c8872506-e081-46f3-abec-e2a8cdb51aca",
   "metadata": {},
   "outputs": [],
   "source": [
    "new_weight = 450\n",
    "\n",
    "weights = shtm.con_plastic[1].projection.get(\"weight\", format=\"array\")\n",
    "# weights[[0, 1, 3], 6] = new_weight\n",
    "# weights[[4, 7, 9], 6] = 0\n",
    "print(weights)\n",
    "weights[weights > 0] = new_weight\n",
    "shtm.con_plastic[1].projection.set(weight=weights)\n",
    "shtm.con_plastic[1].mature_weight = new_weight\n",
    "\n",
    "shtm.con_plastic[1].projection.get(\"weight\", format=\"array\")"
   ]
  }
 ],
 "metadata": {
  "kernelspec": {
   "display_name": "EBRAINS-experimental",
   "language": "python",
   "name": "ebrains-experimental"
  },
  "language_info": {
   "codemirror_mode": {
    "name": "ipython",
    "version": 3
   },
   "file_extension": ".py",
   "mimetype": "text/x-python",
   "name": "python",
   "nbconvert_exporter": "python",
   "pygments_lexer": "ipython3",
   "version": "3.8.11"
  }
 },
 "nbformat": 4,
 "nbformat_minor": 5
}
