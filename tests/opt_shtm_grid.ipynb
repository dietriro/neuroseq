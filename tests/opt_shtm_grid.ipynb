{
 "cells": [
  {
   "cell_type": "code",
   "execution_count": null,
   "id": "da6fff6d8fe79392",
   "metadata": {
    "collapsed": false,
    "jupyter": {
     "outputs_hidden": false
    }
   },
   "outputs": [],
   "source": [
    "import sys\n",
    "import os \n",
    "import warnings\n",
    "import numpy as np\n",
    "\n",
    "pkg_path = os.path.abspath(os.path.join(os.getcwd(), os.pardir))\n",
    "sys.path.append(pkg_path)\n",
    "\n",
    "np.set_printoptions(threshold=np.inf, suppress=True, linewidth=np.inf)\n",
    "warnings.filterwarnings(action='ignore', category=UserWarning)\n",
    "\n",
    "import shtmbss2.addsrc\n",
    "from shtmbss2.common.config import *\n",
    "from shtmbss2.core.logging import log"
   ]
  },
  {
   "cell_type": "code",
   "execution_count": null,
   "id": "dde9bde8182ff286",
   "metadata": {},
   "outputs": [],
   "source": [
    "RuntimeConfig.backend = Backends.BRAIN_SCALES_2\n",
    "RuntimeConfig.plasticity_location = PlasticityLocation.ON_CHIP"
   ]
  },
  {
   "cell_type": "code",
   "execution_count": null,
   "id": "c8ba2d704f8c8046",
   "metadata": {},
   "outputs": [],
   "source": [
    "shtm = None\n",
    "if RuntimeConfig.backend == Backends.BRAIN_SCALES_2:\n",
    "    import shtmbss2.brainscales2.patches\n",
    "    from shtmbss2.brainscales2.hardware import hardware_initialization\n",
    "    from shtmbss2.brainscales2.network import SHTMTotal\n",
    "elif RuntimeConfig.backend == Backends.NEST:\n",
    "    from shtmbss2.nest.network import SHTMTotal\n",
    "    \n",
    "from shtmbss2.common.network import NeuronType, RecTypes\n",
    "from shtmbss2.common.optimization import GridSearch "
   ]
  },
  {
   "cell_type": "markdown",
   "id": "bff169e376da18af",
   "metadata": {},
   "source": [
    "## Config"
   ]
  },
  {
   "cell_type": "code",
   "execution_count": null,
   "id": "4349261b221dbf01",
   "metadata": {},
   "outputs": [],
   "source": [
    "log.handlers[LogHandler.STREAM].setLevel(logging.INFO)\n",
    "# log.handlers[LogHandler.FILE].setLevel(logging.ESSENS)"
   ]
  },
  {
   "cell_type": "code",
   "execution_count": null,
   "id": "57116ba03a673c05",
   "metadata": {},
   "outputs": [],
   "source": [
    "experiment_type = ExperimentType.OPT_GRID\n",
    "model_type = SHTMTotal\n",
    "experiment_id = \"no-calib_on-chip_no-dyn-inh\"\n",
    "experiment_num = None\n",
    "experiment_map = None"
   ]
  },
  {
   "cell_type": "markdown",
   "id": "1999e6665c11ee5",
   "metadata": {},
   "source": [
    "## Run"
   ]
  },
  {
   "cell_type": "code",
   "execution_count": null,
   "id": "initial_id",
   "metadata": {
    "scrolled": true,
    "tags": []
   },
   "outputs": [],
   "source": [
    "opt = GridSearch(experiment_type=experiment_type,\n",
    "                 model_type=model_type,\n",
    "                 experiment_id=experiment_id,\n",
    "                 experiment_map=experiment_map,\n",
    "                 experiment_num=experiment_num\n",
    "                 )\n",
    "\n",
    "opt.run(steps=50)"
   ]
  }
 ],
 "metadata": {
  "kernelspec": {
   "display_name": "EBRAINS-experimental",
   "language": "python",
   "name": "ebrains-experimental"
  },
  "language_info": {
   "codemirror_mode": {
    "name": "ipython",
    "version": 3
   },
   "file_extension": ".py",
   "mimetype": "text/x-python",
   "name": "python",
   "nbconvert_exporter": "python",
   "pygments_lexer": "ipython3",
   "version": "3.8.11"
  }
 },
 "nbformat": 4,
 "nbformat_minor": 5
}
