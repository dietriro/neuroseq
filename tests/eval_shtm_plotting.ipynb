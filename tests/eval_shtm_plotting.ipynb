{
 "cells": [
  {
   "metadata": {},
   "cell_type": "markdown",
   "source": "## Imports",
   "id": "b143c4acef97107f"
  },
  {
   "metadata": {},
   "cell_type": "code",
   "outputs": [],
   "execution_count": null,
   "source": [
    "import sys\n",
    "import os \n",
    "import warnings\n",
    "import numpy as np\n",
    "\n",
    "pkg_path = os.path.abspath(os.path.join(os.getcwd(), os.pardir))\n",
    "sys.path.append(pkg_path)\n",
    "\n",
    "np.set_printoptions(threshold=np.inf, suppress=True, linewidth=np.inf)\n",
    "warnings.filterwarnings(action='ignore', category=UserWarning)\n",
    "\n",
    "import shtmbss2.addsrc\n",
    "from shtmbss2.common.config import *\n",
    "from shtmbss2.core.logging import log"
   ],
   "id": "initial_id"
  },
  {
   "metadata": {},
   "cell_type": "code",
   "outputs": [],
   "execution_count": null,
   "source": [
    "RuntimeConfig.backend = Backends.BRAIN_SCALES_2\n",
    "RuntimeConfig.plasticity_location = PlasticityLocation.ON_CHIP"
   ],
   "id": "b445dd74f0f02ef5"
  },
  {
   "metadata": {},
   "cell_type": "code",
   "outputs": [],
   "execution_count": null,
   "source": [
    "shtm = None\n",
    "offset = 0\n",
    "if RuntimeConfig.backend == Backends.BRAIN_SCALES_2:\n",
    "    from pynn_brainscales import brainscales2 as pynn\n",
    "    from shtmbss2.brainscales2.network import SHTMTotal\n",
    "elif RuntimeConfig.backend == Backends.NEST:\n",
    "    from shtmbss2.nest.network import SHTMTotal\n",
    "    \n",
    "from shtmbss2.common.network import NeuronType, RecTypes"
   ],
   "id": "9a137b33463b9ceb"
  },
  {
   "metadata": {},
   "cell_type": "markdown",
   "source": "## Event figure from data",
   "id": "34e69500ccea25e0"
  },
  {
   "metadata": {},
   "cell_type": "code",
   "outputs": [],
   "execution_count": null,
   "source": [
    "# RuntimeConfig.subnum_digits = 4\n",
    "shtm = SHTMTotal.load_full_state(SHTMTotal, \"bss2-onchip_w-diw_s1\", 1, \n",
    "                                 experiment_type=ExperimentType.EVAL_SINGLE)"
   ],
   "id": "958c5b602dc9a01f"
  },
  {
   "metadata": {},
   "cell_type": "code",
   "outputs": [],
   "execution_count": null,
   "source": [
    "%matplotlib inline\n",
    "from shtmbss2.core.data import get_experiment_folder\n",
    "\n",
    "run_length = shtm.p.experiment.runtime / shtm.p.encoding.num_repetitions\n",
    "perf_run = np.ceil(shtm.p.plasticity.execution_start / run_length) - 1\n",
    "\n",
    "run = 0\n",
    "\n",
    "shtm.experiment_num = 1\n",
    "# shtm.p.experiment.id = \"bss2-onchip_wo-diw_s1\"\n",
    "folder_path = get_experiment_folder(shtm, shtm.p.experiment.type, shtm.p.experiment.id, shtm.experiment_num,\n",
    "                                            experiment_subnum=shtm.experiment_subnum, instance_id=shtm.instance_id)\n",
    "file_path_fig = join(folder_path, \"events\")\n",
    "\n",
    "shtm.p_plot.load_default_params()\n",
    "\n",
    "shtm.plot_events(neuron_types=\"all\", size=(24, 10), \n",
    "            # window=\"final\", \n",
    "            x_lim_lower=run*(shtm.p.experiment.runtime / shtm.p.encoding.num_repetitions), x_lim_upper=(run+1)*(shtm.p.experiment.runtime / shtm.p.encoding.num_repetitions) -shtm.p.encoding.dt_seq*0.9,\n",
    "            show_grid=False,\n",
    "            separate_seqs=True,\n",
    "            fig_title=\"Events of BSS-2-MC with BSS-2 sSTDP (on-chip), with DIW on S1 (v1)\",\n",
    "            file_path=file_path_fig\n",
    "            )"
   ],
   "id": "c3b3370e6700fea1"
  }
 ],
 "metadata": {
  "kernelspec": {
   "display_name": "Python 3",
   "language": "python",
   "name": "python3"
  },
  "language_info": {
   "codemirror_mode": {
    "name": "ipython",
    "version": 2
   },
   "file_extension": ".py",
   "mimetype": "text/x-python",
   "name": "python",
   "nbconvert_exporter": "python",
   "pygments_lexer": "ipython2",
   "version": "2.7.6"
  }
 },
 "nbformat": 4,
 "nbformat_minor": 5
}
