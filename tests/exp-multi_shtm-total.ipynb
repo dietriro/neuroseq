{
 "cells": [
  {
   "cell_type": "markdown",
   "id": "52b58d810ad98742",
   "metadata": {},
   "source": [
    "## Imports"
   ]
  },
  {
   "cell_type": "code",
   "id": "23dafa63-042c-4477-8c6d-602d94a5a1f2",
   "metadata": {},
   "source": [
    "import sys\n",
    "import os \n",
    "import warnings\n",
    "import numpy as np\n",
    "\n",
    "pkg_path = os.path.abspath(os.path.join(os.getcwd(), os.pardir))\n",
    "sys.path.append(pkg_path)\n",
    "\n",
    "np.set_printoptions(threshold=np.inf, suppress=True, linewidth=np.inf)\n",
    "warnings.filterwarnings(action='ignore', category=UserWarning)\n",
    "\n",
    "import shtmbss2.addsrc\n",
    "# from shtmbss2.common.config import RuntimeConfig, Backends\n",
    "from shtmbss2.common.config import *\n",
    "from shtmbss2.core.logging import log"
   ],
   "outputs": [],
   "execution_count": null
  },
  {
   "cell_type": "code",
   "id": "988a60b9-2c0f-4632-a2c4-c75a7c69ba24",
   "metadata": {},
   "source": [
    "RuntimeConfig.backend = Backends.NEST"
   ],
   "outputs": [],
   "execution_count": null
  },
  {
   "cell_type": "code",
   "id": "4e69e4f1-505e-4e59-a190-bd4d0e3d34af",
   "metadata": {},
   "source": [
    "if RuntimeConfig.backend == Backends.BRAIN_SCALES_2:\n",
    "    from shtmbss2.brainscales2.network import SHTMTotal\n",
    "    from shtmbss2.brainscales2.hardware import hardware_initialization\n",
    "    hardware_initialization()\n",
    "elif RuntimeConfig.backend == Backends.NEST:\n",
    "    from shtmbss2.nest.network import SHTMTotal\n",
    "    \n",
    "from shtmbss2.common.network import NeuronType, RecTypes\n",
    "from shtmbss2.common.executor import ParallelExecutor\n",
    "from shtmbss2.core.performance import PerformanceMulti\n",
    "from shtmbss2.core.parameters import NetworkParameters, PlottingParameters"
   ],
   "outputs": [],
   "execution_count": null
  },
  {
   "cell_type": "markdown",
   "id": "e94e5471f416062e",
   "metadata": {},
   "source": [
    "## Config"
   ]
  },
  {
   "cell_type": "code",
   "id": "f49761f0c879ce36",
   "metadata": {
    "collapsed": false
   },
   "source": [
    "num_instances = 5\n",
    "experiment_id = 'test'\n",
    "experiment_num = 1"
   ],
   "outputs": [],
   "execution_count": null
  },
  {
   "cell_type": "markdown",
   "id": "2a354e6fbee56a89",
   "metadata": {},
   "source": [
    "## Simulation"
   ]
  },
  {
   "cell_type": "code",
   "id": "d76c44628821a262",
   "metadata": {
    "collapsed": false,
    "scrolled": true,
    "tags": []
   },
   "source": [
    "pe = ParallelExecutor(num_instances=num_instances, experiment_id=experiment_id, fig_save=True)\n",
    "\n",
    "experiment_num = pe.run(steps=100)"
   ],
   "outputs": [],
   "execution_count": null
  },
  {
   "cell_type": "markdown",
   "id": "ee28da30695ed095",
   "metadata": {},
   "source": [
    "## Evaluation"
   ]
  },
  {
   "cell_type": "code",
   "id": "df3a7c55786f955b",
   "metadata": {
    "collapsed": false
   },
   "source": [
    "# %matplotlib inline\n",
    "\n",
    "p = NetworkParameters(network_type=SHTMTotal)\n",
    "p.load_experiment_params(experiment_type=ExperimentType.EVAL_MULTI, experiment_id=experiment_id, experiment_num=experiment_num)\n",
    "\n",
    "pf = PerformanceMulti(p, num_instances)\n",
    "pf.load_data(SHTMTotal, experiment_type=ExperimentType.EVAL_MULTI, experiment_id=experiment_id, experiment_num=experiment_num)\n",
    "\n",
    "p_plot = PlottingParameters(network_type=SHTMTotal)\n",
    "p_plot.load_default_params()\n",
    "\n",
    "axs, fig = pf.plot(plt_config=p_plot, statistic=StatisticalMetrics.MEDIAN)"
   ],
   "outputs": [],
   "execution_count": null
  }
 ],
 "metadata": {
  "kernelspec": {
   "name": "htm-on-bss2",
   "language": "python",
   "display_name": "htm-on-bss2"
  },
  "language_info": {
   "codemirror_mode": {
    "name": "ipython",
    "version": 3
   },
   "file_extension": ".py",
   "mimetype": "text/x-python",
   "name": "python",
   "nbconvert_exporter": "python",
   "pygments_lexer": "ipython3",
   "version": "3.8.11"
  }
 },
 "nbformat": 4,
 "nbformat_minor": 5
}
