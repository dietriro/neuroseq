{
 "cells": [
  {
   "cell_type": "code",
   "execution_count": 1,
   "id": "a1ec421b8347a45b",
   "metadata": {
    "ExecuteTime": {
     "end_time": "2023-08-03T10:00:03.421299530Z",
     "start_time": "2023-08-03T10:00:02.160457749Z"
    }
   },
   "outputs": [],
   "source": [
    "import numpy as np\n",
    "import quantities\n",
    "\n",
    "from matplotlib import pyplot as plt\n",
    "from dlens_vx_v3 import hxcomm\n",
    "from tabulate import tabulate\n",
    "\n",
    "from pynn_brainscales import brainscales2 as pynn\n",
    "from pynn_brainscales.brainscales2.standardmodels.cells import SpikeSourceArray\n",
    "from pynn_brainscales.brainscales2.standardmodels.synapses import StaticSynapse\n",
    "\n",
    "from _static.common.helpers import setup_hardware_client\n",
    "from _static.common.helpers import get_nightly_calibration"
   ]
  },
  {
   "cell_type": "code",
   "execution_count": 2,
   "id": "7619a75fa5cb0263",
   "metadata": {},
   "outputs": [],
   "source": [
    "## Configuration\n",
    "wait_before_experiment = 0.003 * quantities.ms\n",
    "isi = 1 * quantities.us"
   ]
  },
  {
   "cell_type": "code",
   "execution_count": 3,
   "id": "9526ba0b1734a7f2",
   "metadata": {
    "tags": []
   },
   "outputs": [
    {
     "name": "stdout",
     "output_type": "stream",
     "text": [
      "\u001b[32mINFO  \u001b[0m12:11:34,341  demo_helpers Using setup hxcube7fpga0chip57_1\n"
     ]
    }
   ],
   "source": [
    "### General Setup\n",
    "\n",
    "# Setup BrainScaleS-2\n",
    "setup_hardware_client()\n",
    "\n",
    "# setup PyNN and set calibration cache path\n",
    "from pathlib import Path\n",
    "pynn.setup(calibration_cache=[Path(\".calix\")])"
   ]
  },
  {
   "cell_type": "code",
   "execution_count": 4,
   "id": "e14445865a560132",
   "metadata": {},
   "outputs": [],
   "source": [
    "### Network Structure\n",
    "\n",
    "\n",
    "## Create and initialize neuronal population with 3 neurons:\n",
    "# - dendritic compartment\n",
    "# - somatic compartment\n",
    "# - reference/point neuron\n",
    "pop_out = pynn.Population(3, pynn.cells.CalibHXNeuronCuba(v_thresh=100, v_reset=[70, 100, 70], tau_refrac=[10, 50, 10]))\n",
    "\n",
    "ref_neuron = pynn.PopulationView(pop_out, slice(0, 1))\n",
    "dendrite = pynn.PopulationView(pop_out, slice(1, 2))\n",
    "soma = pynn.PopulationView(pop_out, slice(2, 3))\n",
    "\n",
    "# Define input spikes, population and connections for dendritic coincidence spikes\n",
    "spikes_coincidence = wait_before_experiment + np.arange(5) * isi\n",
    "spikes_coincidence = np.array(spikes_coincidence.rescale(quantities.ms))\n",
    "pop_in_dendritic = pynn.Population(2, # ToDo: Why 2 neurons?\n",
    "                               SpikeSourceArray(spike_times=spikes_coincidence))\n",
    "exc_proj = pynn.Projection(pop_in_dendritic, dendrite,\n",
    "                           pynn.AllToAllConnector(),\n",
    "                           synapse_type=StaticSynapse(weight=63),\n",
    "                           receptor_type=\"excitatory\")\n",
    "\n",
    "# Define input spikes, population and connections for somatic spikes\n",
    "pop_in_soma = pynn.Population(4,    # ToDo: Why 4 neurons?\n",
    "                SpikeSourceArray(spike_times=[0.025]))\n",
    "pynn.Projection(pop_in_soma, soma,\n",
    "                pynn.AllToAllConnector(),\n",
    "                synapse_type=StaticSynapse(weight=40),\n",
    "                receptor_type=\"excitatory\")\n",
    "pynn.Projection(pop_in_soma, ref_neuron,\n",
    "                pynn.AllToAllConnector(),\n",
    "                synapse_type=StaticSynapse(weight=40),\n",
    "                receptor_type=\"excitatory\")\n",
    "\n",
    "pynn.preprocess()\n",
    "\n",
    "dendrite.actual_hwparams[0].multicompartment.enable_conductance = True\n",
    "dendrite.actual_hwparams[0].multicompartment.i_bias_nmda = 30\n",
    "dendrite.actual_hwparams[0].multicompartment.connect_soma_right = True\n",
    "dendrite.actual_hwparams[0].refractory_period.reset_holdoff = 0\n",
    "\n",
    "soma.actual_hwparams[0].multicompartment.connect_soma = True"
   ]
  },
  {
   "cell_type": "code",
   "execution_count": 5,
   "id": "3a0223a013aaae84",
   "metadata": {},
   "outputs": [
    {
     "name": "stdout",
     "output_type": "stream",
     "text": [
      "Neuron          Spike 0\n",
      "------------  ---------\n",
      "point neuron    0.02734\n",
      "dendrite        0.0053\n",
      "soma            0.02691\n",
      "\n"
     ]
    },
    {
     "data": {
      "image/png": "[encoded data removed]",
      "text/plain": [
       "<Figure size 432x288 with 3 Axes>"
      ]
     },
     "metadata": {
      "needs_background": "light"
     },
     "output_type": "display_data"
    }
   ],
   "source": [
    "### Emulation and Plotting\n",
    "\n",
    "%matplotlib inline\n",
    "\n",
    "# Define neurons to be recorded\n",
    "recorded_neurons = [0, 1, 2]\n",
    "labels = [\"point neuron\", \"dendrite\", \"soma\"]\n",
    "fig, axs = plt.subplots(len(recorded_neurons), 1, sharex=\"all\")\n",
    "spike_times = []\n",
    "num_spikes = 0\n",
    "\n",
    "## Run network and plot results\n",
    "for idx, neuron_id in enumerate(recorded_neurons):\n",
    "    # Define neuron to be recorded in this run\n",
    "    p_view = pynn.PopulationView(pop_out, [neuron_id])\n",
    "    p_view.record([\"v\", \"spikes\"])\n",
    "    \n",
    "    # Run simulation for 0.08 seconds\n",
    "    pynn.run(0.08)\n",
    "    \n",
    "    # Retrieve voltage and spikes from recorded neuron\n",
    "    mem_v = p_view.get_data(\"v\").segments[-1].irregularlysampledsignals[0]\n",
    "    spikes = p_view.get_data(\"spikes\").segments[-1].spiketrains\n",
    "    \n",
    "    # Print spikes \n",
    "    spike_times.append([labels[idx],] + np.array(spikes.multiplexed[1]).round(5).tolist())\n",
    "    num_spikes = max(num_spikes, len(spikes.multiplexed[1]))\n",
    "    \n",
    "    # Plot \n",
    "    axs[idx].plot(mem_v.times, mem_v, alpha=0.5, label=labels[idx])\n",
    "    axs[idx].legend()\n",
    "    #axs[idx].set_ylim(100, 800)\n",
    "    pynn.reset()\n",
    "    pop_out.record(None)\n",
    "\n",
    "# Print spike times\n",
    "header_spikes = [f'Spike {i}' for i in range(num_spikes)]\n",
    "print(tabulate(spike_times, headers=['Neuron'] + header_spikes) + '\\n')\n",
    "\n",
    "# Update figure, save and show it\n",
    "axs[-1].set_xlabel(\"time [ms]\")\n",
    "fig.text(0.025, 0.5, \"membrane potential [a.u.]\", va=\"center\", rotation=\"vertical\")\n",
    "plt.savefig(\"excitatory_neuron.pdf\")"
   ]
  },
  {
   "cell_type": "code",
   "execution_count": null,
   "id": "c8166195-2581-44f0-9b2f-5c361714827f",
   "metadata": {},
   "outputs": [],
   "source": []
  }
 ],
 "metadata": {
  "kernelspec": {
   "display_name": "EBRAINS-experimental",
   "language": "python",
   "name": "ebrains-experimental"
  },
  "language_info": {
   "codemirror_mode": {
    "name": "ipython",
    "version": 3
   },
   "file_extension": ".py",
   "mimetype": "text/x-python",
   "name": "python",
   "nbconvert_exporter": "python",
   "pygments_lexer": "ipython3",
   "version": "3.8.11"
  }
 },
 "nbformat": 4,
 "nbformat_minor": 5
}
