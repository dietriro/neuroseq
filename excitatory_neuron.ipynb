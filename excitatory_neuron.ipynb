{
 "cells": [
  {
   "cell_type": "code",
   "execution_count": 11,
   "id": "913f6805",
   "metadata": {},
   "outputs": [],
   "source": [
    "import numpy as np\n",
    "from pynn_brainscales import brainscales2 as pynn\n",
    "from pynn_brainscales.brainscales2.morphology import create_mc_neuron, \\\n",
    "    Compartment, SharedLineConnection\n",
    "from pynn_brainscales.brainscales2.standardmodels.cells import SpikeSourceArray\n",
    "from pynn_brainscales.brainscales2.standardmodels.synapses import StaticSynapse\n",
    "import quantities\n",
    "from matplotlib import pyplot as plt"
   ]
  },
  {
   "cell_type": "code",
   "execution_count": 12,
   "id": "5db08751",
   "metadata": {},
   "outputs": [
    {
     "name": "stdout",
     "output_type": "stream",
     "text": [
      "hxcube6fpga3chip66_1\n"
     ]
    }
   ],
   "source": [
    "from dlens_vx_v3 import hxcomm\n",
    "with hxcomm.ManagedConnection() as conn:\n",
    "    print(conn.get_unique_identifier())"
   ]
  },
  {
   "cell_type": "code",
   "execution_count": 13,
   "id": "61f24878",
   "metadata": {},
   "outputs": [
    {
     "name": "stdout",
     "output_type": "stream",
     "text": [
      "1.024e-06\n"
     ]
    }
   ],
   "source": [
    "from _static.common.helpers import setup_hardware_client\n",
    "setup_hardware_client()\n",
    "\n",
    "from _static.common.helpers import get_nightly_calibration\n",
    "calib = get_nightly_calibration()\n",
    "\n",
    "refractory_clock_scale = 7\n",
    "\n",
    "for backend in calib.neuron_block.backends:\n",
    "    backend.clock_scale_fast = refractory_clock_scale\n",
    "    \n",
    "period_refractory_clock = 1. / (250e6 / 2**(refractory_clock_scale + 1))\n",
    "print(period_refractory_clock)\n",
    "\n",
    "# setup PyNN and inject calibration data\n",
    "pynn.setup(initial_config=calib)"
   ]
  },
  {
   "cell_type": "code",
   "execution_count": 17,
   "id": "3e4d1142",
   "metadata": {},
   "outputs": [
    {
     "name": "stdout",
     "output_type": "stream",
     "text": [
      "0 [<SpikeTrain(array([0.028408]) * ms, [0.0 ms, 0.08 ms])>]\n",
      "1 [<SpikeTrain(array([0.005528]) * ms, [0.0 ms, 0.08 ms])>]\n",
      "2 [<SpikeTrain(array([0.027024]) * ms, [0.0 ms, 0.08 ms])>]\n"
     ]
    },
    {
     "data": {
      "image/png": "[encoded data removed]",
      "text/plain": [
       "<Figure size 432x288 with 3 Axes>"
      ]
     },
     "metadata": {
      "needs_background": "light"
     },
     "output_type": "display_data"
    }
   ],
   "source": [
    "%matplotlib inline\n",
    "\n",
    "all_neurons = pynn.Population(3, pynn.cells.HXNeuron(threshold_v_threshold=300))\n",
    "\n",
    "ref_neuron = pynn.PopulationView(all_neurons, [0])\n",
    "dendrite = pynn.PopulationView(all_neurons, [1])\n",
    "soma = pynn.PopulationView(all_neurons, [2])\n",
    "                                                                                                                                                             \n",
    "dendrite.set(\n",
    "    multicompartment_enable_conductance=True,\n",
    "    multicompartment_i_bias_nmda=30,\n",
    "    multicompartment_connect_soma_right=True,\n",
    "    reset_v_reset=800,\n",
    "    refractory_period_reset_holdoff=0,\n",
    "    refractory_period_refractory_time=75,\n",
    ")\n",
    "\n",
    "ref_neuron.set(\n",
    "    refractory_period_refractory_time=10,\n",
    ")\n",
    "\n",
    "soma.set(\n",
    "    multicompartment_connect_soma=True,\n",
    "    refractory_period_refractory_time=10,\n",
    ")\n",
    "\n",
    "wait_before_experiment = 0.003 * quantities.ms\n",
    "isi = 1 * quantities.us\n",
    "exc_spikes = wait_before_experiment + np.arange(5) * isi\n",
    "exc_spikes = np.array(exc_spikes.rescale(quantities.ms))\n",
    "\n",
    "exc_stim_pop = pynn.Population(2,\n",
    "                               SpikeSourceArray(spike_times=exc_spikes))\n",
    "exc_proj = pynn.Projection(exc_stim_pop, dendrite,\n",
    "                           pynn.AllToAllConnector(),\n",
    "                           synapse_type=StaticSynapse(weight=63),\n",
    "                           receptor_type=\"excitatory\")\n",
    "\n",
    "asdf = pynn.Population(4,\n",
    "                SpikeSourceArray(spike_times=[0.025]))\n",
    "pynn.Projection(asdf, soma,\n",
    "                pynn.AllToAllConnector(),\n",
    "                synapse_type=StaticSynapse(weight=40),\n",
    "                receptor_type=\"excitatory\")\n",
    "pynn.Projection(asdf, ref_neuron,\n",
    "                pynn.AllToAllConnector(),\n",
    "                synapse_type=StaticSynapse(weight=40),\n",
    "                receptor_type=\"excitatory\")\n",
    "\n",
    "recorded_neurons = [0, 1, 2]\n",
    "labels = [\"point neuron\", \"dendrite\", \"soma\"]\n",
    "fig, axs = plt.subplots(len(recorded_neurons), 1, sharex=\"all\")\n",
    "\n",
    "for idx, neuron_id in enumerate(recorded_neurons):\n",
    "    p_view = pynn.PopulationView(all_neurons, [neuron_id])\n",
    "    p_view.record([\"v\", \"spikes\"])\n",
    "    pynn.run(0.08)\n",
    "    mem_v = p_view.get_data(\"v\").segments[-1].irregularlysampledsignals[0]\n",
    "    spikes = p_view.get_data(\"spikes\").segments[-1].spiketrains\n",
    "    print(idx, spikes)\n",
    "    axs[idx].plot(mem_v.times, mem_v, alpha=0.5, label=labels[idx])\n",
    "    axs[idx].legend()\n",
    "    #axs[idx].set_ylim(100, 800)\n",
    "    pynn.reset()\n",
    "    all_neurons.record(None)\n",
    "\n",
    "axs[-1].set_xlabel(\"time [ms]\")\n",
    "fig.text(0.025, 0.5, \"membrane potential [a.u.]\", va=\"center\", rotation=\"vertical\")\n",
    "plt.savefig(\"excitatory_neuron.pdf\")"
   ]
  },
  {
   "cell_type": "code",
   "execution_count": null,
   "id": "a318058f",
   "metadata": {},
   "outputs": [],
   "source": []
  },
  {
   "cell_type": "code",
   "execution_count": null,
   "id": "bf519234",
   "metadata": {},
   "outputs": [],
   "source": []
  },
  {
   "cell_type": "code",
   "execution_count": null,
   "id": "7ec18683",
   "metadata": {},
   "outputs": [],
   "source": []
  },
  {
   "cell_type": "code",
   "execution_count": null,
   "id": "1d65a023",
   "metadata": {},
   "outputs": [],
   "source": []
  }
 ],
 "metadata": {
  "kernelspec": {
   "display_name": "Python 3 (BSS-2)",
   "language": "python",
   "name": "python3"
  },
  "language_info": {
   "codemirror_mode": {
    "name": "ipython",
    "version": 3
   },
   "file_extension": ".py",
   "mimetype": "text/x-python",
   "name": "python",
   "nbconvert_exporter": "python",
   "pygments_lexer": "ipython3",
   "version": "3.8.2"
  }
 },
 "nbformat": 4,
 "nbformat_minor": 5
}
