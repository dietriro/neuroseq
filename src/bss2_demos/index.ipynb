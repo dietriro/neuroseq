{
 "cells": [
  {
   "cell_type": "markdown",
   "id": "54fab75d",
   "metadata": {},
   "source": [
    "# Welcome to the BrainScaleS-2 Demos & Examples!"
   ]
  },
  {
   "cell_type": "markdown",
   "id": "a9738849",
   "metadata": {},
   "source": [
    "# Demos and Examples\n",
    "\n",
    "- [Welcome to the BrainScaleS-2 Tutorial](tutorial.ipynb)\n",
    "  - [BrainScaleS-2 single neuron experiments](ts_00-single_neuron.ipynb)\n",
    "  - [Learning with the SuperSpike rule](ts_01-superspike.ipynb)\n",
    "  - [Introduction to matrix multiplication](tp_00-introduction.ipynb)\n",
    "  - [Exploring the analog MAC operation](tp_01-properties.ipynb)\n",
    "  - [Train DNNs on BrainScaleS-2](tp_02-yin_yang.ipynb)\n",
    "  - [BrainScaleS-2 on-chip plasticity experiment](ts_02-plasticity_rate_coding.ipynb)\n",
    "  - [Structured Neurons](ts_03-multicompartment.ipynb)\n",
    "  - [How to use Genetic Algorithms to automatically parameterize BrainScaleS-2](ts_04-mc_genetic_algorithms.ipynb)\n",
    "  - [Training an SNN on BrainScaleS-2 with PyTorch](ts_05-yin_yang.ipynb)\n",
    "  - [Executing the Notebooks](tutorial.ipynb#executing-the-notebooks)\n",
    "  - [Shared Hardware Resources](tutorial.ipynb#shared-hardware-resources)\n",
    "  - [Final test: Hardware Execution](tutorial.ipynb#final-test-hardware-execution)\n",
    "- [BrainScaleS-2 single neuron experiments](ts_00-single_neuron.ipynb)\n",
    "  - [A silent neuron](ts_00-single_neuron.ipynb#a-silent-neuron)\n",
    "  - [Leak over threshold](ts_00-single_neuron.ipynb#leak-over-threshold)\n",
    "  - [Fixed-pattern variations](ts_00-single_neuron.ipynb#fixed-pattern-variations)\n",
    "  - [Summary](ts_00-single_neuron.ipynb#summary)\n",
    "  - [Outlook: External stimulation](ts_00-single_neuron.ipynb#outlook-external-stimulation)\n",
    "- [Learning with the SuperSpike rule](ts_01-superspike.ipynb)\n",
    "  - [Training spiking networks with surrogate gradients](ts_01-superspike.ipynb#training-spiking-networks-with-surrogate-gradients)\n",
    "  - [Helper functions](ts_01-superspike.ipynb#helper-functions)\n",
    "  - [Define network in PyNN](ts_01-superspike.ipynb#define-network-in-pynn)\n",
    "  - [Construct Poisson input spike trains](ts_01-superspike.ipynb#construct-poisson-input-spike-trains)\n",
    "  - [Generating a taget spike train](ts_01-superspike.ipynb#generating-a-taget-spike-train)\n",
    "  - [The SuperSpike learning rule](ts_01-superspike.ipynb#the-superspike-learning-rule)\n",
    "  - [Training the network](ts_01-superspike.ipynb#training-the-network)\n",
    "- [BrainScaleS-2 on-chip plasticity experiment](ts_02-plasticity_rate_coding.ipynb)\n",
    "  - [Controlling the on-chip plasticity processor](ts_02-plasticity_rate_coding.ipynb#controlling-the-on-chip-plasticity-processor)\n",
    "  - [The plasticity kernel](ts_02-plasticity_rate_coding.ipynb#the-plasticity-kernel)\n",
    "  - [The experiment](ts_02-plasticity_rate_coding.ipynb#the-experiment)\n",
    "- [Structured Neurons](ts_03-multicompartment.ipynb)\n",
    "  - [Imports and Calibration](ts_03-multicompartment.ipynb#imports-and-calibration)\n",
    "  - [Constructing a Compartment Chain](ts_03-multicompartment.ipynb#constructing-a-compartment-chain)\n",
    "  - [External Input and Experiment Definition](ts_03-multicompartment.ipynb#external-input-and-experiment-definition)\n",
    "  - [Performing the Experiment](ts_03-multicompartment.ipynb#performing-the-experiment)\n",
    "- [How to use Genetic Algorithms to automatically parameterize BrainScaleS-2](ts_04-mc_genetic_algorithms.ipynb)\n",
    "  - [Constructing the Compartment Chain in PyNN](ts_04-mc_genetic_algorithms.ipynb#constructing-the-compartment-chain-in-pynn)\n",
    "  - [Genetic Algorithm](ts_04-mc_genetic_algorithms.ipynb#genetic-algorithm)\n",
    "  - [References](ts_04-mc_genetic_algorithms.ipynb#references)\n",
    "- [Training an SNN on BrainScaleS-2 with PyTorch](ts_05-yin_yang.ipynb)\n",
    "  - [References and further reading](ts_05-yin_yang.ipynb#references-and-further-reading)\n",
    "- [Exploring the dynamic range](ts_06-dynamic_range.ipynb)\n",
    "  - [Define network in PyNN](ts_06-dynamic_range.ipynb#define-network-in-pynn)\n",
    "- [Introduction to matrix multiplication](tp_00-introduction.ipynb)\n",
    "  - [Principles](tp_00-introduction.ipynb#principles)\n",
    "  - [Example](tp_00-introduction.ipynb#example)\n",
    "- [Exploring the analog MAC operation](tp_01-properties.ipynb)\n",
    "  - [The `hxtorch` API](tp_01-properties.ipynb#the-hxtorch-api)\n",
    "  - [Noise and fixed-pattern deviations](tp_01-properties.ipynb#noise-and-fixed-pattern-deviations)\n",
    "  - [Linearity of the MAC operation](tp_01-properties.ipynb#linearity-of-the-mac-operation)\n",
    "- [Train DNNs on BrainScaleS-2](tp_02-yin_yang.ipynb)\n",
    "  - [Hardware in the loop](tp_02-yin_yang.ipynb#hardware-in-the-loop)\n",
    "  - [Simulating hardware: The mock mode](tp_02-yin_yang.ipynb#simulating-hardware-the-mock-mode)\n",
    "  - [Example application: the Yin-Yang dataset](tp_02-yin_yang.ipynb#example-application-the-yin-yang-dataset)\n",
    "- [Introduction to the non-interactive queue runner](nmpi_00-non_interactive_queue_runner.ipynb)\n",
    "  - [First Experiment](nmpi_00-non_interactive_queue_runner.ipynb#first-experiment)\n",
    "  - [Second Experiment](nmpi_00-non_interactive_queue_runner.ipynb#second-experiment)\n",
    "  - [Third Experiment: Fixed-pattern noise](nmpi_00-non_interactive_queue_runner.ipynb#third-experiment-fixed-pattern-noise)\n",
    "  - [Fourth Experiment: External stimulation](nmpi_00-non_interactive_queue_runner.ipynb#fourth-experiment-external-stimulation)"
   ]
  },
  {
   "cell_type": "markdown",
   "id": "f3341c23",
   "metadata": {},
   "source": [
    "# Girls' Day\n",
    "\n",
    "- [Wie verarbeitet unser Gehirn Informationen?](girlsday.ipynb)\n",
    "- [Unsere neuromorphe Hardware](gs_01_neuromorphic_hardware.ipynb)\n",
    "- [Wie können wir mit den künstlichen Nervenzellen kommunizieren?](gs_02_pynn_introduction.ipynb)\n",
    "- [Experimente mit einer einzelnen Nervenzelle](gs_03_single_neuron.ipynb)\n",
    "- [Experimente mit mehreren Nervenzellen Teil 1](gs_04-1_multiple_neurons_feuerkette.ipynb)\n",
    "- [Experimente mit mehreren Nervenzellen Teil 2](gs_04-2_multiple_neurons_sudoku.ipynb)\n",
    "- [Maschinelles Lernen](gs_05_machine_learning.ipynb)\n",
    "- [Neuronenverbindungen - Synapsen](gs_06_logik_operationen.ipynb)\n",
    "- [Synapsennetzwerke](gs_06_logik_operationen.ipynb#synapsennetzwerke)"
   ]
  },
  {
   "cell_type": "markdown",
   "id": "ab676283",
   "metadata": {},
   "source": [
    "# Advanced Physics Lab for Physicists\n",
    "\n",
    "- [Welcome to the Advanced Physics Lab for Physicists by the Electronic Vision(s) Group](fortgeschrittenen_praktikum.ipynb)\n",
    "- [Introduction to PyNN](fp_pynn_introduction.ipynb)\n",
    "- [Binary operations using spiking neurons](fp_binary_operations.ipynb)\n",
    "- [Sudoku](fp_sudoku.ipynb)"
   ]
  }
 ],
 "metadata": {
  "date": 1690188826.8456063,
  "filename": "index.rst",
  "kernelspec": {
   "display_name": "EBRAINS-experimental",
   "language": "python",
   "name": "ebrains-experimental"
  },
  "title": "Welcome to the BrainScaleS-2 Demos & Examples!"
 },
 "nbformat": 4,
 "nbformat_minor": 5
}